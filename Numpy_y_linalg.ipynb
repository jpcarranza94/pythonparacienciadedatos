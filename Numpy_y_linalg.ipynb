{
  "nbformat": 4,
  "nbformat_minor": 0,
  "metadata": {
    "kernelspec": {
      "display_name": "Python 3",
      "language": "python",
      "name": "python3"
    },
    "language_info": {
      "codemirror_mode": {
        "name": "ipython",
        "version": 3
      },
      "file_extension": ".py",
      "mimetype": "text/x-python",
      "name": "python",
      "nbconvert_exporter": "python",
      "pygments_lexer": "ipython3",
      "version": "3.7.2"
    },
    "colab": {
      "name": "Numpy y linalg.ipynb",
      "provenance": [],
      "collapsed_sections": [
        "QXhBId-pA1Gf",
        "WWSKeAbvA1G-",
        "Tmw07wfxA1HU",
        "U7vfGs0_A1H5",
        "yiv9Y1O_A1IB"
      ],
      "include_colab_link": true
    }
  },
  "cells": [
    {
      "cell_type": "markdown",
      "metadata": {
        "id": "view-in-github",
        "colab_type": "text"
      },
      "source": [
        "<a href=\"https://colab.research.google.com/github/jpcarranza94/pythonparacienciadedatos/blob/master/Numpy_y_linalg.ipynb\" target=\"_parent\"><img src=\"https://colab.research.google.com/assets/colab-badge.svg\" alt=\"Open In Colab\"/></a>"
      ]
    },
    {
      "cell_type": "markdown",
      "metadata": {
        "id": "z8yxhgJEA1Dx",
        "colab_type": "text"
      },
      "source": [
        "# NumPy y algebra lineal(parte 1) \n",
        "\n",
        "\n",
        "* Su nombre se deriva de Numeric Python\n",
        "* Es una libreria amplia:   user guide de casi 200 pagina, reference manual mas de 1500\n",
        "    * np. <tab> para ver opciones\n",
        "    * np.lookfor? , help(np.lookfor)\n",
        "    * np.lookfor(“cosine”)\n",
        "    * np.cos? , help(np.cos)\n",
        "* Paquete fundamental de computación científica en Python y báse para otros paquetes mas específicos y/o avanzados\n",
        "* Performance superior, parecido a lenguajes compilados con la facilidad de Python\n",
        "* ndarrays :  tipo básico de objeto, corresponde al tipo de objeto matemático conocido como Tensor\n",
        "    * Arreglos multidimensionales\n",
        "    * Mutables como las listas\n",
        "    * Podemos hacer indexing y slicing sobre ellos\n",
        "\n",
        "* Tipo de dato y tamaño fijado en creación lo cual le permite aplicar optimizaciones: El usar el mismo tipo y tamaño definido permite asegurar que todos los objetos utilizan el mismo tamaño de memoria y esto permite realizar muchas operaciones pre-compiladas de C. Esto permite realizar operaciones mucho mas efcientemente y con menos código que con listas.\n",
        "* Operaciones vectorizadas vs por ciclos como ventaja de numpy(simplicidad y eficiencia) **Nota**: Siempre usar vectorizacion en el curso y en la carrera.\n",
        "\n",
        "## ¿Por que estudiamos en ciencia de datos álgebra lineal?\n",
        "\n",
        "Algebra lineal es una bella rama de la matemáticas que tiene muchas aplicaciones en diversas áreas, en ciencias de la computación y ciencia de datos tiene también innumerables aplicaciones  pero existe un motivo por el cual se vuelve escencial :\n",
        "\n",
        "**Todo algoritmo, modelo matemático, estadístico ,  AI , etc trabaja con números y colecciones de estos**, aún los modelos para variables categóricas transforman de algún modo estas a una representación numérica, en ciencia de datos llamamos **embedding** al proceso de convertir datos no numéricos a representaciones numéricas y a las estructuras de datos resultantes(comunmente vectores) **embeddings** .\n",
        "\n",
        "Podemos pensar entonces que el algebra lineal y sus estructuras entonces nos proveen una **manera de representar y trabajar información en la computadora**\n",
        "\n",
        "<img src=\"https://upload.wikimedia.org/wikipedia/commons/thumb/4/45/Components_stress_tensor.svg/300px-Components_stress_tensor.svg.png\"/>\n",
        "\n",
        "### Ejemplos:\n",
        "\n",
        "* Computer Vision: imagenes son tensores\n",
        "* NLP: palabras son vectores.\n",
        "\n",
        "Algebra lineal por si solo es un campo amplio(algunas universidades dan 2 cursos de 1 semestre o mas del tema) y no podemos cubrir todo lo que nos gustaría en esta clase, pero existe gran variedad de recursos en internet y es un tema que agrega valor en tu carrera de data science, especialmente si tu interés principal es ML y AI. Por ejemplo:\n",
        "\n",
        "* Uno de los algoritmos mas famosos de ML: support VECTOR machine\n",
        "* Uno de los metodos mas populares de AI en la actualidad es \"deep learning\" que se basa en transformaciones lineales (multiplicación de matrices).\n",
        "* Los frameworks mas populares de ML tienen al algebra lineal como elemento base:\n",
        "    * TensorFlow incluso basa su nombre en la estructura básica: Tensor\n",
        "    * PyTorch: en Pytorch, la estructura de datos básica es precisamente el Tensor\n",
        "    \n",
        "\n",
        "### ¿NumPy mas que algebra lineal?\n",
        "\n",
        "Aun que NumPy se basa mucho y es muy útil para algebra lineal y estructuras de esta rama, también es útil para realizar otros tipos de operaciones numéricas y es la base  para otros paquetes mas específicos , por ejemplo podemos usar NumPy también para:\n",
        "\n",
        "* Numeros aleatorios: NumPy provee capacidades para trabajar con números aleatorios y colecciones de esto, por ejemplo generación de numeros aleatorios de muchas distribuciones de probabiliad(muestreo/sampleo) escencial en estadística y modelación y simulación.\n",
        "* Transormadas de Fourier\n",
        "* Scipy: paquete basado en Python que extiende muchas de sus capacidades con capacidades adicionales como:\n",
        "    * Integración y solución de ecuaciones diferenciales.\n",
        "    * Encontrar raices de funciones y optimización numérica.\n",
        "    * Algebra lineal adicional.\n",
        "    \n",
        "    \n",
        "    \n",
        "Para usar NumPy es necesario instalarlo, si usamos Anaconda debemos instalarlo en el ambiente deseado, en linea de comandos esto se gra facilmente con:\n",
        "\n",
        "**conda install numpy**"
      ]
    },
    {
      "cell_type": "code",
      "metadata": {
        "id": "H8hQ3I7MA1D0",
        "colab_type": "code",
        "outputId": "e9a69f2d-efc6-4d41-8281-a803cffc66e5",
        "colab": {}
      },
      "source": [
        "# Instalar numpy desde el jupyter notebook en el ambiente actual de Anaconda\n",
        "# esto puede ser realizado de manera tradicional con linea de comandos o Anaconda Navigator\n",
        "import sys\n",
        "!conda install --yes --prefix {sys.prefix} numpy\n",
        "\n",
        "# ! ejecuta un comando del sistema desde el notebook, el comando ejecutado fue:\n",
        "print(\"Comando ejecutado:conda install --yes --prefix {\"+sys.prefix+\"} numpy\")"
      ],
      "execution_count": 0,
      "outputs": [
        {
          "output_type": "stream",
          "text": [
            "Fetching package metadata ...........\n",
            "Solving package specifications: .\n",
            "\n",
            "# All requested packages already installed.\n",
            "# packages in environment at /home/luis/anaconda2/envs/py_galileo:\n",
            "#\n",
            "numpy                     1.15.4           py37h7e9f1db_0  \n",
            "Comando ejecutado:conda install --yes --prefix {/home/luis/anaconda2/envs/py_galileo} numpy\n"
          ],
          "name": "stdout"
        }
      ]
    },
    {
      "cell_type": "markdown",
      "metadata": {
        "id": "I71Nl155A1D6",
        "colab_type": "text"
      },
      "source": [
        "Para poder utilizar numpy debemos importar el paquete, es casi un estandar de la industria importarlo bajo el alias **\"np\"**"
      ]
    },
    {
      "cell_type": "code",
      "metadata": {
        "id": "g-FIGBhxA1D7",
        "colab_type": "code",
        "colab": {}
      },
      "source": [
        "import numpy as np"
      ],
      "execution_count": 0,
      "outputs": []
    },
    {
      "cell_type": "markdown",
      "metadata": {
        "id": "kYYJg3YsA1EA",
        "colab_type": "text"
      },
      "source": [
        "## Escalares y Vectores (Arreglos de una dimension): \n",
        "\n",
        "La pieza clave y fundamental para el algebra lineal es el **vector** (pero aun que el vector es la base, hay un objeto mas general que este como veremos mas adelante.).\n",
        "\n",
        "<img src=\"NumPy_algebra_lineal/Selección_999(2003).png\">\n",
        "\n",
        "<img src=\"NumPy_algebra_lineal/fisica_cs.png\">\n",
        "\n",
        "Matemáticamente el Tensor es la entidad mas general cuando hablamos de arreglos o colecciones de elementos y que comunmente representan coordenadas en un plano posiblemente multidimensional, por lo tanto al traducirlo a software científico un tensor es también la estructura mas general para trabajar ,y es la estructura de datos básica en la cual almacenaremos información, **NumPy logra esto a través del objeto ndarray**(tensorflow usa tf.Tensor, PyTorch usa  torch.Tensor).\n",
        "\n",
        "<img src=\"https://upload.wikimedia.org/wikipedia/commons/thumb/4/45/Components_stress_tensor.svg/300px-Components_stress_tensor.svg.png\"/>\n",
        "\n",
        "<img src=\"https://wikimedia.org/api/rest_v1/media/math/render/svg/4885fc71da8be5094bf42dd592882a4deb94ff90\">\n",
        "\n",
        "\n",
        "\n",
        "Ya que el tensor es el tipo general , los objetos con los que comunmente hemos trabajado como vectores y matrices deben ser un caso específico de tensores, por lo tanto podemos pensar que un tensor es: **una generalización de vectores y matrices que podemos conceptualizar o entender como una arreglo multidimensional**\n",
        "\n",
        "Si todos estos son tensores, debe haber una propiedad de los tensores que los distinga, esta propiedad es llamada **rango del tensor** y se define como el número de indices o coordenadas necesarias para referenciar a un elemento del tensor así tenemos:\n",
        "\n",
        "* Escalar: tensor de rango 0\n",
        "* Vector: tensores de rango 1\n",
        "\n",
        "Ilustración 1:\n",
        "\n",
        "<img src=\"https://cdn-images-1.medium.com/max/1600/1*pUr-9ctuGamgjSwoW_KU-A.png\">\n",
        "\n",
        "Ilustración 2:\n",
        "\n",
        "<img src=\"https://cdn-images-1.medium.com/max/2000/1*_D5ZvufDS38WkhK9rK32hQ.jpeg\">\n",
        "\n",
        "\n",
        "Podemos pensar en 2 representaciones básicas de un vector:\n",
        "* Gráfica: representando un punto en el espacio\n",
        "* Lista de números : representando las coordenadas ,o compoenentes de el punto en el espacio correspondiente.\n",
        "\n",
        "<img src=\"NumPy_algebra_lineal/3d_vec.png\">\n",
        "\n",
        "En DS nos interesa mayormente la segunda representación,pero en algunos casos resulta útil utilizar la primera para poder visualizar patrones en datos que estemos analizando.\n",
        "\n",
        "<img src=\"NumPy_algebra_lineal/patron_eliptico.png\">\n",
        "\n",
        "**Nota**:Algunas operaciones no estan definidas matemáticamente  , pero NumPy las provee ya que resultan útiles en programación aún si no existen en matemática, por ejemplo: \n",
        "* Sumar un escalar a un vector.\n",
        "* Multiplicar 2 vectores elemento por elemento."
      ]
    },
    {
      "cell_type": "markdown",
      "metadata": {
        "id": "M2nDjPfeA1EB",
        "colab_type": "text"
      },
      "source": [
        "### Rango y dimensión \n",
        "\n",
        "Como dijimos , ya que vectores y matrices son Tensores, necesitamos una característica que los distinga, esto es matemáticamente el **rango** del Tensor , en el mundo de NumPy obtenemos esto al usar la característica **ndim** sobre un Tensor dado.\n",
        "\n",
        "Si pensamos en la representación gráfica podemos pensar que el rango nos indica cuantos \"ejes\" posee el espacio sobre el que se define el tensor ,y necesitamos un número por cada eje para especificar cierto vector,  desde la perspectiva de la colección de números esto nos indica cuantos indices necesitamos para especificar o acceder cierto punto.\n",
        "\n",
        "La dimensión o forma del tensor nos indica cuantos elementos este puede almacenar distribuidas en cada uno de sus \"ejes\".\n",
        "\n",
        "Para vectores, el rango  es 1 , y la dimensión es cuantos elementos el vector posee. \n",
        "\n",
        "Resumen\n",
        "* ndim = entero indicando el rango de un tensor(cuantos ejes posee)\n",
        "* shape = tupla indicando la forma(cuantos elementos posee el tensor en cada uno de sus ejes )"
      ]
    },
    {
      "cell_type": "code",
      "metadata": {
        "id": "gNlBaSnUA1EC",
        "colab_type": "code",
        "outputId": "bf9bae58-a3f8-4167-e585-c1f7533425d5",
        "colab": {
          "base_uri": "https://localhost:8080/",
          "height": 68
        }
      },
      "source": [
        "x = np.array([1,2,3,4,5,6])\n",
        "\n",
        "print(x.ndim)\n",
        "print(x.shape)\n",
        "print(len(x.shape)) #forma de obtener el rango del tensor a partir de su dimension"
      ],
      "execution_count": 0,
      "outputs": [
        {
          "output_type": "stream",
          "text": [
            "1\n",
            "(6,)\n",
            "1\n"
          ],
          "name": "stdout"
        }
      ]
    },
    {
      "cell_type": "markdown",
      "metadata": {
        "id": "dr82Aq0jA1EH",
        "colab_type": "text"
      },
      "source": [
        "Por el momento estamos interesados en vectores, pero vale la pena ver como ndim y shape varían para una matriz."
      ]
    },
    {
      "cell_type": "code",
      "metadata": {
        "id": "GL43kfDNA1EJ",
        "colab_type": "code",
        "outputId": "89bf76de-3699-4932-ed03-98fe9ea70b51",
        "colab": {
          "base_uri": "https://localhost:8080/",
          "height": 68
        }
      },
      "source": [
        "x = np.array([[1,2,3],\n",
        "              [4,5,6]])\n",
        "\n",
        "print(x.ndim)\n",
        "print(x.shape)\n",
        "print(len(x.shape))  #forma de obtener el rango del tensor a partir de su dimension"
      ],
      "execution_count": 0,
      "outputs": [
        {
          "output_type": "stream",
          "text": [
            "2\n",
            "(2, 3)\n",
            "2\n"
          ],
          "name": "stdout"
        }
      ]
    },
    {
      "cell_type": "markdown",
      "metadata": {
        "id": "FS0AbK85A1EO",
        "colab_type": "text"
      },
      "source": [
        "Tanto ndim como shape pueden ser usadas en cualquier expresión valida, por ejemplo asignarlas a variables "
      ]
    },
    {
      "cell_type": "code",
      "metadata": {
        "id": "lCqJ17xyA1EQ",
        "colab_type": "code",
        "outputId": "852794f2-1722-4731-db32-7e2fce73e650",
        "colab": {
          "base_uri": "https://localhost:8080/",
          "height": 51
        }
      },
      "source": [
        "forma_x = x.shape\n",
        "\n",
        "print(\"Filas de x:\",forma_x[0])\n",
        "print(\"Columnas de x:\",forma_x[1])"
      ],
      "execution_count": 0,
      "outputs": [
        {
          "output_type": "stream",
          "text": [
            "Filas de x: 2\n",
            "Columnas de x: 3\n"
          ],
          "name": "stdout"
        }
      ]
    },
    {
      "cell_type": "markdown",
      "metadata": {
        "id": "7NfJGIy7A1EU",
        "colab_type": "text"
      },
      "source": [
        "### Constructores de vectores\n",
        "\n",
        "NumPy provee diversas formas para crear o construir vectores, por ejemplo:\n",
        "* np.linspace\n",
        "* np.array\n",
        "* np.arange\n",
        "* np.zeros\n",
        "* np.ones\n",
        "\n",
        "Existen otras pero estas son posiblemente las mas comunes. Puedes consultar las otras disponibles en: https://docs.scipy.org/doc/numpy/reference/routines.array-creation.html"
      ]
    },
    {
      "cell_type": "code",
      "metadata": {
        "id": "rn1qBQ2mA1EW",
        "colab_type": "code",
        "outputId": "419e4775-4350-4864-b719-54de91fb5c6c",
        "colab": {}
      },
      "source": [
        "x = np.linspace(0,5,50,endpoint=True,retstep=False)\n",
        "\n",
        "x"
      ],
      "execution_count": 0,
      "outputs": [
        {
          "output_type": "execute_result",
          "data": {
            "text/plain": [
              "array([0.        , 0.10204082, 0.20408163, 0.30612245, 0.40816327,\n",
              "       0.51020408, 0.6122449 , 0.71428571, 0.81632653, 0.91836735,\n",
              "       1.02040816, 1.12244898, 1.2244898 , 1.32653061, 1.42857143,\n",
              "       1.53061224, 1.63265306, 1.73469388, 1.83673469, 1.93877551,\n",
              "       2.04081633, 2.14285714, 2.24489796, 2.34693878, 2.44897959,\n",
              "       2.55102041, 2.65306122, 2.75510204, 2.85714286, 2.95918367,\n",
              "       3.06122449, 3.16326531, 3.26530612, 3.36734694, 3.46938776,\n",
              "       3.57142857, 3.67346939, 3.7755102 , 3.87755102, 3.97959184,\n",
              "       4.08163265, 4.18367347, 4.28571429, 4.3877551 , 4.48979592,\n",
              "       4.59183673, 4.69387755, 4.79591837, 4.89795918, 5.        ])"
            ]
          },
          "metadata": {
            "tags": []
          },
          "execution_count": 6
        }
      ]
    },
    {
      "cell_type": "code",
      "metadata": {
        "id": "5M9haaT6A1Eb",
        "colab_type": "code",
        "outputId": "e2f058ce-2006-4753-df9b-7c782185d1c1",
        "colab": {}
      },
      "source": [
        "x = np.linspace(0,5,50,False,retstep=False)\n",
        "\n",
        "x"
      ],
      "execution_count": 0,
      "outputs": [
        {
          "output_type": "execute_result",
          "data": {
            "text/plain": [
              "array([0. , 0.1, 0.2, 0.3, 0.4, 0.5, 0.6, 0.7, 0.8, 0.9, 1. , 1.1, 1.2,\n",
              "       1.3, 1.4, 1.5, 1.6, 1.7, 1.8, 1.9, 2. , 2.1, 2.2, 2.3, 2.4, 2.5,\n",
              "       2.6, 2.7, 2.8, 2.9, 3. , 3.1, 3.2, 3.3, 3.4, 3.5, 3.6, 3.7, 3.8,\n",
              "       3.9, 4. , 4.1, 4.2, 4.3, 4.4, 4.5, 4.6, 4.7, 4.8, 4.9])"
            ]
          },
          "metadata": {
            "tags": []
          },
          "execution_count": 7
        }
      ]
    },
    {
      "cell_type": "code",
      "metadata": {
        "id": "p_KkEMRHA1Eg",
        "colab_type": "code",
        "outputId": "70362e48-a960-47e1-cf5d-eb73f105c658",
        "colab": {}
      },
      "source": [
        "xc,dx = np.linspace(0,5,50,endpoint=True,retstep=True)\n",
        "\n",
        "print(xc,dx)"
      ],
      "execution_count": 0,
      "outputs": [
        {
          "output_type": "stream",
          "text": [
            "[0.         0.10204082 0.20408163 0.30612245 0.40816327 0.51020408\n",
            " 0.6122449  0.71428571 0.81632653 0.91836735 1.02040816 1.12244898\n",
            " 1.2244898  1.32653061 1.42857143 1.53061224 1.63265306 1.73469388\n",
            " 1.83673469 1.93877551 2.04081633 2.14285714 2.24489796 2.34693878\n",
            " 2.44897959 2.55102041 2.65306122 2.75510204 2.85714286 2.95918367\n",
            " 3.06122449 3.16326531 3.26530612 3.36734694 3.46938776 3.57142857\n",
            " 3.67346939 3.7755102  3.87755102 3.97959184 4.08163265 4.18367347\n",
            " 4.28571429 4.3877551  4.48979592 4.59183673 4.69387755 4.79591837\n",
            " 4.89795918 5.        ] 0.10204081632653061\n"
          ],
          "name": "stdout"
        }
      ]
    },
    {
      "cell_type": "code",
      "metadata": {
        "id": "Jyr0UherA1Ek",
        "colab_type": "code",
        "outputId": "60bb67be-f810-47ca-e2ae-376dd7781c7a",
        "colab": {}
      },
      "source": [
        "x = np.linspace(0,5,5,True)\n",
        "\n",
        "x"
      ],
      "execution_count": 0,
      "outputs": [
        {
          "output_type": "execute_result",
          "data": {
            "text/plain": [
              "array([0.  , 1.25, 2.5 , 3.75, 5.  ])"
            ]
          },
          "metadata": {
            "tags": []
          },
          "execution_count": 9
        }
      ]
    },
    {
      "cell_type": "markdown",
      "metadata": {
        "id": "4Qh-pMdhA1Eq",
        "colab_type": "text"
      },
      "source": [
        "**np.arange**\n",
        "Esta función es parecida a la función **range** que vimos en ciclos, pero genera un vector de NumPy que puede ser utilizdo en otras expresiones o ser asignado a variables para posterior uso.\n",
        "\n",
        "\n",
        "arange(start=0,stop,step = 1,dtype=None) \n",
        "\n",
        "Intenta determinar el tipo de datos a partir de los parametros pero se puede sobreescribir si lo especificamos con dtype"
      ]
    },
    {
      "cell_type": "code",
      "metadata": {
        "id": "zGGad_LVA1Er",
        "colab_type": "code",
        "outputId": "31f70be7-a029-45e1-82cd-ff0095590633",
        "colab": {}
      },
      "source": [
        "yo = np.arange(1,10)\n",
        "yoc = np.arange(2,10,dtype = complex)\n",
        "\n",
        "yo,yoc"
      ],
      "execution_count": 0,
      "outputs": [
        {
          "output_type": "execute_result",
          "data": {
            "text/plain": [
              "(array([1, 2, 3, 4, 5, 6, 7, 8, 9]),\n",
              " array([2.+0.j, 3.+0.j, 4.+0.j, 5.+0.j, 6.+0.j, 7.+0.j, 8.+0.j, 9.+0.j]))"
            ]
          },
          "metadata": {
            "tags": []
          },
          "execution_count": 10
        }
      ]
    },
    {
      "cell_type": "markdown",
      "metadata": {
        "id": "CfvY6__xA1Ew",
        "colab_type": "text"
      },
      "source": [
        "En muchos casos es útil crear vectores inicializados con 0s o 1s ,o bien cuando no nos importa su valor inicial podemos especificar que sean creados  como vácios.\n",
        "\n",
        "Esto lo logramos con:\n",
        "* np.zeros\n",
        "* np.ones\n",
        "* np.empty"
      ]
    },
    {
      "cell_type": "code",
      "metadata": {
        "id": "w9DUucZTA1Ez",
        "colab_type": "code",
        "outputId": "33e66d6e-26bb-4a22-879b-5c52ca97d2ea",
        "colab": {
          "base_uri": "https://localhost:8080/",
          "height": 34
        }
      },
      "source": [
        "np.zeros(5)"
      ],
      "execution_count": 0,
      "outputs": [
        {
          "output_type": "execute_result",
          "data": {
            "text/plain": [
              "array([0., 0., 0., 0., 0.])"
            ]
          },
          "metadata": {
            "tags": []
          },
          "execution_count": 3
        }
      ]
    },
    {
      "cell_type": "code",
      "metadata": {
        "id": "SKHk_123A1E4",
        "colab_type": "code",
        "outputId": "8c236d78-e3cb-4107-eca1-7c56e6de8cc5",
        "colab": {
          "base_uri": "https://localhost:8080/",
          "height": 34
        }
      },
      "source": [
        "np.ones(5)"
      ],
      "execution_count": 0,
      "outputs": [
        {
          "output_type": "execute_result",
          "data": {
            "text/plain": [
              "array([1., 1., 1., 1., 1.])"
            ]
          },
          "metadata": {
            "tags": []
          },
          "execution_count": 4
        }
      ]
    },
    {
      "cell_type": "code",
      "metadata": {
        "id": "n9n0c8psA1E9",
        "colab_type": "code",
        "outputId": "beeffcbf-1a49-48e4-fea2-fdfba1f38fff",
        "colab": {
          "base_uri": "https://localhost:8080/",
          "height": 34
        }
      },
      "source": [
        "np.empty(4)  # el valor varia, experimentemos cambiando el tipo con ndtype = <tipo>"
      ],
      "execution_count": 0,
      "outputs": [
        {
          "output_type": "execute_result",
          "data": {
            "text/plain": [
              "array([5.e-324, 5.e-324, 5.e-324, 0.e+000])"
            ]
          },
          "metadata": {
            "tags": []
          },
          "execution_count": 5
        }
      ]
    },
    {
      "cell_type": "markdown",
      "metadata": {
        "id": "RVooT9cnA1FB",
        "colab_type": "text"
      },
      "source": [
        "**Vectores a partir de datos existentes**\n",
        "Podemos también construir vectores  a partir de datos existentes(por ejempro listas de números, u otros vectores)  o bien especificar explicitamente con que valores queremos que un vector sea creado.\n",
        "\n",
        "Esto lo logramos basicamente con 2 funciones(nuevamente existen otras a explorar):\n",
        "\n",
        "* np.array\n",
        "* np.copy"
      ]
    },
    {
      "cell_type": "code",
      "metadata": {
        "id": "CHsOfH4iA1FC",
        "colab_type": "code",
        "outputId": "39a89ed4-155e-4159-e981-b88ee530d7ab",
        "colab": {
          "base_uri": "https://localhost:8080/",
          "height": 34
        }
      },
      "source": [
        "lista = [2,3,4.0]\n",
        "\n",
        "x = np.array(lista)\n",
        "\n",
        "x"
      ],
      "execution_count": 0,
      "outputs": [
        {
          "output_type": "execute_result",
          "data": {
            "text/plain": [
              "array([2., 3., 4.])"
            ]
          },
          "metadata": {
            "tags": []
          },
          "execution_count": 6
        }
      ]
    },
    {
      "cell_type": "code",
      "metadata": {
        "id": "VneJw92rA1FH",
        "colab_type": "code",
        "outputId": "8fde18eb-e721-4d3b-8d6b-801fdddcc430",
        "colab": {
          "base_uri": "https://localhost:8080/",
          "height": 34
        }
      },
      "source": [
        "vector = np.array([1,2,3,4,5,6,7,8,9])\n",
        "\n",
        "print(vector)"
      ],
      "execution_count": 0,
      "outputs": [
        {
          "output_type": "stream",
          "text": [
            "[1 2 3 4 5 6 7 8 9]\n"
          ],
          "name": "stdout"
        }
      ]
    },
    {
      "cell_type": "code",
      "metadata": {
        "id": "T1SmFV7OA1FL",
        "colab_type": "code",
        "outputId": "98172262-2742-48a4-b54b-a0d65b0f3205",
        "colab": {}
      },
      "source": [
        "nuevo_vector = vector.copy()\n",
        "\n",
        "print(nuevo_vector)"
      ],
      "execution_count": 0,
      "outputs": [
        {
          "output_type": "stream",
          "text": [
            "[1 2 3 4 5 6 7 8 9]\n"
          ],
          "name": "stdout"
        }
      ]
    },
    {
      "cell_type": "markdown",
      "metadata": {
        "id": "Ine5Ki-5A1FP",
        "colab_type": "text"
      },
      "source": [
        "El siguiente ejemplo crea una copia de un vector m cambiando(truncando) su tipo de dato a entero."
      ]
    },
    {
      "cell_type": "code",
      "metadata": {
        "id": "PJTq7U8lA1FQ",
        "colab_type": "code",
        "outputId": "18aa4a67-c0bf-44ac-fd99-9776ea8e5538",
        "colab": {
          "base_uri": "https://localhost:8080/",
          "height": 51
        }
      },
      "source": [
        "m = np.linspace(9,1,11)\n",
        "\n",
        "m_int = np.array(m,dtype = int)\n",
        "\n",
        "m,m_int"
      ],
      "execution_count": 0,
      "outputs": [
        {
          "output_type": "execute_result",
          "data": {
            "text/plain": [
              "(array([9. , 8.2, 7.4, 6.6, 5.8, 5. , 4.2, 3.4, 2.6, 1.8, 1. ]),\n",
              " array([9, 8, 7, 6, 5, 5, 4, 3, 2, 1, 1]))"
            ]
          },
          "metadata": {
            "tags": []
          },
          "execution_count": 8
        }
      ]
    },
    {
      "cell_type": "markdown",
      "metadata": {
        "id": "h0ND83taA1FW",
        "colab_type": "text"
      },
      "source": [
        "**Construir vector como otro vector**\n",
        "\n",
        "Existen algunas funiones que nos permiten crear vectores \"como\" otros vectores,es decir de la misma forma pero con posibles diferentes valores:\n"
      ]
    },
    {
      "cell_type": "code",
      "metadata": {
        "id": "Ps0Q36kzA1FX",
        "colab_type": "code",
        "outputId": "71113a4a-b566-40f7-fb68-1e85b9e3f94b",
        "colab": {
          "base_uri": "https://localhost:8080/",
          "height": 85
        }
      },
      "source": [
        "x = np.linspace(1,3,3)\n",
        "\n",
        "ceros = np.zeros_like(x)\n",
        "unos = np.ones_like(x)\n",
        "vacio = np.empty_like(x)\n",
        "\n",
        "print(x)\n",
        "print(ceros)\n",
        "print(unos)\n",
        "print(vacio)"
      ],
      "execution_count": 0,
      "outputs": [
        {
          "output_type": "stream",
          "text": [
            "[1. 2. 3.]\n",
            "[0. 0. 0.]\n",
            "[1. 1. 1.]\n",
            "[2.86263216e-316 6.93053147e-310 6.93053147e-310]\n"
          ],
          "name": "stdout"
        }
      ]
    },
    {
      "cell_type": "markdown",
      "metadata": {
        "id": "-ODZp160A1Fb",
        "colab_type": "text"
      },
      "source": [
        "En otros casos algunas funciones tambien devuelven un array  A de la misma forma de otro B pero con el resultado de aplicar alguna función a este, por ejemplo, el siguiente caso devuelve un nuevo vector con la forma de un vector \"x\" resultado de calcular el seno trigonoḿetrico sobre cada uno de sus elementos.:"
      ]
    },
    {
      "cell_type": "code",
      "metadata": {
        "id": "vk8fXk7iA1Fd",
        "colab_type": "code",
        "outputId": "b1f9e597-431e-437c-a563-63ac8bb7dd37",
        "colab": {}
      },
      "source": [
        "np.sin(x)"
      ],
      "execution_count": 0,
      "outputs": [
        {
          "output_type": "execute_result",
          "data": {
            "text/plain": [
              "array([0.84147098, 0.90929743, 0.14112001])"
            ]
          },
          "metadata": {
            "tags": []
          },
          "execution_count": 19
        }
      ]
    },
    {
      "cell_type": "markdown",
      "metadata": {
        "id": "6Fq79Q2dA1Fg",
        "colab_type": "text"
      },
      "source": [
        "Similar a la concatenación de listas (con +) podemos  concatenar 2 vectores y crear uno nuevo usando np.hstack((tupla))"
      ]
    },
    {
      "cell_type": "code",
      "metadata": {
        "id": "T8T-SWviA1Fh",
        "colab_type": "code",
        "colab": {}
      },
      "source": [
        "#?np.hstack"
      ],
      "execution_count": 0,
      "outputs": []
    },
    {
      "cell_type": "code",
      "metadata": {
        "id": "cymksZrzA1Fk",
        "colab_type": "code",
        "outputId": "467a96a6-0d59-4dc6-d14d-362a62fc5b5e",
        "colab": {
          "base_uri": "https://localhost:8080/",
          "height": 34
        }
      },
      "source": [
        "a = np.array((1,2,3))\n",
        "b = np.array((2,3,4))\n",
        "np.hstack((a,b))"
      ],
      "execution_count": 0,
      "outputs": [
        {
          "output_type": "execute_result",
          "data": {
            "text/plain": [
              "array([1, 2, 3, 2, 3, 4])"
            ]
          },
          "metadata": {
            "tags": []
          },
          "execution_count": 17
        }
      ]
    },
    {
      "cell_type": "markdown",
      "metadata": {
        "id": "jFCLwLxuA1Fo",
        "colab_type": "text"
      },
      "source": [
        "**ejercicio** : en data science y programación científica es común necesitar vectores con valores dentro de cierto intervalo, pero con sub-intervalos internos con diference espaciamiento ,por ejemplo:\n",
        "\n",
        "[0.  , 0.1 , 0.2 , 0.3 , 0.4 , 0.5 , 0.51, 0.52, 0.53, 0.54, 0.55,\n",
        "       0.56, 0.57, 0.58, 0.59, 0.6 , 0.7 , 0.8 , 0.9 , 1.  ]\n",
        "       \n",
        "El primer sub-intervalo incrementa de 0.1 en 0.1 , el segundo de 0.01 en 0.01 , y el tercero de 0.1 en 0.1 nuevamente.\n",
        "\n",
        "Usando unicamente NumPy crea un vector de este tipo con el nombre xs .\n",
        "\n",
        "**nota**: no es permitido usar ciclos, debe realizarse con operaciones \"vectorizadas\" de numpy"
      ]
    },
    {
      "cell_type": "code",
      "metadata": {
        "id": "XfZTOZ_zA1Fp",
        "colab_type": "code",
        "outputId": "71331138-54f5-4e0f-eeca-a9d302e39323",
        "colab": {
          "base_uri": "https://localhost:8080/",
          "height": 51
        }
      },
      "source": [
        "# tu codigo aqui (~ 5 lineas de codigo):\n",
        "\n",
        "d = np.linspace(0, 0.5, num = 6 )\n",
        "e = np.linspace(0.51, 0.59, num = 9)\n",
        "f = np.linspace(0.6, 1, num = 5)\n",
        "\n",
        "result = np.hstack((d,e,f))\n",
        "result"
      ],
      "execution_count": 0,
      "outputs": [
        {
          "output_type": "execute_result",
          "data": {
            "text/plain": [
              "array([0.  , 0.1 , 0.2 , 0.3 , 0.4 , 0.5 , 0.51, 0.52, 0.53, 0.54, 0.55,\n",
              "       0.56, 0.57, 0.58, 0.59, 0.6 , 0.7 , 0.8 , 0.9 , 1.  ])"
            ]
          },
          "metadata": {
            "tags": []
          },
          "execution_count": 18
        }
      ]
    },
    {
      "cell_type": "markdown",
      "metadata": {
        "id": "O_BsYaBjA1Fv",
        "colab_type": "text"
      },
      "source": [
        "### Operaciones y Aritmetica Vectorial\n",
        "\n",
        "Utiliza los operadores aritmeticos ya conocidos +,-,*,/, %\n",
        "\n",
        "Las operaciones vectoriales básicas son:\n",
        "* Sumar 2 vectores.\n",
        "<img src=\"NumPy_algebra_lineal/suma_vec.png\">\n",
        "* Multiplicar 1 vector por un número: el efecto de esto es cambiar el tamaño del vector, es decir \"escalarlo\" y por eso en algebra lineal llamamos a un único número : **escalar**. El **span**,alcance o extención de un vector es el conjunto de todos los posibles vectores obtenidos por multiplicación escalar sobre este vector.\n",
        "<img src=\"NumPy_algebra_lineal/mult_vec.png\">\n",
        "\n",
        "<img src=\"NumPy_algebra_lineal/adicion_mult_escalar.png\">\n",
        "\n",
        "**Nota**:Algunas operaciones no estan definidas matemáticamente  , pero NumPy las provee ya que resultan útiles en programación aún si no existen en matemática, por ejemplo: \n",
        "\n",
        "* Multiplicar 2 vectores entre si\n",
        "* Sumar 1 vector con un escalar"
      ]
    },
    {
      "cell_type": "code",
      "metadata": {
        "id": "orOQBnJ9A1Fv",
        "colab_type": "code",
        "outputId": "3e46273c-b368-40f4-fbed-954e8be208be",
        "colab": {
          "base_uri": "https://localhost:8080/",
          "height": 34
        }
      },
      "source": [
        "v = np.array([3,-5])\n",
        "w = np.array([2,1])\n",
        "\n",
        "c = v + w\n",
        "\n",
        "print(c)"
      ],
      "execution_count": 0,
      "outputs": [
        {
          "output_type": "stream",
          "text": [
            "[ 5 -4]\n"
          ],
          "name": "stdout"
        }
      ]
    },
    {
      "cell_type": "code",
      "metadata": {
        "id": "vBQJtPZ5A1F0",
        "colab_type": "code",
        "outputId": "fa7ec046-1b27-4fab-9c41-752451b0efc9",
        "colab": {}
      },
      "source": [
        "2*v"
      ],
      "execution_count": 0,
      "outputs": [
        {
          "output_type": "execute_result",
          "data": {
            "text/plain": [
              "array([  6, -10])"
            ]
          },
          "metadata": {
            "tags": []
          },
          "execution_count": 24
        }
      ]
    },
    {
      "cell_type": "code",
      "metadata": {
        "id": "bNApxoSKA1F4",
        "colab_type": "code",
        "outputId": "8395de65-9c00-4f44-8aae-6bbe0039d0cf",
        "colab": {
          "base_uri": "https://localhost:8080/",
          "height": 85
        }
      },
      "source": [
        "resta = v - w\n",
        "multiplicacion = v*w\n",
        "division = v/w\n",
        "div_mod = v%w\n",
        "\n",
        "print(resta)\n",
        "print(multiplicacion)\n",
        "print(division)\n",
        "print(div_mod)"
      ],
      "execution_count": 0,
      "outputs": [
        {
          "output_type": "stream",
          "text": [
            "[ 1 -6]\n",
            "[ 6 -5]\n",
            "[ 1.5 -5. ]\n",
            "[1 0]\n"
          ],
          "name": "stdout"
        }
      ]
    },
    {
      "cell_type": "markdown",
      "metadata": {
        "id": "0oLzAaI6A1F_",
        "colab_type": "text"
      },
      "source": [
        "Los operadores +=,-=,*=,/=,%=  , también son validos en vectores con NumPy y son mas eficientes, por ejemplo:\n",
        "\n",
        "a+=b\n",
        "\n",
        "Es mas eficiente que\n",
        "\n",
        "a = a + b\n",
        "\n",
        "Por lo tanto se recomienda usarlos siempre que sea posible :"
      ]
    },
    {
      "cell_type": "code",
      "metadata": {
        "id": "lmYIwZZFA1GB",
        "colab_type": "code",
        "outputId": "394b2d03-3b20-4039-e81c-cf7c16075df5",
        "colab": {
          "base_uri": "https://localhost:8080/",
          "height": 34
        }
      },
      "source": [
        "a+=b\n",
        "a"
      ],
      "execution_count": 0,
      "outputs": [
        {
          "output_type": "execute_result",
          "data": {
            "text/plain": [
              "array([3, 5, 7])"
            ]
          },
          "metadata": {
            "tags": []
          },
          "execution_count": 19
        }
      ]
    },
    {
      "cell_type": "markdown",
      "metadata": {
        "id": "umlYfsKRA1GF",
        "colab_type": "text"
      },
      "source": [
        "Python utiliza un mecanismo conocido como **\"broadcasting\"** para algunas operaciones cuando el tamaño de los operandos no coincide, por ejemplo el caso de una suma entre un vector y un escalar, broadcasting \"expande\" el escalar para que tenga la misma forma que el vector (replicando el valor escalar) y luego aplica la operacion **\"elementwise\"** (elemento a elemento)"
      ]
    },
    {
      "cell_type": "code",
      "metadata": {
        "id": "KU6RZ02vA1GG",
        "colab_type": "code",
        "outputId": "b7a37bba-6cba-4fd3-d9e4-7db94b1b7432",
        "colab": {
          "base_uri": "https://localhost:8080/",
          "height": 34
        }
      },
      "source": [
        "a + 2 #operación no definida matemáticamente pero posible con broadcasting"
      ],
      "execution_count": 0,
      "outputs": [
        {
          "output_type": "execute_result",
          "data": {
            "text/plain": [
              "array([5, 7, 9])"
            ]
          },
          "metadata": {
            "tags": []
          },
          "execution_count": 20
        }
      ]
    },
    {
      "cell_type": "code",
      "metadata": {
        "id": "xzXRVS9FA1GK",
        "colab_type": "code",
        "outputId": "3d024822-c046-4826-ff26-c103ad719e9f",
        "colab": {
          "base_uri": "https://localhost:8080/",
          "height": 34
        }
      },
      "source": [
        "a -5 #operación no definida matemáticamente pero posible con broadcasting "
      ],
      "execution_count": 0,
      "outputs": [
        {
          "output_type": "execute_result",
          "data": {
            "text/plain": [
              "array([-2,  0,  2])"
            ]
          },
          "metadata": {
            "tags": []
          },
          "execution_count": 21
        }
      ]
    },
    {
      "cell_type": "code",
      "metadata": {
        "id": "WCte4zXfA1GR",
        "colab_type": "code",
        "outputId": "53d2c01a-9b30-4152-a157-5661d9cc4ab3",
        "colab": {}
      },
      "source": [
        "a * 3 # operación si definida matemáticamente esta \"escalando\" el vector en factor de 3"
      ],
      "execution_count": 0,
      "outputs": [
        {
          "output_type": "execute_result",
          "data": {
            "text/plain": [
              "array([ 9, 15, 21])"
            ]
          },
          "metadata": {
            "tags": []
          },
          "execution_count": 29
        }
      ]
    },
    {
      "cell_type": "code",
      "metadata": {
        "id": "xI5JDVcLA1GU",
        "colab_type": "code",
        "outputId": "f5b55502-6e33-4bfe-b454-3042d14bff4b",
        "colab": {}
      },
      "source": [
        "# operacion no definida directamente pero ya que la division se reduce \n",
        "#a un producto por una fraccion, si esta definida a traves del \"escalado\"  dl vector en factor de 0.33333\n",
        "a / 3 "
      ],
      "execution_count": 0,
      "outputs": [
        {
          "output_type": "execute_result",
          "data": {
            "text/plain": [
              "array([1.        , 1.66666667, 2.33333333])"
            ]
          },
          "metadata": {
            "tags": []
          },
          "execution_count": 30
        }
      ]
    },
    {
      "cell_type": "markdown",
      "metadata": {
        "id": "w3C-RJsBA1GZ",
        "colab_type": "text"
      },
      "source": [
        "**Ejemplo aplicado a DS** :  Suavizado de curvas a través de promedios de n-puntos(medias móviles):\n",
        "\n",
        "<img src=\"https://www.luisllamas.es/wp-content/uploads/2017/03/arduino-filtro-media-movil-ventana-5.png\">\n",
        "\n",
        "En el mundo la data comunmente posee \"ruido\" por lo cual muchas veces antes de hacer análisis o modelado se necesita \"suavizar\" las curvas para reducir este ruido, una técnica muy sencilla es  el suavizado por promedio de n-puntos(también llamado media móvil), esto significa que para cada punto Xn obtenemos una versión transformada(suavizada) que consiste en promediar n puntos cercanos a el, por ejemplo para n= 3 tenemos que:\n",
        "\n",
        "$$XS_{n}  =  \\frac{X_{n-1}+X_{n}+X_{n+1}}{3}$$"
      ]
    },
    {
      "cell_type": "code",
      "metadata": {
        "scrolled": true,
        "id": "xiLbxBBMA1Ga",
        "colab_type": "code",
        "outputId": "326bf695-d3b2-4611-b125-a3d3e46595b8",
        "colab": {
          "base_uri": "https://localhost:8080/",
          "height": 119
        }
      },
      "source": [
        "# las siguientes 3 lineas generan un conjunto de datos que se comportan segun una onda senoidal pero tienen\n",
        "# ruido por lo cual vamos a suavizar usando promedio de 3 puntos\n",
        "# en este ejercicio los generamos manualmente pero pensemos que son datos que pudieron ser generados con algún\n",
        "# instrumento como un sensor, o bien estar almacenados en una base de datos\n",
        "ruido = 0.1*np.random.randn(15) #el ruido comunmente se debe a aleatoriedad o captura no exacta de info.\n",
        "x = np.linspace(0,2*np.pi,15) + ruido\n",
        "x = np.sin(x)\n",
        "\n",
        "#xs es \"x suavizado\", inicialmente es una copia de x\n",
        "xs =  x.copy()\n",
        "\n",
        "for n in range(1,len(x)-1):\n",
        "    xs[n] = (x[n-1] + x[n] + x[n+1])/3\n",
        "    \n",
        "print(x)\n",
        "print(xs)"
      ],
      "execution_count": 0,
      "outputs": [
        {
          "output_type": "stream",
          "text": [
            "[-0.0172604   0.41791154  0.70012918  0.96681569  0.94519753  0.82657609\n",
            "  0.24641045  0.06953902 -0.30881983 -0.72254225 -0.99992984 -0.99405515\n",
            " -0.83771965 -0.50377951 -0.07345877]\n",
            "[-0.0172604   0.36692677  0.69495214  0.87071413  0.9128631   0.67272802\n",
            "  0.38084186  0.00237655 -0.32060769 -0.67709731 -0.90550908 -0.94390154\n",
            " -0.7785181  -0.47165264 -0.07345877]\n"
          ],
          "name": "stdout"
        }
      ]
    },
    {
      "cell_type": "markdown",
      "metadata": {
        "id": "6dNaJQYsA1Ge",
        "colab_type": "text"
      },
      "source": [
        "**Ejercicio** En este caso usamos un ciclo  para ejemplificar pero ya hemos mencionado que debemos evitarlos siempre que sea posible y usar operaciones \"vectorizadas\" ya que es mucho mas rápido al utilizar  código pre-compilado de C, en este ejercicio debemos remplazar el calculo de xs para hacerlo de manera \"vectorizada\" y eliminar el ciclo for. \n",
        "\n",
        "**tip**: usar slicing"
      ]
    },
    {
      "cell_type": "code",
      "metadata": {
        "id": "20mm7kvskSkj",
        "colab_type": "code",
        "outputId": "4010deb4-9055-4666-f5ca-60edd5627496",
        "colab": {
          "base_uri": "https://localhost:8080/",
          "height": 68
        }
      },
      "source": [
        "#Ejercicio\n",
        "# Se realiza un slicing para que cada vector sea exactamente de 13 elementos\n",
        "# Esto porque no se puede calcular un promedio sobre el primer y último elemento\n",
        "# Se realiza el slicing correspondiente para calcular las curvas suavizadas\n",
        "\n",
        "xnminus1 = x.copy()\n",
        "xcenter = x.copy()[1:]\n",
        "xnplus1 =x.copy()[2:]\n",
        "xs = x.copy()\n",
        "xs[1:-1] = (xnminus1[0:-2] + xcenter[0:-1] + xnplus1[0:])/3\n",
        "xs"
      ],
      "execution_count": 0,
      "outputs": [
        {
          "output_type": "execute_result",
          "data": {
            "text/plain": [
              "array([-0.0172604 ,  0.36692677,  0.69495214,  0.87071413,  0.9128631 ,\n",
              "        0.67272802,  0.38084186,  0.00237655, -0.32060769, -0.67709731,\n",
              "       -0.90550908, -0.94390154, -0.7785181 , -0.47165264, -0.07345877])"
            ]
          },
          "metadata": {
            "tags": []
          },
          "execution_count": 85
        }
      ]
    },
    {
      "cell_type": "markdown",
      "metadata": {
        "id": "QXhBId-pA1Gf",
        "colab_type": "text"
      },
      "source": [
        "#### Combinaciones lineales,span,vectores base,espacio vectorial e independencia lineal.\n",
        "\n",
        "**Nota**: esta sección es de cierto modo opcional ya que no es tan importante para este curso,pero lo será para futuros cursos y en tu carrera, por ejemplo en machine learning y estadística la reducción de dimensionalidad PCA se basa en el contenido acá resumido.\n",
        "\n",
        "Derivado de las 2 operaciones básicas de algebra lineal que ya mencionamos: suma de 2 vectores y multiplicación de un escalar por un vector podemos hablar de **combinaciones lineales**\n",
        "\n",
        "* **Combinación lineal** : Una combinación lineal es una generalización que combina estas 2 operaciones básicas y la podemos definir como **la suma de 2 o mas vectores escalados** , \n",
        "\n",
        "<img src=\"NumPy_algebra_lineal/combinacion_base.png\">\n",
        "\n",
        "Combinación lineal\n",
        "\n",
        "<img src=\"NumPy_algebra_lineal/combinacion_lineal.png\">\n",
        "\n",
        "* El **span**(alceance, o extensión) de una combinacion lineal es el conjunto de todos los posibles vectores obtenidos para cada posible combinación de sus valores escalares.\n",
        "\n",
        "\n",
        "<img src=\"NumPy_algebra_lineal/span.png\">\n",
        "\n",
        "<img src=\"NumPy_algebra_lineal/3d_span.png\">\n",
        "\n",
        "* **Independencia Lineal** : si un vector A es un múltiplo de otro vector B, decimos que existe dependencia lineal entre ellos, geométricamente el efecto de esto es que el **span** de estos  es el mismo, o bien si se trata de combinaciones lineales, el agregar un vector dependientemente lineal significa que este puede ser obtenido como una combinación de los otros en la combinación ,esto no modifica el **span** de la combinación, por lo cual es redundante y no aporta nada.\n",
        "\n",
        "<img src=\"NumPy_algebra_lineal/dependencia_lineal.png\">\n",
        "\n",
        "<img src=\"NumPy_algebra_lineal/dependencia_lineal2.png\">\n",
        "\n",
        "**Referencia Util**:\n",
        "https://youtu.be/k7RM-ot2NWY?list=PLZHQObOWTQDPD3MizzM2xVFitgF8hE_ab"
      ]
    },
    {
      "cell_type": "markdown",
      "metadata": {
        "id": "wLsM68GJA1Gg",
        "colab_type": "text"
      },
      "source": [
        "### ufuncs(universal functions)\n",
        "\n",
        "Ufuncs son funciones que trabajan de manera general independiente de la dimension del objeto al que sean aplicadas, esto significa que la misma función puede ser utilizada sobre valores **escalares**  o sobre **tensores** de cualquier dimensión. , cuando es aplicada sobre tensores esta trabaja elemento por elemento soportando \"broadcasting\" .\n",
        "\n",
        "NumPy provee una gran colección de ufuncs comunes en ciencias y que serán muy útiles en data science, ya hemos usado algunas por ejemplo: **np.sin(tensor)** , muchas comunes y que te serán familares son:\n",
        "\n",
        "* np.sign: determinar el signo de un número\n",
        "* np.abs: valor absoluto de un número\n",
        "* np.cos: coseno de un angulo en radianes\n",
        "* np.sin : seno de un angulo en radianes\n",
        "* np.tan : tangente de un angulo en radianes\n",
        "* np.exp : función exponencial e** x\n",
        "* np.log: logaritmo natural\n",
        "* np.log10 : logaritmo base 10\n",
        "* np.log2 : logaritmo base 2\n",
        "* np.sqrt : raiz cuadrada\n",
        "* np.power : potenciacion\n",
        "\n",
        "Al trabajar una aplicación numérica/científica es recomendable tener a la mano la documentación de las funciones disponibles : https://docs.scipy.org/doc/numpy-1.15.1/reference/routines.math.html\n",
        "\n",
        "#### Nota: \n",
        "En algunos casos requeriremos crear nuestras propias funciones y es recomendable que se apeguen a las ufuncs, es decir que se puedan aplicar independiente de la dimensión del objeto al que se aplican, que soporten broadcasting y muy importante **que su definición evite ciclos y use operaciones vectorizadas y otras ufuncs** , esto será parte de los criterios de evaluación en tareas y exámenes en este curso."
      ]
    },
    {
      "cell_type": "code",
      "metadata": {
        "id": "mZMSPYS5A1Gh",
        "colab_type": "code",
        "outputId": "0cbeb61d-6465-4724-9ad5-11745a5fffff",
        "colab": {}
      },
      "source": [
        "x = np.array([-5.3,-1,0,1.5,10,100])\n",
        "\n",
        "print(np.sign(x))\n",
        "print(np.abs(x))\n",
        "print(np.cos(x))\n",
        "print(np.sin(x))\n",
        "print(np.tan(x))\n",
        "print(np.exp(x))\n"
      ],
      "execution_count": 0,
      "outputs": [
        {
          "output_type": "stream",
          "text": [
            "[-1. -1.  0.  1.  1.  1.]\n",
            "[  5.3   1.    0.    1.5  10.  100. ]\n",
            "[ 0.55437434  0.54030231  1.          0.0707372  -0.83907153  0.86231887]\n",
            "[ 0.83226744 -0.84147098  0.          0.99749499 -0.54402111 -0.50636564]\n",
            "[ 1.5012734  -1.55740772  0.         14.10141995  0.64836083 -0.58721392]\n",
            "[4.99159391e-03 3.67879441e-01 1.00000000e+00 4.48168907e+00\n",
            " 2.20264658e+04 2.68811714e+43]\n"
          ],
          "name": "stdout"
        }
      ]
    },
    {
      "cell_type": "code",
      "metadata": {
        "id": "ZYkHKmsfA1Gk",
        "colab_type": "code",
        "outputId": "bd743f8d-9b95-4b0b-d513-4e37466737ae",
        "colab": {}
      },
      "source": [
        "print(np.log(x))"
      ],
      "execution_count": 0,
      "outputs": [
        {
          "output_type": "stream",
          "text": [
            "[       nan        nan       -inf 0.40546511 2.30258509 4.60517019]\n"
          ],
          "name": "stdout"
        },
        {
          "output_type": "stream",
          "text": [
            "/home/luis/anaconda2/envs/py_galileo/lib/python3.7/site-packages/ipykernel_launcher.py:1: RuntimeWarning: divide by zero encountered in log\n",
            "  \"\"\"Entry point for launching an IPython kernel.\n",
            "/home/luis/anaconda2/envs/py_galileo/lib/python3.7/site-packages/ipykernel_launcher.py:1: RuntimeWarning: invalid value encountered in log\n",
            "  \"\"\"Entry point for launching an IPython kernel.\n"
          ],
          "name": "stderr"
        }
      ]
    },
    {
      "cell_type": "code",
      "metadata": {
        "id": "jhb-fvCmA1Gn",
        "colab_type": "code",
        "outputId": "5718072a-c210-4fc5-9868-58c6a9d5adb3",
        "colab": {}
      },
      "source": [
        "print(np.log10(x))"
      ],
      "execution_count": 0,
      "outputs": [
        {
          "output_type": "stream",
          "text": [
            "[       nan        nan       -inf 0.17609126 1.         2.        ]\n"
          ],
          "name": "stdout"
        },
        {
          "output_type": "stream",
          "text": [
            "/home/luis/anaconda2/envs/py_galileo/lib/python3.7/site-packages/ipykernel_launcher.py:1: RuntimeWarning: divide by zero encountered in log10\n",
            "  \"\"\"Entry point for launching an IPython kernel.\n",
            "/home/luis/anaconda2/envs/py_galileo/lib/python3.7/site-packages/ipykernel_launcher.py:1: RuntimeWarning: invalid value encountered in log10\n",
            "  \"\"\"Entry point for launching an IPython kernel.\n"
          ],
          "name": "stderr"
        }
      ]
    },
    {
      "cell_type": "code",
      "metadata": {
        "id": "t4etcifzA1Gs",
        "colab_type": "code",
        "outputId": "cee15705-312e-4385-dc66-218808c720e2",
        "colab": {}
      },
      "source": [
        "print(np.log2(x))"
      ],
      "execution_count": 0,
      "outputs": [
        {
          "output_type": "stream",
          "text": [
            "[       nan        nan       -inf 0.5849625  3.32192809 6.64385619]\n"
          ],
          "name": "stdout"
        },
        {
          "output_type": "stream",
          "text": [
            "/home/luis/anaconda2/envs/py_galileo/lib/python3.7/site-packages/ipykernel_launcher.py:1: RuntimeWarning: divide by zero encountered in log2\n",
            "  \"\"\"Entry point for launching an IPython kernel.\n",
            "/home/luis/anaconda2/envs/py_galileo/lib/python3.7/site-packages/ipykernel_launcher.py:1: RuntimeWarning: invalid value encountered in log2\n",
            "  \"\"\"Entry point for launching an IPython kernel.\n"
          ],
          "name": "stderr"
        }
      ]
    },
    {
      "cell_type": "code",
      "metadata": {
        "id": "gBY-m4HBA1G2",
        "colab_type": "code",
        "outputId": "fdd6d64c-f23f-444c-d616-13c4c3bb1175",
        "colab": {}
      },
      "source": [
        "print(np.sqrt(x))"
      ],
      "execution_count": 0,
      "outputs": [
        {
          "output_type": "stream",
          "text": [
            "[        nan         nan  0.          1.22474487  3.16227766 10.        ]\n"
          ],
          "name": "stdout"
        },
        {
          "output_type": "stream",
          "text": [
            "/home/luis/anaconda2/envs/py_galileo/lib/python3.7/site-packages/ipykernel_launcher.py:1: RuntimeWarning: invalid value encountered in sqrt\n",
            "  \"\"\"Entry point for launching an IPython kernel.\n"
          ],
          "name": "stderr"
        }
      ]
    },
    {
      "cell_type": "code",
      "metadata": {
        "id": "wKvVUEGOA1G7",
        "colab_type": "code",
        "outputId": "5163cbf8-75b3-4fb7-a79d-7ef3b93afeb6",
        "colab": {}
      },
      "source": [
        "print(np.power(x,2))"
      ],
      "execution_count": 0,
      "outputs": [
        {
          "output_type": "stream",
          "text": [
            "[2.809e+01 1.000e+00 0.000e+00 2.250e+00 1.000e+02 1.000e+04]\n"
          ],
          "name": "stdout"
        }
      ]
    },
    {
      "cell_type": "markdown",
      "metadata": {
        "id": "WWSKeAbvA1G-",
        "colab_type": "text"
      },
      "source": [
        "#### Nota: \n",
        "En algunos casos requeriremos crear nuestras propias funciones y es recomendable que se apeguen a las ufuncs, es decir que se puedan aplicar independiente de la dimensión del objeto al que se aplican, que soporten broadcasting y muy importante **que su definición evite ciclos y use operaciones vectorizadas y otras ufuncs** , esto será parte de los criterios de evaluación en tareas y exámenes en este curso."
      ]
    },
    {
      "cell_type": "markdown",
      "metadata": {
        "id": "6WbH8cNKA1HA",
        "colab_type": "text"
      },
      "source": [
        "#### Ejemplos en DS:\n",
        "\n",
        "**1)**\n",
        "En machine learning se necesita una manera de \"evaluar\" nuestros modelos ,en ML del tipo \"supervisado\" para modelos de variables discretas categóricas  usamos  para esto  la \"entropía cruzada\" que mide la diferencia  entre 2 distribuciones de probabilidad,la que nuestro modelo predice vs la real obtenida de datos **ground truth** , una entropía cruzada alta es un modelo de ML malo y una entropía cruzada de 0 es un modelo de ML perfecto.\n",
        "\n",
        "La entropía medida en bits(ojo,no cruzada, solo entropía) se define como \"el promedio de información\"(promedio ponderado) y la información se define se define como el negativo del logaritmo base 2 de la probabilidad . \n",
        "\n",
        "$$I(x) = -log_{2}P(x)$$\n",
        "\n",
        "**Comentario**:La entropía es una medida de \"incerteza\", si un evento puede producir muchos resultados diferentes entonces tenemos una alta incerteza del evento lo cual se traduce a entropía alta.\n",
        "\n",
        "La siguiente función calcula para cierta distribución de probabilidad dada por un vector px la información de cada elemento."
      ]
    },
    {
      "cell_type": "code",
      "metadata": {
        "id": "FiGr3m8hA1HB",
        "colab_type": "code",
        "outputId": "9acef615-57e7-4db8-c6ec-b19f20b2f756",
        "colab": {
          "base_uri": "https://localhost:8080/",
          "height": 170
        }
      },
      "source": [
        "def calcular_informacion(px):\n",
        "    return np.log2(px)*-1\n",
        "\n",
        "distribucion_prob1 = [1.0]\n",
        "distribucion_prob2 = [0.5,0.5]\n",
        "distribucion_prob3 = [1.0,0.0]\n",
        "distribucion_prob4 = [0.9999]\n",
        "distribucion_prob5 = [0.25,0.75]\n",
        "distribucion_prob6 = [0.2]*5 # ojo estas son listas por lo tanto * la replica, no son arrays de numpy\n",
        "distribucion_prob7 = [0.4,0.2,0.1,0.1,0.2]\n",
        "\n",
        "print(calcular_informacion(distribucion_prob1))\n",
        "print(calcular_informacion(distribucion_prob2))\n",
        "print(calcular_informacion(distribucion_prob3))\n",
        "print(calcular_informacion(distribucion_prob4))\n",
        "print(calcular_informacion(distribucion_prob5))\n",
        "print(calcular_informacion(distribucion_prob6))\n",
        "print(calcular_informacion(distribucion_prob7))"
      ],
      "execution_count": 0,
      "outputs": [
        {
          "output_type": "stream",
          "text": [
            "[-0.]\n",
            "[1. 1.]\n",
            "[-0. inf]\n",
            "[0.00014428]\n",
            "[2.        0.4150375]\n",
            "[2.32192809 2.32192809 2.32192809 2.32192809 2.32192809]\n",
            "[1.32192809 2.32192809 3.32192809 3.32192809 2.32192809]\n"
          ],
          "name": "stdout"
        },
        {
          "output_type": "stream",
          "text": [
            "/usr/local/lib/python3.6/dist-packages/ipykernel_launcher.py:2: RuntimeWarning: divide by zero encountered in log2\n",
            "  \n"
          ],
          "name": "stderr"
        }
      ]
    },
    {
      "cell_type": "markdown",
      "metadata": {
        "id": "fFIJKWqBA1HH",
        "colab_type": "text"
      },
      "source": [
        "**Ejercicio** Para calcular la información de una distribución de probabilidad necesitamos calcular el producto entre la información de cada posible x y su probabilidad , cada uno de estos elementos nos indica cuanta incerteza aporta cada x a la entropía de la distribución. Crea una función que calcule esto, debe recibir un vector representando a la dist. de probabilidad y devoler otro vector con el termino de entropía para cada x. Por ejemplo:\n",
        "\n",
        "calcular_entropia([0.25,0.75])\n",
        "\n",
        "Debe resultar en :\n",
        "\n",
        "[0.5    ,    0.31127812]\n",
        "\n",
        "**Nota**: la entropía es la suma sobre estos valores, en este caso no calculamos la entropía,unicamente los termimos de su sumatoria. La entropía es:\n",
        "\n",
        "$$S = -\\sum_i^nP(x_{i})log_{2}P(x_{i})$$"
      ]
    },
    {
      "cell_type": "code",
      "metadata": {
        "id": "--6e7am9A1HI",
        "colab_type": "code",
        "outputId": "b296d51a-257f-4f93-e1da-5d1671cad440",
        "colab": {
          "base_uri": "https://localhost:8080/",
          "height": 34
        }
      },
      "source": [
        "# tu codigo aqui (~ 4 lineas de codigo)\n",
        "def calcular_entropia(px):\n",
        "  px = np.array(px)\n",
        "  result = - ( px * np.log2(px))\n",
        "  return result\n",
        "  \n",
        "calcular_entropia([0.25,0.75])\n",
        "  \n"
      ],
      "execution_count": 0,
      "outputs": [
        {
          "output_type": "execute_result",
          "data": {
            "text/plain": [
              "array([0.5       , 0.31127812])"
            ]
          },
          "metadata": {
            "tags": []
          },
          "execution_count": 88
        }
      ]
    },
    {
      "cell_type": "markdown",
      "metadata": {
        "id": "ofOH5jnbA1HL",
        "colab_type": "text"
      },
      "source": [
        "**2)** \n",
        "\n",
        "A partir de la información en un data warehouse con un modelo de  datos el valor de clientes en el tiempo se ha determinado un modelo predictivo  no lineal que estima cuanta ganancia ha generado cierto cliente en 5 años en base a lo que ha gastado en su primer mes como cliente. \n",
        "\n",
        "El modelo tiene la forma:\n",
        "\n",
        "$$g(x) = (x^{3} + 2x^{2} + e^{0.0001x} -\\sqrt{2x})/50$$\n",
        "\n",
        "Crear una función que calcule la ganancia para valores de gasto de nuevos clientes:"
      ]
    },
    {
      "cell_type": "code",
      "metadata": {
        "id": "UWqWpAFXA1HN",
        "colab_type": "code",
        "outputId": "eb20dfba-534c-451f-e7cb-57a7de423212",
        "colab": {
          "base_uri": "https://localhost:8080/",
          "height": 34
        }
      },
      "source": [
        "def g(x):\n",
        "    ganancia = (np.power(x,3) + 2.0*(np.power(x,2.0))+np.exp(0.0001*x) - np.sqrt(2.0*x))/50\n",
        "    \n",
        "    return ganancia\n",
        "    \n",
        "gastos = np.array([100,50,25])\n",
        "ganancia = g(gastos)\n",
        "\n",
        "print(\"Ganancias\",ganancia)"
      ],
      "execution_count": 0,
      "outputs": [
        {
          "output_type": "stream",
          "text": [
            "Ganancias [20399.73735829  2599.82010025   337.37862871]\n"
          ],
          "name": "stdout"
        }
      ]
    },
    {
      "cell_type": "markdown",
      "metadata": {
        "id": "Si7nXzswA1HU",
        "colab_type": "text"
      },
      "source": [
        "**Ejercicio** : se ha determinado también que hay costos asociados a la comunicación y relación con los clientes(llamadas,mensajes electrónicos,etc) y que estos también tienen alta correlación con el monto que estos gastan en su primer més siguiendo el modelo:\n",
        "$$c(x) = (x^{2} + x + log (0.0001x)-\\sqrt{0.54x})/100$$\n",
        "\n",
        "Cree una función para calcular este modelo sobre valores de de gasto de nuevos clientes , y luego cree una función  **ganancia_neta(x,g,c)** donde:\n",
        "* x = vector conteniendo los valores de gasto del primer mes para nuevos clientes.\n",
        "* g = función que estima la ganancia en función de x\n",
        "* c = función que estima el costo en función de x\n",
        "\n",
        "La función realiza el calculo simple **g(x) - c(x)** , ya que es posible que los modelos cambien en el tiempo es común recibir como parámetro el modelo o modelos hijos de un modelo mas grande , en este caso eso se logra recibiendo como parámetro las funciones de ganancia y costo."
      ]
    },
    {
      "cell_type": "code",
      "metadata": {
        "id": "izIie8eUvvfO",
        "colab_type": "code",
        "outputId": "02a251f4-d238-4d8c-b957-a9d1c502411d",
        "colab": {
          "base_uri": "https://localhost:8080/",
          "height": 34
        }
      },
      "source": [
        "#EJERCICIO\n",
        "\n",
        "def c(x):\n",
        "  costo = (np.power(x,2) + x + np.log(0.0001*x) - np.sqrt(0.54*x))/100\n",
        "  return costo\n",
        "\n",
        "def ganancia_neta(x,g,c):\n",
        "  ganancia_neta = g(x) - c(x)\n",
        "  return ganancia_neta\n",
        "\n",
        "ganancia_neta(gastos,g,c)\n",
        "  "
      ],
      "execution_count": 0,
      "outputs": [
        {
          "output_type": "execute_result",
          "data": {
            "text/plain": [
              "array([20298.85689469,  2574.42504495,   330.9752857 ])"
            ]
          },
          "metadata": {
            "tags": []
          },
          "execution_count": 93
        }
      ]
    },
    {
      "cell_type": "markdown",
      "metadata": {
        "id": "Tmw07wfxA1HU",
        "colab_type": "text"
      },
      "source": [
        "### Funciones miscelaneas(agregación y estadistica descriptiva básica) \n",
        "\n",
        "Ya hemos trabajado algunas funciones de NumPy pero han sido funciones \"elementwise\" cuyo vector resultante tiene el mismo tamaño que el vector de entrada, existen muchas otras funciones que utilizamos en casos en los que necesitamos agregar,resumir cierto vector,incluyendo en este tipo de funciones algunas de estadistica descriptiva básica."
      ]
    },
    {
      "cell_type": "code",
      "metadata": {
        "id": "ILTBiH1RA1HY",
        "colab_type": "code",
        "colab": {}
      },
      "source": [
        "x = np.array([1,2,3,4,5,6,7,8,9,2,2])\n",
        "x_nan = np.array([1,2,3,4,np.nan,6,8,2,2])"
      ],
      "execution_count": 0,
      "outputs": []
    },
    {
      "cell_type": "code",
      "metadata": {
        "id": "hFKvvgCqA1Hc",
        "colab_type": "code",
        "outputId": "0add9c83-6775-4815-db55-f6b391e41268",
        "colab": {}
      },
      "source": [
        "#nanmax ignora valores nan si existieran , max retorna nan si el vector tuviera un nan\n",
        "\n",
        "\n",
        "print(np.max(x))\n",
        "print(x.max())\n",
        "print(np.max(x_nan))\n",
        "\n",
        "print(np.nanmax(x))\n",
        "print(np.nanmax(x_nan))"
      ],
      "execution_count": 0,
      "outputs": [
        {
          "output_type": "stream",
          "text": [
            "9\n",
            "9\n",
            "nan\n",
            "9\n",
            "8.0\n"
          ],
          "name": "stdout"
        },
        {
          "output_type": "stream",
          "text": [
            "/home/luis/anaconda2/envs/py_galileo/lib/python3.7/site-packages/numpy/core/fromnumeric.py:83: RuntimeWarning: invalid value encountered in reduce\n",
            "  return ufunc.reduce(obj, axis, dtype, out, **passkwargs)\n"
          ],
          "name": "stderr"
        }
      ]
    },
    {
      "cell_type": "code",
      "metadata": {
        "id": "U0QCgz__A1Hi",
        "colab_type": "code",
        "outputId": "031ca01b-f40d-4ed6-9ce8-6a8203a19107",
        "colab": {}
      },
      "source": [
        "print(np.argmax(x))\n",
        "print(x.argmax())"
      ],
      "execution_count": 0,
      "outputs": [
        {
          "output_type": "stream",
          "text": [
            "8\n",
            "8\n"
          ],
          "name": "stdout"
        }
      ]
    },
    {
      "cell_type": "code",
      "metadata": {
        "id": "UcrHH0LeA1Hn",
        "colab_type": "code",
        "outputId": "bcf8e31c-14ae-4ab5-b990-5891a9442f8f",
        "colab": {}
      },
      "source": [
        "print(np.min(x))\n",
        "print(x.min())\n",
        "print(np.min(x_nan))\n",
        "\n",
        "print(np.nanmin(x))\n",
        "print(np.nanmin(x_nan))"
      ],
      "execution_count": 0,
      "outputs": [
        {
          "output_type": "stream",
          "text": [
            "1\n",
            "1\n",
            "nan\n",
            "1\n",
            "1.0\n"
          ],
          "name": "stdout"
        }
      ]
    },
    {
      "cell_type": "code",
      "metadata": {
        "id": "yfn2Ia5sA1Hs",
        "colab_type": "code",
        "outputId": "7571adcd-e6c3-4aa4-80c8-e0ffe29eea77",
        "colab": {}
      },
      "source": [
        "print(np.argmin(x))\n",
        "print(x.min())"
      ],
      "execution_count": 0,
      "outputs": [
        {
          "output_type": "stream",
          "text": [
            "0\n",
            "1\n"
          ],
          "name": "stdout"
        }
      ]
    },
    {
      "cell_type": "code",
      "metadata": {
        "id": "xwjnzNtDA1Hv",
        "colab_type": "code",
        "outputId": "17eeeba5-a286-4171-c168-6bbc21794b93",
        "colab": {}
      },
      "source": [
        "print(np.sum(x))\n",
        "print(x.sum())\n",
        "print(np.sum(x_nan))"
      ],
      "execution_count": 0,
      "outputs": [
        {
          "output_type": "stream",
          "text": [
            "49\n",
            "49\n",
            "nan\n"
          ],
          "name": "stdout"
        }
      ]
    },
    {
      "cell_type": "code",
      "metadata": {
        "id": "syuSvX1PA1Hy",
        "colab_type": "code",
        "outputId": "417011c7-1604-4e93-907a-d492507cd0c7",
        "colab": {}
      },
      "source": [
        "print(np.prod(x))\n",
        "print(x.prod())\n",
        "print(np.prod(x_nan))"
      ],
      "execution_count": 0,
      "outputs": [
        {
          "output_type": "stream",
          "text": [
            "1451520\n",
            "1451520\n",
            "nan\n"
          ],
          "name": "stdout"
        }
      ]
    },
    {
      "cell_type": "markdown",
      "metadata": {
        "id": "U7vfGs0_A1H5",
        "colab_type": "text"
      },
      "source": [
        "#### Aritmetica acumulativa\n",
        "\n",
        "En muchos casos es útil usar sumas o productos acumulativos , por ejemplo:\n",
        "\n",
        "**Ejemplo aplicado** En un datawarehouse se tiene un modelo \"lifetime value\" en el que se almacena de manera acumulativa cuantas ganancias se han percibido a lo largo de la vida de los usuarios, un ETL en Python debe calcularlo en función de un vector que contiene de manera ordenada en el tiempo los ingresos percibidos mensualmente para cierto usuario. Podemos usar la funcion **np.cumsum** para esto, en este ejercicio necesitamos determinar el \"lifetime value\" de cierto usuario en su 6to mes:\n"
      ]
    },
    {
      "cell_type": "code",
      "metadata": {
        "id": "EOn-cXdvA1H7",
        "colab_type": "code",
        "outputId": "871f2fa4-2420-4b8c-8239-c5a612a2ca48",
        "colab": {
          "base_uri": "https://localhost:8080/",
          "height": 51
        }
      },
      "source": [
        "def lifetime_value(ganancias_mensuales):\n",
        "    ## tu codigo aqui(~ 1 linea de codigo):\n",
        "    result = np.cumsum(ganancias_mensuales)\n",
        "    return result\n",
        "\n",
        "# Prueba:\n",
        "ganancias_usuario = np.array([25,150,125,75,100,45,22,30])\n",
        "lifetime_value_usuario = lifetime_value(ganancias_usuario)\n",
        "\n",
        "print(\"Lifetime value:\",lifetime_value_usuario)\n",
        "\n",
        "print(\"El valor del usuario a su sexto mes es :\",lifetime_value_usuario[5])"
      ],
      "execution_count": 0,
      "outputs": [
        {
          "output_type": "stream",
          "text": [
            "Lifetime value: [ 25 175 300 375 475 520 542 572]\n",
            "El valor del usuario a su sexto mes es : 520\n"
          ],
          "name": "stdout"
        }
      ]
    },
    {
      "cell_type": "markdown",
      "metadata": {
        "id": "2GQDx1qLA1H9",
        "colab_type": "text"
      },
      "source": [
        "Poseemos también la funcióm similar **np.cumprod** que multiplica de manera acumulativa los elementos de un vector."
      ]
    },
    {
      "cell_type": "code",
      "metadata": {
        "id": "cRjYs8VlA1H-",
        "colab_type": "code",
        "outputId": "3ee6d186-09ad-49f3-d7be-75e2833cab9b",
        "colab": {}
      },
      "source": [
        "print(np.cumprod(ganancias_usuario))"
      ],
      "execution_count": 0,
      "outputs": [
        {
          "output_type": "stream",
          "text": [
            "[             25            3750          468750        35156250\n",
            "      3515625000    158203125000   3480468750000 104414062500000]\n"
          ],
          "name": "stdout"
        }
      ]
    },
    {
      "cell_type": "markdown",
      "metadata": {
        "id": "yiv9Y1O_A1IB",
        "colab_type": "text"
      },
      "source": [
        "#### Estadística descriptiva\n",
        "\n",
        "https://docs.scipy.org/doc/numpy-1.15.0/reference/routines.statistics.html"
      ]
    },
    {
      "cell_type": "code",
      "metadata": {
        "id": "KAzGv41fA1IC",
        "colab_type": "code",
        "outputId": "15373a21-aaba-4d12-fe02-47444b2c2285",
        "colab": {}
      },
      "source": [
        "print(np.mean(x))\n",
        "print(x_nan.mean())"
      ],
      "execution_count": 0,
      "outputs": [
        {
          "output_type": "stream",
          "text": [
            "4.454545454545454\n",
            "nan\n"
          ],
          "name": "stdout"
        }
      ]
    },
    {
      "cell_type": "code",
      "metadata": {
        "id": "91WWmQUtA1IF",
        "colab_type": "code",
        "outputId": "13421b85-a945-40af-b57c-f803faa914ab",
        "colab": {}
      },
      "source": [
        "print(np.median(x))\n",
        "print(np.median(x_nan))"
      ],
      "execution_count": 0,
      "outputs": [
        {
          "output_type": "stream",
          "text": [
            "4.0\n",
            "nan\n"
          ],
          "name": "stdout"
        },
        {
          "output_type": "stream",
          "text": [
            "/home/luis/anaconda2/envs/py_galileo/lib/python3.7/site-packages/numpy/lib/function_base.py:3250: RuntimeWarning: Invalid value encountered in median\n",
            "  r = func(a, **kwargs)\n"
          ],
          "name": "stderr"
        }
      ]
    },
    {
      "cell_type": "code",
      "metadata": {
        "id": "b1YPFBeGA1IM",
        "colab_type": "code",
        "outputId": "12ff2714-032d-4cf0-c30a-9b814d591876",
        "colab": {}
      },
      "source": [
        "print(x.std())\n",
        "print(np.std(x))"
      ],
      "execution_count": 0,
      "outputs": [
        {
          "output_type": "stream",
          "text": [
            "2.6064129430602643\n",
            "2.6064129430602643\n"
          ],
          "name": "stdout"
        }
      ]
    },
    {
      "cell_type": "code",
      "metadata": {
        "id": "wvkEOE7jA1IR",
        "colab_type": "code",
        "outputId": "c3d8fd6d-1baa-4f10-a601-5f0ae4b45ab5",
        "colab": {}
      },
      "source": [
        "print(x.var())\n",
        "print(np.var(x))"
      ],
      "execution_count": 0,
      "outputs": [
        {
          "output_type": "stream",
          "text": [
            "6.793388429752068\n",
            "6.793388429752068\n"
          ],
          "name": "stdout"
        }
      ]
    },
    {
      "cell_type": "markdown",
      "metadata": {
        "id": "NFSf3ublA1IV",
        "colab_type": "text"
      },
      "source": [
        "**Ejercicio** Usando argmax crear una función mode(x) para calcular la moda de un vector x , esta función debe devolver una tupla de 2 elementos de la forma:\n",
        "\n",
        "(valor,conteo)\n",
        "\n",
        "**tip** investigar y auxiliarse de otras funciones de numpy y np.argmax, no olvidar trabajar todo vectorizado, sin ciclos."
      ]
    },
    {
      "cell_type": "code",
      "metadata": {
        "id": "BVh004BqA1IW",
        "colab_type": "code",
        "outputId": "c6de1a9f-fd70-4d65-9d8e-ce1b2262e36a",
        "colab": {
          "base_uri": "https://localhost:8080/",
          "height": 34
        }
      },
      "source": [
        "def mode(x):\n",
        "    ## tu codigo aqui (~ 3 lineas de codigo):\n",
        "    unique = np.unique(x, return_counts = True)\n",
        "    modecounts = np.max(unique[1])\n",
        "    mode = unique[0][np.argmax(unique[1])]\n",
        "    return (mode, modecounts)\n",
        "    \n",
        "print(mode(x))"
      ],
      "execution_count": 0,
      "outputs": [
        {
          "output_type": "stream",
          "text": [
            "(2, 3)\n"
          ],
          "name": "stdout"
        }
      ]
    },
    {
      "cell_type": "markdown",
      "metadata": {
        "id": "Ctjx_o0UA1Ia",
        "colab_type": "text"
      },
      "source": [
        "**Ejercicio** : crear una función para calcular la entropía  de una distribución de probabilidad representada como un vector.\n",
        "$$S = -\\sum_i^nP(x_{i})log_{2}P(x_{i})$$\n",
        "\n",
        "**Nota**: a diferencia del ejercicio anterior donde solo calculamos los términos de la entropía, en este caso  si calculamos el valor completo de la entropía, que como mencionamos es una medida de incerteza en una distribución de probabilidad.\n",
        "\n",
        "**recordatorio**: no usar ciclos solo operaciones vectorizadas."
      ]
    },
    {
      "cell_type": "code",
      "metadata": {
        "id": "AgaDtvftA1Ic",
        "colab_type": "code",
        "outputId": "9c46c2fa-e2ab-46f9-85c9-a3efca38d131",
        "colab": {
          "base_uri": "https://localhost:8080/",
          "height": 34
        }
      },
      "source": [
        "# tu codigo aqui (~ 3 lineas de codigo)\n",
        "def calcular_sumentropia(px):\n",
        "  return np.sum(calcular_entropia(px))\n",
        "\n",
        "calcular_sumentropia([0.25,0.75])\n",
        "\n",
        "  "
      ],
      "execution_count": 0,
      "outputs": [
        {
          "output_type": "execute_result",
          "data": {
            "text/plain": [
              "0.8112781244591328"
            ]
          },
          "metadata": {
            "tags": []
          },
          "execution_count": 117
        }
      ]
    },
    {
      "cell_type": "markdown",
      "metadata": {
        "id": "Hm9ts40aA1Ig",
        "colab_type": "text"
      },
      "source": [
        "**Ejercicio**: En ML usamos la entropía cruzada como una forma de medir que tan bueno es un modelo de variables discretas a través de comparar la distribución de probabilidad que el modelo produce o predice, vs la distribución de probabilidad real dada por los datos de entrenamiento.\n",
        "\n",
        "Podemos ver el siguiente ejemplo que define la forma en que se calcula la entropía cruzada y nos muestra un caso específico:\n",
        "\n",
        "<img src=\"https://image.slidesharecdn.com/publishintroductiontodeeplearninginpythonandmatlab1-160502102437/95/introduction-to-deep-learning-in-python-and-matlab-54-638.jpg?cb=1462185644\">\n",
        "\n",
        "En este caso interpretamos así: El problema consiste en un modelo o algoritmo de ML que debe producir un vector de 3 elementos indicando la probabilidad de que ciertos datos X pertenezcan a una de 3 categorías.\n",
        "\n",
        "* El modelo de ML produce un vector que indica que estima un 70% de probabilidad de que se trate de la categoría 0, 20% de probabilidad de que se trate de la categoría 1 y 10% de que se trate de la categoría 2.\n",
        "* Los datos reales nos dicen que se trataba de un caso donde con total certeza se sabe que se trata de la categoría 0\n",
        "* La entropía cruzada(a calcular en el ejercicio) nos indica que tan buena es la estimación del modelo, una EC de 0 es un modelo perfecto(en este caso un modelo que predice 100% de prob para la clase 0)\n",
        "\n",
        "**Nota** \n",
        "* Aun que para calcular la entropía usamos logaritmos en base 2, en ML para calcular la entropía cruzada se usa logaritmo natural ya que con este se cumple el proposito **estimar que tanto se alejan las predicciones del modelo de ML de los datos reales** y es comunmente mas rápido de calcular en la computadora.\n",
        "* Ya que estamos trabajando con vectores que representan distribuciones de probabilidad , podemos toparnos con lo que se conoce como : **sparse vectors**(vectores donde la mayoría de elementos son 0), esto puede producir problemas ya que le logaritmo de 0 no esta definido, tu solución debe tomar en cuenta esto y evitar que devuelva \"nan\""
      ]
    },
    {
      "cell_type": "code",
      "metadata": {
        "id": "hhAG27RfA1Ih",
        "colab_type": "code",
        "outputId": "f8f6d581-814c-426f-b15b-d5e2a9c1c076",
        "colab": {
          "base_uri": "https://localhost:8080/",
          "height": 34
        }
      },
      "source": [
        "def cross_entropy(Y,Y_hat):\n",
        "    ##tu codigo aqui (~ 1 lineas de codigo)\n",
        "    if 0 in Y_hat:\n",
        "      logY_hat = np.log(Y_hat)\n",
        "      logY_hat[np.isinf(logY_hat)] = 0\n",
        "      return -(np.sum(Y * logY_hat))\n",
        "    else: \n",
        "      return -(np.sum(Y * np.log(Y_hat)))\n",
        "\n",
        "y  = np.array([1.0,0,0])\n",
        "y_hat = np.array([0.7,0.2,0.1])\n",
        "\n",
        "cross_entropy(y,y_hat)"
      ],
      "execution_count": 0,
      "outputs": [
        {
          "output_type": "execute_result",
          "data": {
            "text/plain": [
              "0.35667494393873245"
            ]
          },
          "metadata": {
            "tags": []
          },
          "execution_count": 143
        }
      ]
    },
    {
      "cell_type": "markdown",
      "metadata": {
        "id": "3hkTmUzZA1Im",
        "colab_type": "text"
      },
      "source": [
        "\n",
        "### Magnitud de un Vector(norma o módulo)\n",
        "Ya hemos visto que en DS usamos vectores para representar información ,una propiedad importante de los vectores es la **magnitud** del vector. \n",
        "\n",
        "Matemáticamente la magnitud de un vector(también conocida como norma vectorial)  nos indica  el tamaño de este , y nos sirve para tener una noción de la distancia desde un punto de referencia(origen) hasta el punto representado por el vector.\n",
        "\n",
        "\n",
        "\n",
        "<img src=\"http://mathonline.wdfiles.com/local--files/the-norm-of-a-vector/Screen%20Shot%202014-06-12%20at%205.37.19%20PM.png\">\n",
        "\n",
        "Se puede calcular con:\n",
        "\n",
        "<img src=\"https://images.slideplayer.com/18/6074185/slides/slide_4.jpg\">\n",
        "\n",
        "En DS la interpretación de la magnitud depende del problema y significado del vector sobre el que se trabaje, ademas de ser también utilizada en calculos mas complejos,por ejemplo: **similitud por cosenos**.\n",
        "\n",
        "<img src=\"https://machinelearningflashcards.com/images/L2_Norm_print.png\">\n",
        "\n",
        "\n",
        "Algunos ejemplos:\n",
        "* En machine learning:\n",
        "    * Si almacenamos en 2 vectores los errores producidos por 2 modelos de ML , podemos usar la magnitud de estos para determinar cual de los 2 modelos es mejor.\n",
        "    * Cuando un modelo de ML \"memoriza\" en lugar de \"aprender\" decimos que sufre \"overfitting\" una forma de atacar este problema es usar \"L2 regularization\" que consiste en agregar a la \"función de costo\" un término de penalización que es calculado a partir de la magnitud de parámetros del modelo(cuadrado de la magnitud)\n",
        "    \n",
        "    <img src=\"https://cdn-images-1.medium.com/max/1600/1*JP9VzwxsRXjocb3WgVOTxA.png\">\n",
        "    * Un paso de pre-procesamiento común en ML es aplicar \"normalización\" a los datos, esto se logra(entre otras formas) dividiendo el vector de datos dentro de su magnitud de manera que tenga magnitud 1.\n",
        "    \n",
        "* En NLP(natural language processing): es común representar documentos como vectores n dimensionales, donde n es el número de palabras en cierto vocabulario, cada elemento \"i\" del vector indica cuantas veces aparece en el documento la palabra denotada por la posición \"i\" , podemos  usar la magnitud vectorial  para calcular la **similitud cosenoidal** y así estimar que tanto se  parece en contenido un documento a otro.\n",
        "<img src=\"https://www.machinelearningplus.com/wp-content/uploads/2018/10/Cosine-Similarity-Formula-1.png\">\n",
        "\n",
        "**ejercicio** : crear una función que reciba como parámetro un vector x y calcule su magnitud o norma(euclidiana o L2) ,luego usarla para evaluar 2 vectores que representan los errores generados por 2 modelos de machine learning y concluir cual de los 2 modelos es mejor."
      ]
    },
    {
      "cell_type": "code",
      "metadata": {
        "id": "PXhxgpypA1In",
        "colab_type": "code",
        "outputId": "efa7e308-b64c-4e94-a83b-42ba685ca062",
        "colab": {
          "base_uri": "https://localhost:8080/",
          "height": 50
        }
      },
      "source": [
        "def magnitud(x):\n",
        "    return np.sqrt(np.sum(np.power(x,2)))\n",
        "\n",
        "errores_modelo1 = np.array([1,2,1,2])\n",
        "errores_modelo2 = np.array([0,1,1,2])\n",
        "\n",
        "print(magnitud(errores_modelo1))\n",
        "print(magnitud(errores_modelo2))\n",
        "\n",
        "#El modelo2 tiene una magnitud de errores menor que el modelo1, por lo que se\n",
        "# considera que es mejor"
      ],
      "execution_count": 0,
      "outputs": [
        {
          "output_type": "stream",
          "text": [
            "3.1622776601683795\n",
            "2.449489742783178\n"
          ],
          "name": "stdout"
        }
      ]
    },
    {
      "cell_type": "markdown",
      "metadata": {
        "id": "GZP-aWs6A1Ir",
        "colab_type": "text"
      },
      "source": [
        "**ejercicio** Usando la función del ejercicio anterior, crea otra función normalizar(x) que reciba de parámetro un vector x aplique normalización sobre este, el resultado debe ser un nuevo vector del tamaño de x cuya magnitud es igual a 1.0"
      ]
    },
    {
      "cell_type": "code",
      "metadata": {
        "id": "xa7gOOs2A1Is",
        "colab_type": "code",
        "outputId": "f87b0caf-0c38-4d54-9fcc-8979c110e749",
        "colab": {
          "base_uri": "https://localhost:8080/",
          "height": 51
        }
      },
      "source": [
        "def normalizar(x):\n",
        "    return x / magnitud(x)\n",
        "    ## tu codigo aqui (~ 3 linea de codigo)\n",
        "\n",
        "print(magnitud(normalizar(errores_modelo1)))\n",
        "print(normalizar(errores_modelo2))"
      ],
      "execution_count": 0,
      "outputs": [
        {
          "output_type": "stream",
          "text": [
            "1.0\n",
            "[0.         0.40824829 0.40824829 0.81649658]\n"
          ],
          "name": "stdout"
        }
      ]
    },
    {
      "cell_type": "markdown",
      "metadata": {
        "id": "c3qN4c3nA1Iv",
        "colab_type": "text"
      },
      "source": [
        "### Producto Punto(escalar,interno,interior) y Ortogonalidad\n",
        "\n",
        "El producto punto(también conocido como producto escalar,producto interno o producto interior es una operación entre 2 vectores, cuyo resultado es un único número(escalar).\n",
        "\n",
        "Existen basicamente 2 definiciones del producto punto siendo la más conocida la sumatoria de los productos entre elementos de los vectores.\n",
        "\n",
        "Otra definición geométrica del producto punto puede ser obtenida basandonos en la magnitud de los vectores y el ángulo entre ellos.\n",
        "\n",
        "<img src = \"https://ocw.mit.edu/courses/mathematics/18-02sc-multivariable-calculus-fall-2010/1.-vectors-and-matrices/part-a-vectors-determinants-and-planes/session-2-dot-products/MIT18_02SC_L1Brds_5.png\">\n",
        "\n",
        "Por lo tanto podemos usar estas expresiones para encontrar el ángulo existente entre los 2 vectores.\n",
        "\n",
        "<img src=\"data:image/png;base64,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\">\n",
        "\n",
        "#### Interpretación \n",
        "Existen diversas interpretaciones de esta operación , algunas son :\n",
        "\n",
        "* Que tan similares son 2 vectores: esto es útil en casos donde tengamos vectores de datos y necesitemos comparar su similitud.\n",
        "* Proyectar un vector sobre otro: el producto punto es el tamaño de la proyección de un vector A sobre un vector B multiplicado por el tamaño del vector B\n",
        "<img src=\"NumPy_algebra_lineal/dot_product.png\">\n",
        "* El producto punto es parte importante de la multiplicación de matrices(tema aún por desarrollar), una de las operaciones más importantes en AI a través de deep learning.\n",
        "\n",
        "\n",
        "#### Usos y aplicaciones del producto punto\n",
        "\n",
        "El producto punto tiene diversas aplicaciones en muchas ciencias, en ciencias de datos es muy utilizado y aplicado , por ejemplo:\n",
        "\n",
        "* **En Machine Learning**:\n",
        "    * En modelos lineales como regresión lineal o regresión lógistica es común guardar en un vector los parámetros de los modelos(aveces llamado W) y cuando queremos hacer inferencia sobre ciertos datos \"x\" almacenamos los datos \"x\" en un vector X y aplicamos la operación producto punto entre X y W.\n",
        "    <img src=\"https://images.slideplayer.com/24/7356693/slides/slide_5.jpg\">\n",
        "    * Una interpretación geométrica del producto punto es que tan similares dos vectores son entre sí , las redes neuronales utilizan este principio  para definir multiples capas jerarquicas de \"caraceterísticas\"(representadas por neuronas) que buscar sobre ciertos datos de entrada X, estas  características  son definidas en vectores  por lo cual el producto punto es una medida de que tanto se parece cierto vector X a la característica que la neurona representa, un valor alto del producto punto indica alta similitud entre los datos X y la característica que la neurona \"busca\"\n",
        "    <img src=\"https://isaacchanghau.github.io/img/deeplearning/activationfunction/intro.png\">\n",
        "    \n",
        "\n",
        "#### Perpendicularidad \n",
        "\n",
        "Se dice que 2 vectores son perpendiculares si el producto punto entre ellos es igual a 0 ,geometricamente esto ocurre cuando los vectores se encuentran a 90 grados entre sí por lo cual en DS podemos interpretar que 2 vectores cuyo producto punto es 0, son vectores que difieren mucho por lo tanto son muy diferentes.\n",
        "\n",
        "\n",
        "<img src=\"https://chortle.ccsu.edu/VectorLessons/vch07/acuteORobtuse.gif\">\n",
        "    \n",
        "#### Producto punto en NumPy\n",
        "\n",
        "En NumPy poseemos 2 maneras de calcular el producto punto sobre vectores de igual tamaño:\n",
        "\n",
        "* np.dot:https://docs.scipy.org/doc/numpy/reference/generated/numpy.dot.html#numpy.dot\n",
        "* np.inner:https://docs.scipy.org/doc/numpy/reference/generated/numpy.inner.html\n",
        "\n",
        "**¿Por que 2 operaciones?** Estas operaciones son diferentes cuando se trabaja con Tensores de rango mayor a 1 y pueden ser \"configurables\" , para Tensores de rango=1(vectores de igual tamaño,nuestro tema actual) son equivalentes."
      ]
    },
    {
      "cell_type": "code",
      "metadata": {
        "id": "Yq1w6sO-A1Iv",
        "colab_type": "code",
        "outputId": "e486c730-fa6d-408d-905d-5123f3da2e52",
        "colab": {}
      },
      "source": [
        "f = np.array([0.1,0.2,0.3])\n",
        "g = np.array([1,2,3])\n",
        "\n",
        "print(f.dot(g))\n",
        "print(np.dot(f,g))\n",
        "\n",
        "#print(g.inner(f)) # operacion no existente en NumPy\n",
        "print(np.inner(g,f))"
      ],
      "execution_count": 0,
      "outputs": [
        {
          "output_type": "stream",
          "text": [
            "1.4\n",
            "1.4\n",
            "1.4\n"
          ],
          "name": "stdout"
        }
      ]
    },
    {
      "cell_type": "markdown",
      "metadata": {
        "id": "jNTGPJWLA1Iy",
        "colab_type": "text"
      },
      "source": [
        "**Ejercicio aplicado en DS**\n",
        "Se tiene una red neuronal sencilla(y simplificada) como la de la siguiente imagen:\n",
        "<img src=\"https://www.oreilly.com/library/view/practical-convolutional-neural/9781788392303/assets/246151fb-7893-448d-b9bb-7a87b387a24b.png\">\n",
        "\n",
        "Donde:\n",
        "* INPUT LAYER: un vector X de tamaño = 2 que representa los datos de entrada\n",
        "* HIDDEN_LAYER :capa oculta con 2 neuronas definidas por los vectores:\n",
        "    * HL1 = [0.25,0.37]\n",
        "    * HL2 = [-8,14]\n",
        "* OUTPUT_LAYER = capa de salida definida por el vector [4,9]\n",
        "\n",
        "Crear una funcion neural_network(X) para calcular:\n",
        "* Calcule la salida de cada neurona en la capa intermedia aplicada a la capa de entrada.\n",
        "* Use el resultado del paso anterior como entrada para la neurona en la capa de salida\n",
        "\n",
        "Asumiendo que cada neurona identifica la similitud entre su entrada y la caracteística que representa concluir:\n",
        "* Para cada vector de entrada Xi , cual neurona intermedia busca la característica que mas se parece a X.\n",
        "* Cual vector de entrada Xi produce una activación alta(salida alta) en la capa de salida."
      ]
    },
    {
      "cell_type": "code",
      "metadata": {
        "id": "rULaKS1dA1Iy",
        "colab_type": "code",
        "outputId": "75ccf6b4-4291-4554-9e15-708d7a5a7ecd",
        "colab": {
          "base_uri": "https://localhost:8080/",
          "height": 187
        }
      },
      "source": [
        "# Aplicar la red neuronal sobre los siguientes datos X\n",
        "def neural_network(IL):\n",
        "  HL1 = np.array([0.25,0.37])\n",
        "  HL2 = np.array([-8,14])\n",
        "  OL = np.array([4,9])\n",
        "  HL1r = np.inner(IL,HL1)\n",
        "  HL2r = np.inner(IL,HL2)\n",
        "  HLresult = np.array([HL1r, HL2r])\n",
        "  result = np.inner(HLresult,OL)\n",
        "  print(\"La neurona intermedia que busca la característica que más se parece a X es la neurona: \", np.argmax(HLresult)+1)\n",
        "  return result\n",
        "\n",
        "\n",
        "X1 = np.array([0.50,0.72])\n",
        "X2 = np.array([-4,7])\n",
        "X3 = np.zeros_like(X2)\n",
        "X4 = np.ones_like(X1)\n",
        "X5 = np.random.randn(X1.shape[0])\n",
        "\n",
        "print(neural_network(X1))\n",
        "print(neural_network(X2))\n",
        "print(neural_network(X3))\n",
        "print(neural_network(X4))\n",
        "print(neural_network(X5))"
      ],
      "execution_count": 0,
      "outputs": [
        {
          "output_type": "stream",
          "text": [
            "La neurona intermedia que busca la característica que más se parece a X es la neurona:  2\n",
            "56.2856\n",
            "La neurona intermedia que busca la característica que más se parece a X es la neurona:  2\n",
            "1176.36\n",
            "La neurona intermedia que busca la característica que más se parece a X es la neurona:  1\n",
            "0.0\n",
            "La neurona intermedia que busca la característica que más se parece a X es la neurona:  2\n",
            "56.48\n",
            "La neurona intermedia que busca la característica que más se parece a X es la neurona:  1\n",
            "-28.29855641840034\n"
          ],
          "name": "stdout"
        }
      ]
    },
    {
      "cell_type": "markdown",
      "metadata": {
        "id": "wGRgNngrA1I1",
        "colab_type": "text"
      },
      "source": [
        "**Ejercicio aplicado en DS**: la correlación cruzada es una medida de similitud entre 2 funciones como resultado de \"desplazar\" una sobre la otra, comunmente es usada para encontrar características relevantes en una función desconocida o no controlada.\n",
        "\n",
        "En procesamiento de señales por ejemplo es usada para buscar y/o filtrar en una señal que varia en el tiempo cierta caracaterística de interés. Aveces es llamada también \"sliding dot product\" consiste en aplicar en cada punto de una función F el producto punto con cierta función G(comunmente mas corta) y luego \"deslizar\" G a un nuevo punto de la función, el resultado es una nueva función H que se interpreta como :**cuanto se parece** en cada punto la función F a la característica G. \n",
        "\n",
        "<img src=\"https://i.makeagif.com/media/11-25-2015/LZ9Ufj.gif\">\n",
        "\n",
        "En este ejercicio usamos correlación cruzada para calcular las medias moviles promediando 3 puntos que ya vimos en otro ejemplo:\n",
        "\n",
        "El primer paso es definir la función G que define el \"filtro\" a aplicar, para este caso consiste simplemente en un vector con 3 elementos donde cada elemento corresponde a 1/3, luego debemos aplicar el producto punto sobre cada punto de la función o datos originales(en este ejemplo llamados x) a traves aplicar el producto punto en cada elemento \"corriendolo\" de uno en uno"
      ]
    },
    {
      "cell_type": "code",
      "metadata": {
        "id": "RIvJetPDA1I2",
        "colab_type": "code",
        "outputId": "2d22a716-d6b2-45c1-cb70-f84c0cd198a0",
        "colab": {
          "base_uri": "https://localhost:8080/",
          "height": 67
        }
      },
      "source": [
        "ruido = 0.1*np.random.randn(15) #el ruido comunmente se debe a aleatoriedad o captura no exacta de info.\n",
        "x = np.linspace(0,2*np.pi,15) + ruido\n",
        "x = np.sin(x)\n",
        "filtro = np.array([1/3,1/3,1/3])\n",
        "## tu codigo aqui (~ 3 linea de codigo)\n",
        "slidingdotlist = []\n",
        "for i in range(0,len(x)-2):\n",
        "  slidingdotlist.append(np.inner(np.array(x[i:i+3]), filtro))\n",
        "print(np.array(slidingdotlist))"
      ],
      "execution_count": 0,
      "outputs": [
        {
          "output_type": "stream",
          "text": [
            "[ 0.47486803  0.80173252  0.93922432  0.91822044  0.70035745  0.34835071\n",
            " -0.0868855  -0.42897897 -0.71939864 -0.88168504 -0.90915513 -0.73892232\n",
            " -0.42849156]\n"
          ],
          "name": "stdout"
        }
      ]
    },
    {
      "cell_type": "markdown",
      "metadata": {
        "id": "2-yMozGjA1I4",
        "colab_type": "text"
      },
      "source": [
        "### Constantes Numéricas importantes\n",
        "\n",
        "Tal como NumPy provee funciones matemáticas comunes como logaritmos y funciones trigonométricas ,también posee constantes usadas comunmente en problemas numéricos , por ejemplo:\n",
        "\n",
        "* **np.e** : constante de Euler, base de logaritmos naturales 2.71828...\n",
        "* **np.pi** :el conocido número pi 3.1415.....\n",
        "* **np.euler_gamma**: constante utilizada  por ejemplo en transformadas de Laplace , 0.5772....\n",
        "\n",
        "Además de algunas constantes útiles en Python para indicar por ejemplo: infinito positivo, negativo o si el resultado de una operación no es un número definido.\n",
        "\n",
        "* **np.inf**: infinito positivo\n",
        "* **np.NINF** :infinito negativo\n",
        "* **np.nan**: not a number\n",
        "\n",
        "\n",
        "https://docs.scipy.org/doc/numpy-1.15.0/reference/constants.html"
      ]
    },
    {
      "cell_type": "code",
      "metadata": {
        "id": "wYRf8urIA1I5",
        "colab_type": "code",
        "outputId": "8a7c96db-f3a1-4907-e80a-2dc4fe5f3486",
        "colab": {}
      },
      "source": [
        "print(np.e)\n",
        "print(np.pi)\n",
        "print(np.euler_gamma)\n",
        "\n",
        "print(np.inf)\n",
        "print(np.NINF)\n",
        "print(np.nan)"
      ],
      "execution_count": 0,
      "outputs": [
        {
          "output_type": "stream",
          "text": [
            "2.718281828459045\n",
            "3.141592653589793\n",
            "0.5772156649015329\n",
            "inf\n",
            "-inf\n",
            "nan\n"
          ],
          "name": "stdout"
        }
      ]
    },
    {
      "cell_type": "markdown",
      "metadata": {
        "id": "ZZxl8eUeA1I8",
        "colab_type": "text"
      },
      "source": [
        "inf,NINF, y nan  se obtienen muchas veces al aplicar una operación matemática sobre cierto valor, por ejemplo logaritmos de números negativos es algo no definido por lo cual resulta en nan, o una división por 0 resulta en infinito.\n"
      ]
    },
    {
      "cell_type": "code",
      "metadata": {
        "id": "TuBJ72awA1I-",
        "colab_type": "code",
        "outputId": "fb9a105c-1007-4c88-ef96-e299a0a14ab8",
        "colab": {}
      },
      "source": [
        "x = np.array([-5.3,-1,0,1,1.5,10,100])\n",
        "\n",
        "print(np.log(x))"
      ],
      "execution_count": 0,
      "outputs": [
        {
          "output_type": "stream",
          "text": [
            "[       nan        nan       -inf 0.         0.40546511 2.30258509\n",
            " 4.60517019]\n"
          ],
          "name": "stdout"
        },
        {
          "output_type": "stream",
          "text": [
            "/home/luis/anaconda2/envs/py_galileo/lib/python3.7/site-packages/ipykernel_launcher.py:3: RuntimeWarning: divide by zero encountered in log\n",
            "  This is separate from the ipykernel package so we can avoid doing imports until\n",
            "/home/luis/anaconda2/envs/py_galileo/lib/python3.7/site-packages/ipykernel_launcher.py:3: RuntimeWarning: invalid value encountered in log\n",
            "  This is separate from the ipykernel package so we can avoid doing imports until\n"
          ],
          "name": "stderr"
        }
      ]
    },
    {
      "cell_type": "code",
      "metadata": {
        "id": "QREzdZiHA1JA",
        "colab_type": "code",
        "outputId": "8b4e97c5-d49c-4b16-f988-f234827c39fc",
        "colab": {}
      },
      "source": [
        "numerador = np.array([5,4,9])\n",
        "divisor = np.array([5,0,8])\n",
        "\n",
        "numerador/divisor"
      ],
      "execution_count": 0,
      "outputs": [
        {
          "output_type": "stream",
          "text": [
            "/home/luis/anaconda2/envs/py_galileo/lib/python3.7/site-packages/ipykernel_launcher.py:4: RuntimeWarning: divide by zero encountered in true_divide\n",
            "  after removing the cwd from sys.path.\n"
          ],
          "name": "stderr"
        },
        {
          "output_type": "execute_result",
          "data": {
            "text/plain": [
              "array([1.   ,   inf, 1.125])"
            ]
          },
          "metadata": {
            "tags": []
          },
          "execution_count": 65
        }
      ]
    },
    {
      "cell_type": "code",
      "metadata": {
        "id": "rojFPmLPA1JC",
        "colab_type": "code",
        "outputId": "65c67ce9-78dc-4e8e-edbf-bf103b98aab6",
        "colab": {}
      },
      "source": [
        "x  = np.array([0.1,0.2,5,-2, 7])\n",
        "\n",
        "print(np.sqrt(x))"
      ],
      "execution_count": 0,
      "outputs": [
        {
          "output_type": "stream",
          "text": [
            "[0.31622777 0.4472136  2.23606798        nan 2.64575131]\n"
          ],
          "name": "stdout"
        },
        {
          "output_type": "stream",
          "text": [
            "/home/luis/anaconda2/envs/py_galileo/lib/python3.7/site-packages/ipykernel_launcher.py:3: RuntimeWarning: invalid value encountered in sqrt\n",
            "  This is separate from the ipykernel package so we can avoid doing imports until\n"
          ],
          "name": "stderr"
        }
      ]
    },
    {
      "cell_type": "code",
      "metadata": {
        "id": "W-hq5n8_A1JG",
        "colab_type": "code",
        "outputId": "d3d29c17-8c3a-4101-96b2-9c8a610b3404",
        "colab": {}
      },
      "source": [
        "np.inf <= 50"
      ],
      "execution_count": 0,
      "outputs": [
        {
          "output_type": "execute_result",
          "data": {
            "text/plain": [
              "False"
            ]
          },
          "metadata": {
            "tags": []
          },
          "execution_count": 67
        }
      ]
    },
    {
      "cell_type": "code",
      "metadata": {
        "id": "IplYAF1mA1JO",
        "colab_type": "code",
        "outputId": "aa88a268-d269-48f2-a09c-49742f849637",
        "colab": {}
      },
      "source": [
        "np.inf >= 1000000"
      ],
      "execution_count": 0,
      "outputs": [
        {
          "output_type": "execute_result",
          "data": {
            "text/plain": [
              "True"
            ]
          },
          "metadata": {
            "tags": []
          },
          "execution_count": 68
        }
      ]
    },
    {
      "cell_type": "code",
      "metadata": {
        "id": "Q0WKBlwTA1JR",
        "colab_type": "code",
        "outputId": "9efd3459-0a18-4540-de9d-9cb9f2893f5c",
        "colab": {}
      },
      "source": [
        "np.NINF < 0"
      ],
      "execution_count": 0,
      "outputs": [
        {
          "output_type": "execute_result",
          "data": {
            "text/plain": [
              "True"
            ]
          },
          "metadata": {
            "tags": []
          },
          "execution_count": 69
        }
      ]
    },
    {
      "cell_type": "code",
      "metadata": {
        "id": "h9kKCeo5A1JU",
        "colab_type": "code",
        "outputId": "50bc6d54-19da-4c9a-9fe9-0b30903238d6",
        "colab": {}
      },
      "source": [
        "-1*np.inf == np.NINF"
      ],
      "execution_count": 0,
      "outputs": [
        {
          "output_type": "execute_result",
          "data": {
            "text/plain": [
              "True"
            ]
          },
          "metadata": {
            "tags": []
          },
          "execution_count": 70
        }
      ]
    },
    {
      "cell_type": "markdown",
      "metadata": {
        "id": "kbkg05BFA1JY",
        "colab_type": "text"
      },
      "source": [
        "### Operadores lógicos en vectores\n",
        "\n",
        "Que pasa si necesitamos aplicar condiciones y validaciones al trabajar con vectores?\n",
        "\n",
        "Por ejemplo:\n",
        "$$h(x) = \\begin{cases}0 & x< 0\\\\1 & 0<=x <=1\\\\0 & x> 1\\end{cases}$$\n",
        "\n",
        "El siguiente código que refleja esta función da error.\n",
        "\n"
      ]
    },
    {
      "cell_type": "code",
      "metadata": {
        "id": "fZLePMZQA1Ja",
        "colab_type": "code",
        "colab": {}
      },
      "source": [
        "def h(x):\n",
        "    if x < 0:\n",
        "        return 0.0\n",
        "    elif 0 <= x <= 1:\n",
        "        return 1.0\n",
        "    else:\n",
        "        return 0.0\n",
        "    \n",
        "x = np.array([-1,0.1,10])\n",
        "\n",
        "#h(x)"
      ],
      "execution_count": 0,
      "outputs": []
    },
    {
      "cell_type": "markdown",
      "metadata": {
        "id": "s5_DF7W_A1Jd",
        "colab_type": "text"
      },
      "source": [
        "Para resolver el problema anterior(entre otras cosas) NumPy provee el uso de operadores lógicos sobre tensores , estos se aplican \"elemento por elemento\" gracias al broadcasting, el resultado de estos es valores booleanos True o False para cada valor.\n",
        "\n",
        "Nuevamente **es importante hacer uso del broadcasting y no hacerlo con ciclos**"
      ]
    },
    {
      "cell_type": "code",
      "metadata": {
        "id": "Kt1-T_0SA1Jf",
        "colab_type": "code",
        "outputId": "3f948d7f-5e38-4ef2-a5ef-7ff0a5173e6c",
        "colab": {}
      },
      "source": [
        "x = np.linspace(-2,2,9)\n",
        "\n",
        "y = x < 0\n",
        "\n",
        "print(x,y)"
      ],
      "execution_count": 0,
      "outputs": [
        {
          "output_type": "stream",
          "text": [
            "[-2.  -1.5 -1.  -0.5  0.   0.5  1.   1.5  2. ] [ True  True  True  True False False False False False]\n"
          ],
          "name": "stdout"
        }
      ]
    },
    {
      "cell_type": "markdown",
      "metadata": {
        "id": "17BPKmznA1Jh",
        "colab_type": "text"
      },
      "source": [
        "##### Usando vectores booleanos para acceder elementos en otros vectores\n",
        "\n",
        "NumPy nos permite acceder vectores con otros vectores de tipo booleano,el resultado de esto es obtener de cierto vector solo los elementos cuya posición corresponde a un valor True en el vector booleano,\n",
        "con la sintáxis que usabamos para hacer indexing, pero usando un vector booleano como índice\n",
        "por ejemplo para el caso anterior:"
      ]
    },
    {
      "cell_type": "code",
      "metadata": {
        "id": "q6K2u9f8A1Ji",
        "colab_type": "code",
        "outputId": "d8033805-e1fe-4c29-b5df-fffac973aa49",
        "colab": {}
      },
      "source": [
        "x[y]"
      ],
      "execution_count": 0,
      "outputs": [
        {
          "output_type": "execute_result",
          "data": {
            "text/plain": [
              "array([-2. , -1.5, -1. , -0.5])"
            ]
          },
          "metadata": {
            "tags": []
          },
          "execution_count": 73
        }
      ]
    },
    {
      "cell_type": "markdown",
      "metadata": {
        "id": "kwO7oaw-A1Jl",
        "colab_type": "text"
      },
      "source": [
        "En este caso \"y\" es redundante y se pudo hacer:"
      ]
    },
    {
      "cell_type": "code",
      "metadata": {
        "id": "ercujOe7A1Jm",
        "colab_type": "code",
        "outputId": "0ec5cf3f-0c25-43ab-8f3f-85c306d4a668",
        "colab": {}
      },
      "source": [
        "x[x<0]"
      ],
      "execution_count": 0,
      "outputs": [
        {
          "output_type": "execute_result",
          "data": {
            "text/plain": [
              "array([-2. , -1.5, -1. , -0.5])"
            ]
          },
          "metadata": {
            "tags": []
          },
          "execution_count": 74
        }
      ]
    },
    {
      "cell_type": "markdown",
      "metadata": {
        "id": "fRABUgQeA1Jo",
        "colab_type": "text"
      },
      "source": [
        "Explicación: el aplicar x < 0 generó un vector que tiene los primeros 4 elementos como True , si usamos este vector booleano como indice del vector original x entonces obtenemos solo los elementos de x que estan asociados a elementos True en el vector booleano de indice, en este caso solo los primeros 4."
      ]
    },
    {
      "cell_type": "markdown",
      "metadata": {
        "id": "q8WJYbbFA1Jp",
        "colab_type": "text"
      },
      "source": [
        "**Ejercicio** dado el vector x, usar operadores lógicos sobre vectores y acceso a  elementos usando vectores booleanos , escribir un programa que calcule eun nuevo vector z conteniendo el valor absoluto de el vector x.\n",
        "\n",
        "**nota** No se puede usar np.abs() ni ciclos\n",
        "\n",
        "**tip** usar un vector booleano para saber que elementos son negativos y deben ser multiplicados por -1"
      ]
    },
    {
      "cell_type": "code",
      "metadata": {
        "id": "SMrTkOu4A1Jq",
        "colab_type": "code",
        "outputId": "020911da-2de7-4ea5-f163-322e420cb623",
        "colab": {
          "base_uri": "https://localhost:8080/",
          "height": 34
        }
      },
      "source": [
        "x = np.linspace(-2,2,9)\n",
        "## tu codigo aqui (~ 4 linea de codigo)\n",
        "z = np.copy(x)\n",
        "z[x <0] *= -1\n",
        "print(x, z)\n",
        "\n"
      ],
      "execution_count": 0,
      "outputs": [
        {
          "output_type": "stream",
          "text": [
            "[-2.  -1.5 -1.  -0.5  0.   0.5  1.   1.5  2. ] [2.  1.5 1.  0.5 0.  0.5 1.  1.5 2. ]\n"
          ],
          "name": "stdout"
        }
      ]
    },
    {
      "cell_type": "markdown",
      "metadata": {
        "id": "jt1teMJ9A1Jt",
        "colab_type": "text"
      },
      "source": [
        "**ejercicio** Implementar la función:\n",
        "$$h(x) = \\begin{cases}0 & x< 0\\\\1 & 0<=x <=1\\\\0 & x> 1\\end{cases}$$\n",
        "\n",
        "Esta debe funcionar para vectores de cualquier tamaño x:\n",
        "\n",
        "def h(x):\n",
        "\n",
        "**nota** debe ser implementada sin ciclos o ifs "
      ]
    },
    {
      "cell_type": "code",
      "metadata": {
        "id": "-fmB37l7A1Ju",
        "colab_type": "code",
        "outputId": "0bf5ce5f-904b-477c-9fff-40cd96cc0801",
        "colab": {
          "base_uri": "https://localhost:8080/",
          "height": 34
        }
      },
      "source": [
        "def h(x):\n",
        "    ## tu codigo aqui (~ 3 linea de codigo)\n",
        "    x[(x<0)|(x>1)] = 0\n",
        "    x[(x>0)&(x<= 1)] = 1\n",
        "    return x\n",
        "\n",
        "x = np.array([0.1,-2,0.5,5])\n",
        "print(h(x))"
      ],
      "execution_count": 0,
      "outputs": [
        {
          "output_type": "stream",
          "text": [
            "[1. 0. 1. 0.]\n"
          ],
          "name": "stdout"
        }
      ]
    },
    {
      "cell_type": "markdown",
      "metadata": {
        "id": "XQu1MfQUA1Jw",
        "colab_type": "text"
      },
      "source": [
        "Para casos donde se requiere comportamiento parecido a este pero con mas condiciones, NumPy provee la función **np.select** , la descripción de esta función casi siempre es mas complicada de lo que debería y dificulta entenderla, vamos a buscar entenderla bajo un ejemplo.\n",
        "\n",
        "Básicamente select se basa en :\n",
        "* una lista de condiciones A\n",
        "* una lista de valores a tomar según estas condiciones B\n",
        "* un valor de  resultado default cuando ninguna de las condiciones en la  lista se cumple.\n",
        "Estas 2 listas deben ser del mismo tamañaño."
      ]
    },
    {
      "cell_type": "code",
      "metadata": {
        "id": "i3BRAMStA1Jx",
        "colab_type": "code",
        "outputId": "d197f8e3-d518-4a5e-d7b4-47c24d1c0362",
        "colab": {
          "base_uri": "https://localhost:8080/",
          "height": 50
        }
      },
      "source": [
        "x = np.arange(10)\n",
        "condiciones = [x<3,x>5] #lista A \n",
        "resultados = [x,x**2] #lista B\n",
        "\n",
        "print(x)\n",
        "#los valores de x que no satisfacen ningúna condicion obtendran 0 como resultado(este es el valor default)\n",
        "np.select(condiciones,resultados) "
      ],
      "execution_count": 0,
      "outputs": [
        {
          "output_type": "stream",
          "text": [
            "[0 1 2 3 4 5 6 7 8 9]\n"
          ],
          "name": "stdout"
        },
        {
          "output_type": "execute_result",
          "data": {
            "text/plain": [
              "array([ 0,  1,  2,  0,  0,  0, 36, 49, 64, 81])"
            ]
          },
          "metadata": {
            "tags": []
          },
          "execution_count": 52
        }
      ]
    },
    {
      "cell_type": "code",
      "metadata": {
        "id": "gnXaWlcnA1J3",
        "colab_type": "code",
        "outputId": "a4c0c45c-0e45-4ae6-c8ea-0103cb820d9f",
        "colab": {
          "base_uri": "https://localhost:8080/",
          "height": 34
        }
      },
      "source": [
        "np.select(condiciones,resultados,-1) #podemos agregar un tercer parámetro para el valor default "
      ],
      "execution_count": 0,
      "outputs": [
        {
          "output_type": "execute_result",
          "data": {
            "text/plain": [
              "array([ 0,  1,  2, -1, -1, -1, 36, 49, 64, 81])"
            ]
          },
          "metadata": {
            "tags": []
          },
          "execution_count": 53
        }
      ]
    },
    {
      "cell_type": "markdown",
      "metadata": {
        "id": "R3LjTqHzA1J9",
        "colab_type": "text"
      },
      "source": [
        "Otro ejemplo"
      ]
    },
    {
      "cell_type": "code",
      "metadata": {
        "id": "QTS8xFAFA1J9",
        "colab_type": "code",
        "outputId": "4d6759f2-8488-4b81-bde4-4eb96f753ceb",
        "colab": {
          "base_uri": "https://localhost:8080/",
          "height": 50
        }
      },
      "source": [
        "x = np.linspace(1,10,10)\n",
        "condiciones = [x<4,x>=7]\n",
        "resultados = [x,x**2]\n",
        "k = np.select(condiciones,resultados,-1)\n",
        "\n",
        "print(x)\n",
        "print(k)"
      ],
      "execution_count": 0,
      "outputs": [
        {
          "output_type": "stream",
          "text": [
            "[ 1.  2.  3.  4.  5.  6.  7.  8.  9. 10.]\n",
            "[  1.   2.   3.  -1.  -1.  -1.  49.  64.  81. 100.]\n"
          ],
          "name": "stdout"
        }
      ]
    },
    {
      "cell_type": "markdown",
      "metadata": {
        "id": "wKSXgWdaA1KD",
        "colab_type": "text"
      },
      "source": [
        "\n",
        "**Ejercicio**\n",
        "\n",
        "Usando select implementar una función k(x) con la siguiente definición:\n",
        "$$k(x) = \\begin{cases}-x & x< 0\\\\x^{3}  &0<=x<1\\\\x^{2}  &1<=x<2\\\\4  &otherwise\\end{cases}$$\n",
        "\n"
      ]
    },
    {
      "cell_type": "code",
      "metadata": {
        "id": "rPhni2Q3nqCQ",
        "colab_type": "code",
        "outputId": "6753f97d-0429-4f93-c621-7f5967dda6dc",
        "colab": {
          "base_uri": "https://localhost:8080/",
          "height": 34
        }
      },
      "source": [
        "x = np.array([-1,0.2,-2,0.5,5,1.5,1.8])\n",
        "\n",
        "def k(x):\n",
        "  condiciones = [x<0, (x>=0)&(x<1),(x>=1)&(x<2)]\n",
        "  resultados = [-x, x**3, x**2]\n",
        "  select = np.select(condiciones, resultados, 4)\n",
        "  return select\n",
        "\n",
        "k(x)"
      ],
      "execution_count": 0,
      "outputs": [
        {
          "output_type": "execute_result",
          "data": {
            "text/plain": [
              "array([1.   , 0.008, 2.   , 0.125, 4.   , 2.25 , 3.24 ])"
            ]
          },
          "metadata": {
            "tags": []
          },
          "execution_count": 56
        }
      ]
    },
    {
      "cell_type": "markdown",
      "metadata": {
        "id": "rS2f4qO0A1KE",
        "colab_type": "text"
      },
      "source": [
        "##### Select y performance\n",
        "Aun que select es muy conveniente y útil , no es la opción mas eficiente esto debido a que evalua todas las condiciones y todos los resultados, en programación en general buscamos escribir los programas de la manera mas eficiente posible y evitar calculos innecesarios, esto se vuelve vital en ciencia de datos cuando procesamos grandes volúmenes de información, por eso NumPy nos provee la alternativa a select llamada **piecewise** que funciona de manera similar .\n",
        "\n",
        "Este funciona similar a select pero en vez de calcular todos los posibles resultados, calcula solo aquellos para los que la condición es True e ignora los False,sintácticamente piecewise requiere que los \"resultados\" sesan calcuados usando una lista de funciones por lo cual todos los resultados deben estar contenidos en una función  y el objeto función ser enviado a piecewise (si la función solo se utiliza una vez para este propósito, se puede usar funciones anónimas o lambda).\n",
        "\n",
        "**Ejercicio** \n",
        "Investigar piecewise y:\n",
        "*  Usarlo para implementar la función anterior de manera eficiente\n",
        "*  Usar piscewise para implementar la función:\n",
        "\n",
        "$$m(x) = \\begin{cases}e^{2x} & x< 0\\\\1  &0<=x<1\\\\e^{1-x}  &x<=1\\\\\\end{cases}$$\n",
        "\n",
        "Nuevamente, sin utilizar ciclos ni ifs"
      ]
    },
    {
      "cell_type": "code",
      "metadata": {
        "id": "IW8TucMspNqk",
        "colab_type": "code",
        "outputId": "81f6fbe1-6728-4c78-9d44-6a923ff66767",
        "colab": {
          "base_uri": "https://localhost:8080/",
          "height": 50
        }
      },
      "source": [
        "x = np.array([-1,0.2,-2,0.5,5,1.5,1.8])\n",
        "def m(x):\n",
        "  results = np.piecewise(x,[x<0, (x>=0)&(x<1), x>=1], [lambda x: np.power(np.e, 2*x), lambda x: 1, lambda x: np.power(np.e, 1-x)])\n",
        "  return results\n",
        "\n",
        "m(x)"
      ],
      "execution_count": 0,
      "outputs": [
        {
          "output_type": "execute_result",
          "data": {
            "text/plain": [
              "array([0.13533528, 1.        , 0.01831564, 1.        , 0.01831564,\n",
              "       0.60653066, 0.44932896])"
            ]
          },
          "metadata": {
            "tags": []
          },
          "execution_count": 59
        }
      ]
    },
    {
      "cell_type": "markdown",
      "metadata": {
        "id": "lUW9WJ6fA1KE",
        "colab_type": "text"
      },
      "source": [
        "#### Investigar\n",
        "\n",
        "* Proyección vectorial\n",
        "    * Definir una función para calculo en numpy\n",
        "    * interpretación\n",
        "    * aplicación o caso de uso en DS u otras ciencias de tu interés: solo se necesita nombrar el caso de uso, no desarrollarlo o programarlo, tip: Hay un algoritmo de ML cuyo nombre puede ser  útil.\n",
        "* Producto cruz\n",
        "    * calculo en numpy\n",
        "    * interpretación\n",
        "    * aplicación o caso de uso en DS u otras ciencias de tu interés: solo se necesita nombrar el caso de uso, no desarrollarlo o programarlo\n",
        "    \n",
        "#### Referencias\n",
        "\n",
        "* https://www.oreilly.com/library/view/data-science-from/9781491901410/ch04.html\n",
        "* https://towardsdatascience.com/linear-algebra-cheat-sheet-for-deep-learning-cd67aba4526c\n",
        "* https://www.analyticsvidhya.com/blog/2017/05/comprehensive-guide-to-linear-algebra/\n",
        "* https://towardsdatascience.com/boost-your-data-sciences-skills-learn-linear-algebra-2c30fdd008cf\n",
        "* https://machinelearningmastery.com/examples-of-linear-algebra-in-machine-learning/\n",
        "* https://www.youtube.com/playlist?list=PLZHQObOWTQDPD3MizzM2xVFitgF8hE_ab"
      ]
    },
    {
      "cell_type": "markdown",
      "metadata": {
        "id": "GUL0oPFhx0CS",
        "colab_type": "text"
      },
      "source": [
        "### Proyección vectorial\n",
        "\n",
        "* Definir una función para cálculo en numpy:\n",
        "Para definir una función para el cálculo en numpy de la proyección vectorial es necesario tomar en cuenta su definición matemática que se define de la siguiente forma:\n",
        "\n",
        "$$Proj_ba\\  = \\frac{\\vec{a}\\cdot \\vec{b}}{\\left \\| \\vec{b}\\right \\|^{2}}\\, \\vec{b}$$\n",
        "\n",
        "El concepto de proyección vectorial se puede entender como la longitud de un vector proyectada sobre el otro, a manera de que el vector resultante sea paralelo al vector sobre el cual se está proyectando. \n",
        "\n",
        "Otra manera de entenderlo es que estamos encontrando el componente de un vector en la dirección del otro. En la fórmula estaríamos encontrando el componente de un vector **a** sobre un vector **b**.  "
      ]
    },
    {
      "cell_type": "code",
      "metadata": {
        "id": "A_goawlzxygY",
        "colab_type": "code",
        "outputId": "b7ce5b8f-c82f-4918-bf49-2d3a9924c07b",
        "colab": {
          "base_uri": "https://localhost:8080/",
          "height": 50
        }
      },
      "source": [
        "#Funcion en numpy para proyección de un vector\n",
        "import numpy as np\n",
        "\n",
        "def proj(a,b):\n",
        "  result = (np.inner(a,b)/np.power(np.sqrt(np.sum(np.power(b,2))),2))*b\n",
        "  return result\n",
        "\n",
        "a = np.array([1,5,3])\n",
        "b = np.array([0,2,8])\n",
        "\n",
        "print(\"La proyección del vector a sobre el vector b es un vector resultante con los siguientes valores: \", proj(a,b))\n",
        "print(\"La proyección del vector b sobre el vector a es un vector resultante con los siguientes valores: \", proj(b,a))"
      ],
      "execution_count": 0,
      "outputs": [
        {
          "output_type": "stream",
          "text": [
            "La proyección del vector a sobre el vector b es un vector resultante con los siguientes valores:  [0. 1. 4.]\n",
            "La proyección del vector b sobre el vector a es un vector resultante con los siguientes valores:  [0.97142857 4.85714286 2.91428571]\n"
          ],
          "name": "stdout"
        }
      ]
    },
    {
      "cell_type": "markdown",
      "metadata": {
        "id": "4suyVn61Qacf",
        "colab_type": "text"
      },
      "source": [
        "Uno de los algoritmos utilizados dentro de Data Science y Machine Learning es el algoritmo de Principal component analysis o **PCA**, como es conocido más comunmente. Este algoritmo se utiliza para reducción de dimensionalidad, a través de encontrar una proyección lineal de un espacio multidimensional, de esta manera, encontrando los componentes principales de vectores ortogonales."
      ]
    },
    {
      "cell_type": "markdown",
      "metadata": {
        "id": "qNFJgJ9JTjxM",
        "colab_type": "text"
      },
      "source": [
        "### Producto cruz \n",
        "\n",
        "* Función de cálculo en numpy\n",
        "\n",
        "```\n",
        "numpy.cross(a,b)\n",
        "```\n",
        "\n",
        "Función hace el cómputo del producto cruz entre dos vectores a y b, y retorna un objeto del tipo ndarray. \n",
        "\n",
        "Lo que se está generando al momento de computar el producto cruz es un vector resultante que es perpendicular a ambos vectores que se están operando.\n",
        "\n",
        "* **a** x **b** da de resultado un vector perpendicular a ambos\n",
        "\n",
        "* La magnitud de este vector está dado por el determinante de una matriz formada por los dos vectores que se están operando. \n",
        "\n",
        "El producto cruz de dos vectores es utilizado en el área de física y computer graphics. \n",
        "\n",
        "\n",
        "#### Aplicaciones a Data Science ####\n",
        "* En data Science podría utilizarse este producto cruz para determinar la dependencia lineal que tienen dos vectores. Si 2 vectores no crean un espacio de 2 dimensiones se dice que no son linealmente independientes, y por lo tanto el producto cruz entre ellos sería 0.\n",
        "\n",
        "* Otra posible utilización del producto cruz es el de determinar la disimilitud entre dos vectores ya que el producto cruz es máximo cuando dos vectores son ortogonales. Esto podría utilizarse como un parámetro de aprendizaje por refuerzo, en el que se busque maximizar la magnitud de un producto cruz entre dos vectores, a través de una simulación determinada."
      ]
    },
    {
      "cell_type": "code",
      "metadata": {
        "id": "BKZe-B4iTi0L",
        "colab_type": "code",
        "colab": {
          "base_uri": "https://localhost:8080/",
          "height": 34
        },
        "outputId": "4ead5a00-740b-49d1-89dd-3cf0417fc61b"
      },
      "source": [
        "#Ejemplo de Cross product\n",
        "\n",
        "import numpy as np\n",
        "\n",
        "a = np.array([1,4,6])\n",
        "\n",
        "b = np.array([5,2,7])\n",
        "\n",
        "np.cross(a,b)"
      ],
      "execution_count": 3,
      "outputs": [
        {
          "output_type": "execute_result",
          "data": {
            "text/plain": [
              "array([ 16,  23, -18])"
            ]
          },
          "metadata": {
            "tags": []
          },
          "execution_count": 3
        }
      ]
    }
  ]
}