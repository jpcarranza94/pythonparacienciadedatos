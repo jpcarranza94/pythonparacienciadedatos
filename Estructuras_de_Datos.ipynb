{
 "cells": [
  {
   "cell_type": "markdown",
   "metadata": {},
   "source": [
    "# Estructuras de datos(colecciones, objetos contenedores)\n",
    "\n",
    "Hasta ahora salvo algunas excepciones(usando listas) hemos trabajado unicamente con ejemplos que manejan datos sencillos(ints,floats,booleans, etc), es decir un unico elemento o valor. Aun que estos son utiles y es necesario conocerlos,  una de las mayores ventajas de la computacion o programacion cientifica y numerica es poder trabajar sobre grandes volumenes de informacion, y poder realizar operaciones sobre multiples elementos u objetos de manera rapida y eficiente.\n",
    "\n",
    "Para esto haremos uso(inicialmente) de objetos conocidos en en Python(y en muchos otros lenguajes) bajo algunos nombres comunes:\n",
    "\n",
    "* Colecciones\n",
    "* Estructuras de datos\n",
    "* Objetos contendedores\n",
    "\n",
    "Estos son objetos que nos permiten trabajar de una manera organizada y estructurada con conjuntos de objetos y operar sobre estos.\n",
    "\n",
    "**Nota** En esta clase veremos los objetos contenedores ,estructuras de datos y  las colecciones generales y estandar en Python, las cuales son usadas para cualquier tipo de programa , no solo programas numericos y cientificos, en posteriores clases profundizaremos en paquetes disenados y optimizados para computacion numerica y cientifica, por ejemplo: **NumPy** y **Pandas** que se volveran parte fundamental de la caja de herramientas del cientifico de datos. Las colecciones estandar de Python buscan ser lo mas generales posibles, sacrificando el rendimiento para lograr la generalidad, los paquetes NumPy y Pandas al contrario buscan rendimiendo muy cercano al del lenguaje **C** sacrificando un poco la generalidad y enfocandose en colecciones numericas.\n",
    "\n",
    "\n",
    "Empecemos con una definicion:\n",
    "\n",
    "## Objeto Contenedor\n",
    "\n",
    "Objeto contenedor es cualquier objeto que almacena  un numero arbitrario de otros objetos(contiene objetos) , generalmente los objetos contenedores proveen formas de **accesar** los objetos contenidos e **iterar** sobre ellos.\n",
    "\n",
    "## Objeto contenedor y ciclo \"for\"\n",
    "\n",
    "Cuando estudiamos el ciclo \"for\" mencionamos que en Python este tenia una relacion muy grande con colecciones de objetos, en Python el ciclo \"for\" nos permite iterar(recorrer) sobre un objeto contenedor para accesar a sus elmementos de uno en uno y asi poder trabajar u operar sobre ellos.\n",
    "\n",
    "## Listas (list)\n",
    "\n",
    "<img src=\"https://files.realpython.com/media/t.eb0b38e642c5.png\">\n",
    "\n",
    "Una lista es una **secuencia ordenada** de objetos , los cuales estan separados por comas y encerrados en corchetes, es decir que la lista tendra la forma:\n",
    "\n",
    "[objeto1, objeto2, objeto3, objeto4,...,objetoN]\n",
    "\n",
    "\n",
    "La lista al ser un objeto, puede ser asignado a una variable(o identificador) tal como lo hemos hecho con los tipos basicos de la siguiente forma:\n",
    "\n",
    "< variable > = [< lista >]\n",
    "\n",
    "Por ejemplo:\n",
    "\n",
    "paises = [\"GT\",\"SV\",\"HN\",\"NI\",\"CR\"]\n",
    "\n",
    "A diferencia de otros lenguajes de programacion(y los arrays de estos) en Python las listas no  requieren que todos los objetos contenidos sean del mismo tipo y puede almacenar cualquier combinacion de tipos de objetos(incluidas otras listas)."
   ]
  },
  {
   "cell_type": "code",
   "execution_count": 2,
   "metadata": {},
   "outputs": [
    {
     "data": {
      "text/plain": [
       "[1, 4.0, 'a']"
      ]
     },
     "execution_count": 2,
     "metadata": {},
     "output_type": "execute_result"
    }
   ],
   "source": [
    "[1,4.0,'a']"
   ]
  },
  {
   "cell_type": "code",
   "execution_count": 3,
   "metadata": {},
   "outputs": [
    {
     "name": "stdout",
     "output_type": "stream",
     "text": [
      "[1, 4.0, 'a']\n"
     ]
    }
   ],
   "source": [
    "print([1,4.0,'a'])"
   ]
  },
  {
   "cell_type": "code",
   "execution_count": 4,
   "metadata": {},
   "outputs": [
    {
     "name": "stdout",
     "output_type": "stream",
     "text": [
      "[1, 4.0, 'a']\n",
      "[3.14, 2.71, 42, [1, 4.0, 'a']]\n"
     ]
    }
   ],
   "source": [
    "u = [1,4.0,'a']\n",
    "v = [3.14,2.71,42,u] #podemos ver que la lista u es tambien un objeto contenido en la lista v\n",
    "\n",
    "print(u)\n",
    "print(v)"
   ]
  },
  {
   "cell_type": "markdown",
   "metadata": {},
   "source": [
    "Podemos verificar si 2 listas son iguales(almacenan los mismos objetos) usando =="
   ]
  },
  {
   "cell_type": "code",
   "execution_count": 5,
   "metadata": {},
   "outputs": [
    {
     "data": {
      "text/plain": [
       "True"
      ]
     },
     "execution_count": 5,
     "metadata": {},
     "output_type": "execute_result"
    }
   ],
   "source": [
    "a = [1,2,3]\n",
    "b = [1,2,3]\n",
    "\n",
    "a==b"
   ]
  },
  {
   "cell_type": "code",
   "execution_count": 6,
   "metadata": {},
   "outputs": [
    {
     "data": {
      "text/plain": [
       "False"
      ]
     },
     "execution_count": 6,
     "metadata": {},
     "output_type": "execute_result"
    }
   ],
   "source": [
    "#una lista es \"ordenada\" por lo cual aunque guardan los mismos valores, por estar en diferente orden ,no son iguales\n",
    "\n",
    "a = [2,1,3] \n",
    "b = [1,2,3]\n",
    "\n",
    "a==b"
   ]
  },
  {
   "cell_type": "markdown",
   "metadata": {},
   "source": [
    "Aun que no hemos visto a detalle funciones, veamos de momento que hace la funcion len() sobre una lista"
   ]
  },
  {
   "cell_type": "code",
   "execution_count": 7,
   "metadata": {},
   "outputs": [
    {
     "name": "stdout",
     "output_type": "stream",
     "text": [
      "3\n",
      "4\n"
     ]
    }
   ],
   "source": [
    "u = [1,4.0,'a']\n",
    "v = [3.14,2.71,42,u]\n",
    "\n",
    "print(len(u))\n",
    "print(len(v))"
   ]
  },
  {
   "cell_type": "markdown",
   "metadata": {},
   "source": [
    "####  Replicar el contenido de una lista\n",
    "\n",
    "Python nos provee una forma rapida y sencilla de replicar el contenido de una lista a traes del operador ***** , veamos los siguientes ejemplos que **duplican** o **triplican** el contenido de la lista u"
   ]
  },
  {
   "cell_type": "code",
   "execution_count": 8,
   "metadata": {},
   "outputs": [
    {
     "name": "stdout",
     "output_type": "stream",
     "text": [
      "[1, 4.0, 'a', 1, 4.0, 'a']\n"
     ]
    }
   ],
   "source": [
    "duplicated_u = u*2\n",
    "\n",
    "print(duplicated_u)"
   ]
  },
  {
   "cell_type": "code",
   "execution_count": 9,
   "metadata": {},
   "outputs": [
    {
     "data": {
      "text/plain": [
       "[1, 4.0, 'a', 1, 4.0, 'a', 1, 4.0, 'a']"
      ]
     },
     "execution_count": 9,
     "metadata": {},
     "output_type": "execute_result"
    }
   ],
   "source": [
    "u*3"
   ]
  },
  {
   "cell_type": "markdown",
   "metadata": {},
   "source": [
    "#### Concatenar multiples listas\n",
    "\n",
    "En muchos casos, podemos tener 2 o mas listas las cuales nos interesa unificar en una sola lista , esto lo logramos a traves de una \"concatenacion de listas\" que podemos lograr usando el operador **+** ,por ejemplo:"
   ]
  },
  {
   "cell_type": "code",
   "execution_count": 10,
   "metadata": {},
   "outputs": [
    {
     "name": "stdout",
     "output_type": "stream",
     "text": [
      "[1, 4.0, 'a', 3.14, 2.71, 42, [1, 4.0, 'a']]\n"
     ]
    }
   ],
   "source": [
    "w = u + v\n",
    "\n",
    "print(w)"
   ]
  },
  {
   "cell_type": "markdown",
   "metadata": {},
   "source": [
    "#### Agregar nuevos elementos al final de una lista\n",
    "\n",
    "Si necesitamos agregar nuevos elementos a una lista , podemos usar la funcion append(< nuevo elemento> ) aplicada sobre la lista, esto  agrega el nuevo contenido al final de la lista."
   ]
  },
  {
   "cell_type": "code",
   "execution_count": 11,
   "metadata": {},
   "outputs": [
    {
     "name": "stdout",
     "output_type": "stream",
     "text": [
      "[1, 2, 3, 4, 5, 6, 'test']\n"
     ]
    }
   ],
   "source": [
    "a = [1,2,3,4]\n",
    "\n",
    "a.append(5)\n",
    "a.append(6)\n",
    "a.append('test')\n",
    "\n",
    "print(a)"
   ]
  },
  {
   "cell_type": "markdown",
   "metadata": {},
   "source": [
    "#### Accesar elementos individuales de una lista\n",
    "\n",
    "En muchos casos , necesitamos acceder a los elementos de una lista de manera individual , para esto usamos su posicion en la lista ,llamamos a la posicion de un objeto en la lista el **\"indice\"** del elemento.\n",
    "\n",
    "Python es un \"zero index language\" lo cual significa que las posiciones empiezan en 0 y no en 1, esto significa que el primer objeto de la lista tendra indice 0, el segundo tendra indice 1 y asi sucesivamente, hasta llegar al ultimo elemento el cual siempre es el tamanio de la lista menos 1, o bien: \n",
    "\n",
    "len(< lista >) - 1\n",
    "\n",
    "<img src=\"https://files.realpython.com/media/t.eb0b38e642c5.png\">\n",
    "\n",
    "La sintaxis para acceder a cierto elemento de la lista es:\n",
    "\n",
    "**lista[indice]**"
   ]
  },
  {
   "cell_type": "code",
   "execution_count": 12,
   "metadata": {},
   "outputs": [
    {
     "name": "stdout",
     "output_type": "stream",
     "text": [
      "foo\n",
      "bar\n"
     ]
    }
   ],
   "source": [
    "lista = [\"foo\",\"bar\",\"baz\",\"qux\",\"quux\",\"corge\"]\n",
    "\n",
    "primero = lista[0]\n",
    "segundo = lista[1]\n",
    "\n",
    "print(primero)\n",
    "print(segundo)"
   ]
  },
  {
   "cell_type": "code",
   "execution_count": 13,
   "metadata": {},
   "outputs": [
    {
     "name": "stdout",
     "output_type": "stream",
     "text": [
      "['updated', 'bar', 'baz', 'qux', 'quux', 'corge']\n"
     ]
    }
   ],
   "source": [
    "lista[0]  = \"updated\"\n",
    "\n",
    "print(lista)"
   ]
  },
  {
   "cell_type": "markdown",
   "metadata": {},
   "source": [
    "Si intentamos acceder con un indice no valido, obtendremos un error, por ejemplo si la lista solo tiene 6 elementos, el indice valido maximo es 5, si intentamos acceder la lista con un indice mayor a 5 obtendremos un error."
   ]
  },
  {
   "cell_type": "code",
   "execution_count": 14,
   "metadata": {},
   "outputs": [],
   "source": [
    "#lista[6]"
   ]
  },
  {
   "cell_type": "markdown",
   "metadata": {},
   "source": [
    "##### Indinces negativos\n",
    "Python nos permite acceder a los elementos de la lista utilizando indices negativos, el significado de esto es empezar a contar del ultimo elemento al primero, esto significa que el indice -1 hace referencia al ultimo elemento ,-2 hace referencia al penultimo y asi sucesivamente hasta el negativo del tamanio de la lista , es decir:\n",
    "\n",
    "-len(< lista >)\n",
    "\n",
    "Podemos ver entonces que los indices de una lista se encuentran en el intervalo\n",
    "\n",
    "[-len(< lista > ),len( < lista > ) -1]\n",
    "\n",
    "<img src=\"https://qph.fs.quoracdn.net/main-qimg-a380b1bc159589df5e0b9842e5b56b6d\">"
   ]
  },
  {
   "cell_type": "code",
   "execution_count": 15,
   "metadata": {},
   "outputs": [
    {
     "name": "stdout",
     "output_type": "stream",
     "text": [
      "corge\n",
      "quux\n",
      "updated\n"
     ]
    }
   ],
   "source": [
    "print(lista[-1])\n",
    "print(lista[-2])\n",
    "\n",
    "\n",
    "print(lista[-len(lista)])"
   ]
  },
  {
   "cell_type": "markdown",
   "metadata": {},
   "source": [
    "#### Accesar porciones/rebanadas de la lista a traves de \"slicing\"\n",
    "\n",
    "En muchos casos nos interesa acceder no a elementos individuales de la lista, si no a porciones de esta, los siguientes ejemplos nos muestran el razonamiento a usar para determinar si se necesita \"slicing\" para particionar una lista:\n",
    "\n",
    "* Se necesitan los primeros 5 elementos de una lista\n",
    "* Se necesitan los ultimos 3 elementos de una lista\n",
    "* Se necesita cambiar del segundo al cuarto elemento de una lista.\n",
    "\n",
    "En todos estos casos accedemos porciones, o rebanadas de la lista original en lugar de elementos individuales. \n",
    "\n",
    "La sintaxis para hacer esto es muy parecida a la usada para acceder elementos individuales, pero agregamos ahora el operador **\":\"** y lo usamos de la siguiente forma:\n",
    "\n",
    "< lista >[< inicio >: < fin >]\n",
    "\n",
    "donde:\n",
    "* < lista > : la lista original de la que deseamos acceder una sub-porcion\n",
    "* < inicio > : la posicion del inicio de la rebanada a obtener (inclusivo)\n",
    "* < fin > : la posicion final de la rebanada a obtener (exclusivo)\n",
    "\n",
    "Inicio y fin pueden ser cualquier expresion valida cuyo resultado sea un entero.\n",
    "\n",
    "Por ejemplo:"
   ]
  },
  {
   "cell_type": "code",
   "execution_count": 16,
   "metadata": {},
   "outputs": [
    {
     "data": {
      "text/plain": [
       "['hola', 'mundo', 'desde']"
      ]
     },
     "execution_count": 16,
     "metadata": {},
     "output_type": "execute_result"
    }
   ],
   "source": [
    "lista1 = [\"hola\",\"mundo\",\"desde\",\"el\",\"lenguaje\",\"python\"]\n",
    "\n",
    "lista1[0:3] #ya que \"fin\" es exclusivo el resultado contiene hasta el elemento previo a este"
   ]
  },
  {
   "cell_type": "markdown",
   "metadata": {},
   "source": [
    "El resultado de el slicing es una nueva lista que podemos asignar a una variable o usar en cualquier expresion donde una lista  sea valida"
   ]
  },
  {
   "cell_type": "code",
   "execution_count": 17,
   "metadata": {},
   "outputs": [
    {
     "name": "stdout",
     "output_type": "stream",
     "text": [
      "[2, 3, 4]\n"
     ]
    }
   ],
   "source": [
    "u =[1,2,3,4,5,6,7]\n",
    "sub_u = u[1:4]\n",
    "\n",
    "print(sub_u)"
   ]
  },
  {
   "cell_type": "code",
   "execution_count": 18,
   "metadata": {},
   "outputs": [
    {
     "name": "stdout",
     "output_type": "stream",
     "text": [
      "[1, 2, 3.14, 'a', 5, 6, 7]\n"
     ]
    }
   ],
   "source": [
    "u[2:4] =  [3.14,'a']\n",
    "\n",
    "print(u)"
   ]
  },
  {
   "cell_type": "markdown",
   "metadata": {},
   "source": [
    "Tambien es posible hacer slicing con indices negativos"
   ]
  },
  {
   "cell_type": "code",
   "execution_count": 19,
   "metadata": {},
   "outputs": [
    {
     "name": "stdout",
     "output_type": "stream",
     "text": [
      "[3.14, 'a', 5, 6]\n",
      "[3.14, 'a', 5, 6]\n"
     ]
    }
   ],
   "source": [
    "print(u[2:6])\n",
    "print(u[2:-1])"
   ]
  },
  {
   "cell_type": "markdown",
   "metadata": {},
   "source": [
    "Podemos usar sintaxis resumida para casos donde inicio es 0, o fin es el ultimo elemento, esto nos sirve en los casos:\n",
    "* Acceder desde el primer elemento hasta el elemento n\n",
    "* Acceder desde el elemento n hasta el final\n",
    "\n",
    "Para esto simplemente omitimos el valor de inicio o de fin segun el caso:\n"
   ]
  },
  {
   "cell_type": "code",
   "execution_count": 20,
   "metadata": {},
   "outputs": [
    {
     "name": "stdout",
     "output_type": "stream",
     "text": [
      "[1, 2, 3.14, 'a', 5, 6, 7]\n"
     ]
    }
   ],
   "source": [
    "print(u)"
   ]
  },
  {
   "cell_type": "code",
   "execution_count": 21,
   "metadata": {},
   "outputs": [
    {
     "data": {
      "text/plain": [
       "[1, 2, 3.14, 'a']"
      ]
     },
     "execution_count": 21,
     "metadata": {},
     "output_type": "execute_result"
    }
   ],
   "source": [
    "u[:4]"
   ]
  },
  {
   "cell_type": "code",
   "execution_count": 22,
   "metadata": {},
   "outputs": [
    {
     "data": {
      "text/plain": [
       "[5, 6, 7]"
      ]
     },
     "execution_count": 22,
     "metadata": {},
     "output_type": "execute_result"
    }
   ],
   "source": [
    "u[4:]"
   ]
  },
  {
   "cell_type": "markdown",
   "metadata": {},
   "source": [
    "Es posible indicar los incrementos para el slicing, el default es 1 pero podemos especificar un incremento diferente:"
   ]
  },
  {
   "cell_type": "code",
   "execution_count": 23,
   "metadata": {},
   "outputs": [
    {
     "data": {
      "text/plain": [
       "[1, 3.14, 5, 7]"
      ]
     },
     "execution_count": 23,
     "metadata": {},
     "output_type": "execute_result"
    }
   ],
   "source": [
    "u[0::2]"
   ]
  },
  {
   "cell_type": "code",
   "execution_count": 24,
   "metadata": {},
   "outputs": [
    {
     "data": {
      "text/plain": [
       "[7, 6, 5, 'a', 3.14, 2, 1]"
      ]
     },
     "execution_count": 24,
     "metadata": {},
     "output_type": "execute_result"
    }
   ],
   "source": [
    "u[-1::-1]"
   ]
  },
  {
   "cell_type": "code",
   "execution_count": 27,
   "metadata": {},
   "outputs": [
    {
     "data": {
      "text/plain": [
       "[7, 6, 5, 'a', 3.14, 2]"
      ]
     },
     "execution_count": 27,
     "metadata": {},
     "output_type": "execute_result"
    }
   ],
   "source": [
    "u[-1:0:-1]"
   ]
  },
  {
   "cell_type": "markdown",
   "metadata": {},
   "source": [
    "#### count e index\n",
    "\n",
    "Podemos aplicar 2 funciones especiales sobre las listas:\n",
    "\n",
    "* < lista >.count(< valor >) indica cuantas veces encontramos en la lista el < valor > buscado\n",
    "* < lista >.index(< valor >) indica la posicion(empezando en 0)  del valor buscado ,si aparece mas de una vez, se muestra el primer indice"
   ]
  },
  {
   "cell_type": "code",
   "execution_count": 24,
   "metadata": {},
   "outputs": [
    {
     "name": "stdout",
     "output_type": "stream",
     "text": [
      "3\n",
      "2\n"
     ]
    }
   ],
   "source": [
    "lista = [\"a\",\"b\",\"c\",\"e\",\"f\",\"g\",\"c\",2,3,4,5,\"c\"]\n",
    "\n",
    "print(lista.count(\"c\"))\n",
    "print(lista.index(\"c\"))"
   ]
  },
  {
   "cell_type": "markdown",
   "metadata": {},
   "source": [
    "#### Operadores de membresia"
   ]
  },
  {
   "cell_type": "code",
   "execution_count": 25,
   "metadata": {},
   "outputs": [
    {
     "data": {
      "text/plain": [
       "True"
      ]
     },
     "execution_count": 25,
     "metadata": {},
     "output_type": "execute_result"
    }
   ],
   "source": [
    "2 in lista"
   ]
  },
  {
   "cell_type": "code",
   "execution_count": 26,
   "metadata": {},
   "outputs": [
    {
     "data": {
      "text/plain": [
       "False"
      ]
     },
     "execution_count": 26,
     "metadata": {},
     "output_type": "execute_result"
    }
   ],
   "source": [
    "\"hola\" in lista"
   ]
  },
  {
   "cell_type": "markdown",
   "metadata": {},
   "source": [
    "## Tuplas (tuple)\n",
    "\n",
    "Objeto contenedor muy similar a las listas y por lo tanto muchas operaciones con listas son también  válidas con las tuplas, sintácticamente  difieren en que las tupas usan parentésis  en lugar de corchetes. Conceptualmente la diferencia mas grande es que las tuplas son \"inmutables\" , por lo cual no podemos actualizar los objetos que contiene o agregar nuevos una vez esta ha sido creada.\n",
    "\n",
    "* Ya que las tuplas no pueden ser modificadas, el acceso a la información en ella es ligeramente más rapido.\n",
    "* Son usadas muchas veces como llaves de diccionarios(a discutir pronto), las listas no pueden ser usadas para este propósito.\n",
    "* Es común tener listas de tuplas donde cada tupla representa un objeto compuesto por muchos atributos o características:\n",
    "    * Por ejemplo una lista de alumnos podría usar \"tuplas\" para representar a cada alumno y cada alumno podría tener nombre y número de carnet en una tupla. "
   ]
  },
  {
   "cell_type": "code",
   "execution_count": 27,
   "metadata": {},
   "outputs": [
    {
     "data": {
      "text/plain": [
       "(1, 2, 3, 4)"
      ]
     },
     "execution_count": 27,
     "metadata": {},
     "output_type": "execute_result"
    }
   ],
   "source": [
    "(1,2,3,4)"
   ]
  },
  {
   "cell_type": "code",
   "execution_count": 28,
   "metadata": {},
   "outputs": [
    {
     "data": {
      "text/plain": [
       "tuple"
      ]
     },
     "execution_count": 28,
     "metadata": {},
     "output_type": "execute_result"
    }
   ],
   "source": [
    "type((1,2,3,4))"
   ]
  },
  {
   "cell_type": "code",
   "execution_count": 28,
   "metadata": {},
   "outputs": [
    {
     "ename": "TypeError",
     "evalue": "'tuple' object does not support item assignment",
     "output_type": "error",
     "traceback": [
      "\u001b[0;31m---------------------------------------------------------------------------\u001b[0m",
      "\u001b[0;31mTypeError\u001b[0m                                 Traceback (most recent call last)",
      "\u001b[0;32m<ipython-input-28-b085f03c875b>\u001b[0m in \u001b[0;36m<module>\u001b[0;34m\u001b[0m\n\u001b[1;32m      1\u001b[0m \u001b[0ma\u001b[0m \u001b[0;34m=\u001b[0m \u001b[0;34m(\u001b[0m\u001b[0;36m1\u001b[0m\u001b[0;34m,\u001b[0m\u001b[0;36m2\u001b[0m\u001b[0;34m,\u001b[0m\u001b[0;36m3\u001b[0m\u001b[0;34m,\u001b[0m\u001b[0;36m4\u001b[0m\u001b[0;34m)\u001b[0m\u001b[0;34m\u001b[0m\u001b[0;34m\u001b[0m\u001b[0m\n\u001b[1;32m      2\u001b[0m \u001b[0;34m\u001b[0m\u001b[0m\n\u001b[0;32m----> 3\u001b[0;31m \u001b[0ma\u001b[0m\u001b[0;34m[\u001b[0m\u001b[0;36m0\u001b[0m\u001b[0;34m]\u001b[0m \u001b[0;34m=\u001b[0m \u001b[0;36m2\u001b[0m\u001b[0;34m\u001b[0m\u001b[0;34m\u001b[0m\u001b[0m\n\u001b[0m",
      "\u001b[0;31mTypeError\u001b[0m: 'tuple' object does not support item assignment"
     ]
    }
   ],
   "source": [
    "a = (1,2,3,4)\n",
    "\n",
    "#a[0] = 2  #no permitido"
   ]
  },
  {
   "cell_type": "code",
   "execution_count": 30,
   "metadata": {},
   "outputs": [],
   "source": [
    "b = (2,3,4,\"g\")\n",
    "\n",
    "#b.append(2) #no permitido"
   ]
  },
  {
   "cell_type": "markdown",
   "metadata": {},
   "source": [
    "Tambien podemos replicar tuplas o bien crear una combinando 2 existentes\n",
    "\n",
    "**nota:**recordemos que las tuplas son inmutables, el resultado de estas operaciones es una nueva tupla, no una modificación de la original."
   ]
  },
  {
   "cell_type": "code",
   "execution_count": 31,
   "metadata": {},
   "outputs": [
    {
     "data": {
      "text/plain": [
       "(2, 3, 4, 'g', 2, 3, 4, 'g')"
      ]
     },
     "execution_count": 31,
     "metadata": {},
     "output_type": "execute_result"
    }
   ],
   "source": [
    "b*2"
   ]
  },
  {
   "cell_type": "code",
   "execution_count": 32,
   "metadata": {},
   "outputs": [
    {
     "data": {
      "text/plain": [
       "(1, 2, 3, 4, 2, 3, 4, 'g')"
      ]
     },
     "execution_count": 32,
     "metadata": {},
     "output_type": "execute_result"
    }
   ],
   "source": [
    "a + b"
   ]
  },
  {
   "cell_type": "markdown",
   "metadata": {},
   "source": [
    "Podemos crear una lista a partir de una tupla usando la función list()"
   ]
  },
  {
   "cell_type": "code",
   "execution_count": 33,
   "metadata": {},
   "outputs": [
    {
     "name": "stdout",
     "output_type": "stream",
     "text": [
      "[1, 2, 3, 4]\n"
     ]
    }
   ],
   "source": [
    "lista_a = list(a)\n",
    "\n",
    "print(lista_a)"
   ]
  },
  {
   "cell_type": "markdown",
   "metadata": {},
   "source": [
    "O una tupla a partir de una lita"
   ]
  },
  {
   "cell_type": "code",
   "execution_count": 34,
   "metadata": {},
   "outputs": [
    {
     "name": "stdout",
     "output_type": "stream",
     "text": [
      "(1, 2, 3, 4)\n"
     ]
    }
   ],
   "source": [
    "tupla_a = tuple(lista_a)\n",
    "\n",
    "print(tupla_a)"
   ]
  },
  {
   "cell_type": "markdown",
   "metadata": {},
   "source": [
    "Una lista de tuplas donde cada tupla representa un objeto con distintas características."
   ]
  },
  {
   "cell_type": "code",
   "execution_count": 35,
   "metadata": {},
   "outputs": [
    {
     "name": "stdout",
     "output_type": "stream",
     "text": [
      "(12223, 'Daniel Rodriguez')\n"
     ]
    }
   ],
   "source": [
    "alumnos = [(1111,\"Juan Perez\"),(12223,\"Daniel Rodriguez\"),(2344,\"Jason Becker\")]\n",
    "alumno1 = alumnos[1]\n",
    "print(alumno1)"
   ]
  },
  {
   "cell_type": "markdown",
   "metadata": {},
   "source": [
    "También contamos con count(valor) e index(valor) en tuplas"
   ]
  },
  {
   "cell_type": "code",
   "execution_count": 36,
   "metadata": {},
   "outputs": [
    {
     "name": "stdout",
     "output_type": "stream",
     "text": [
      "1\n",
      "0\n"
     ]
    }
   ],
   "source": [
    "print(alumno1.count(12223))\n",
    "print(alumno1.index(12223))"
   ]
  },
  {
   "cell_type": "markdown",
   "metadata": {},
   "source": [
    "#### Operadores de membresia"
   ]
  },
  {
   "cell_type": "code",
   "execution_count": 37,
   "metadata": {},
   "outputs": [
    {
     "data": {
      "text/plain": [
       "True"
      ]
     },
     "execution_count": 37,
     "metadata": {},
     "output_type": "execute_result"
    }
   ],
   "source": [
    "12223 in alumno1"
   ]
  },
  {
   "cell_type": "code",
   "execution_count": 38,
   "metadata": {},
   "outputs": [
    {
     "data": {
      "text/plain": [
       "False"
      ]
     },
     "execution_count": 38,
     "metadata": {},
     "output_type": "execute_result"
    }
   ],
   "source": [
    "\"Hola mundo\" in alumno1"
   ]
  },
  {
   "cell_type": "code",
   "execution_count": 39,
   "metadata": {},
   "outputs": [
    {
     "data": {
      "text/plain": [
       "True"
      ]
     },
     "execution_count": 39,
     "metadata": {},
     "output_type": "execute_result"
    }
   ],
   "source": [
    "(2344,\"Jason Becker\") in alumnos #buscar una tupla en la lista de  tuplas"
   ]
  },
  {
   "cell_type": "code",
   "execution_count": 41,
   "metadata": {},
   "outputs": [
    {
     "data": {
      "text/plain": [
       "False"
      ]
     },
     "execution_count": 41,
     "metadata": {},
     "output_type": "execute_result"
    }
   ],
   "source": [
    "(23445,\"Myrna Castillo\") in alumnos #buscar una tupla en la lista de  tuplas"
   ]
  },
  {
   "cell_type": "markdown",
   "metadata": {},
   "source": [
    "#### Indexing y slicing\n",
    "\n",
    "Para acceder a elementos de una tupla , aplica todo lo que vimos en listas respecto a indexing(1 elemento) y slicing(1 porcion), el resultado del slicing es una nueva tupla conteniendo la \"rebanada\" de la original"
   ]
  },
  {
   "cell_type": "code",
   "execution_count": 42,
   "metadata": {},
   "outputs": [
    {
     "name": "stdout",
     "output_type": "stream",
     "text": [
      "4\n",
      "7\n",
      "6\n",
      "(4, 'g', 5)\n",
      "(4, 'g', 5)\n"
     ]
    }
   ],
   "source": [
    "tupla = (2,3,4,\"g\",5,6,7)\n",
    "\n",
    "#indexing\n",
    "print(tupla[2])\n",
    "print(tupla[-1])\n",
    "print(tupla[-2])\n",
    "\n",
    "#slicing\n",
    "print(tupla[2:5])\n",
    "print(tupla[2:-2])"
   ]
  },
  {
   "cell_type": "markdown",
   "metadata": {},
   "source": [
    "Muchas funciones(tema aun por estudiar) pueden devolver mas de un objeto, esto lo hacen a traves de tuplas:"
   ]
  },
  {
   "cell_type": "code",
   "execution_count": 2,
   "metadata": {},
   "outputs": [],
   "source": [
    "def max_min(lista):\n",
    "    maximo = max(lista)\n",
    "    minimo = min(lista)\n",
    "    \n",
    "    return maximo,minimo"
   ]
  },
  {
   "cell_type": "code",
   "execution_count": 4,
   "metadata": {},
   "outputs": [
    {
     "data": {
      "text/plain": [
       "(100, 2)"
      ]
     },
     "execution_count": 4,
     "metadata": {},
     "output_type": "execute_result"
    }
   ],
   "source": [
    "max_min([2,3,7,2,100])"
   ]
  },
  {
   "cell_type": "code",
   "execution_count": 5,
   "metadata": {},
   "outputs": [
    {
     "data": {
      "text/plain": [
       "tuple"
      ]
     },
     "execution_count": 5,
     "metadata": {},
     "output_type": "execute_result"
    }
   ],
   "source": [
    "type(max_min([2,3,7,2,100]))"
   ]
  },
  {
   "cell_type": "code",
   "execution_count": null,
   "metadata": {},
   "outputs": [],
   "source": [
    "maximo,minimo = max_min([2,3,7,2,100])\n",
    "\n",
    "print(maximo,minimo)"
   ]
  },
  {
   "cell_type": "markdown",
   "metadata": {},
   "source": [
    "Las tuplas son utiles en programas que requieren hacer un \"swap\" de valores entre variables, escenario muy común en algoritmos de orgenamiento, veamos el siguiente algoritmo escrito de manera convencional(otros lenguajes) vs en Python con tuplas:"
   ]
  },
  {
   "cell_type": "code",
   "execution_count": 46,
   "metadata": {},
   "outputs": [
    {
     "name": "stdout",
     "output_type": "stream",
     "text": [
      "5 7\n"
     ]
    }
   ],
   "source": [
    "# metodo convencional usado comunmente en otros lenguajes\n",
    "valor_viejo = 5\n",
    "valor_nuevo = 7\n",
    "\n",
    "temp = valor_viejo\n",
    "valor_viejo = valor_nuevo\n",
    "valor_nuevo = temp\n",
    "\n",
    "print(valor_nuevo,valor_viejo)\n"
   ]
  },
  {
   "cell_type": "code",
   "execution_count": 6,
   "metadata": {},
   "outputs": [
    {
     "name": "stdout",
     "output_type": "stream",
     "text": [
      "5 7\n"
     ]
    }
   ],
   "source": [
    "# metodo de python para lograr el \"swap\"\n",
    "valor_viejo = 5\n",
    "valor_nuevo = 7\n",
    "\n",
    "valor_viejo,valor_nuevo = valor_nuevo,valor_viejo\n",
    "\n",
    "print(valor_nuevo,valor_viejo)"
   ]
  },
  {
   "cell_type": "markdown",
   "metadata": {},
   "source": [
    "#### Funciones utiles disponibles para listas y tuplas\n",
    "\n",
    "Existen diversas funciones disponibles por default en Python que son muy útiles para trabajar  con listas y tuplas, ya hemos visto algunas de estas durante el curso."
   ]
  },
  {
   "cell_type": "code",
   "execution_count": 48,
   "metadata": {},
   "outputs": [],
   "source": [
    "lista = [0,1,2,3,4,5]\n",
    "tupla = (1,2,3,4,5)\n",
    "\n"
   ]
  },
  {
   "cell_type": "markdown",
   "metadata": {},
   "source": [
    "**all**: función que devuelve un valor booleano(True o False), True si TODOS los elementos de la lista o tupla son True, False si existe al menos uno que sea falso"
   ]
  },
  {
   "cell_type": "code",
   "execution_count": 49,
   "metadata": {},
   "outputs": [
    {
     "name": "stdout",
     "output_type": "stream",
     "text": [
      "False\n",
      "True\n"
     ]
    }
   ],
   "source": [
    "print(all(lista))\n",
    "print(all(tupla))"
   ]
  },
  {
   "cell_type": "markdown",
   "metadata": {},
   "source": [
    "**any**: función que devuelve un valor booleano(True o False), True si CUALQUIERA de sus elementos es True, False si todos son falsos"
   ]
  },
  {
   "cell_type": "code",
   "execution_count": 50,
   "metadata": {},
   "outputs": [
    {
     "name": "stdout",
     "output_type": "stream",
     "text": [
      "True\n",
      "True\n",
      "False\n"
     ]
    }
   ],
   "source": [
    "print(any(lista))\n",
    "print(any(tupla))\n",
    "print(any([0,0,False]))"
   ]
  },
  {
   "cell_type": "markdown",
   "metadata": {},
   "source": [
    "**len:** función que devuelve un entero que indica el número de elementos de la lista o tupla"
   ]
  },
  {
   "cell_type": "code",
   "execution_count": 51,
   "metadata": {},
   "outputs": [
    {
     "name": "stdout",
     "output_type": "stream",
     "text": [
      "6\n",
      "5\n"
     ]
    }
   ],
   "source": [
    "print(len(lista))\n",
    "print(len(tupla))"
   ]
  },
  {
   "cell_type": "markdown",
   "metadata": {},
   "source": [
    "**max y min**: funciones que devuelven ya sea el valor maximo, o el mínimo contenido en una lista o tupla"
   ]
  },
  {
   "cell_type": "code",
   "execution_count": 52,
   "metadata": {},
   "outputs": [
    {
     "name": "stdout",
     "output_type": "stream",
     "text": [
      "5\n",
      "5\n"
     ]
    }
   ],
   "source": [
    "print(max(lista))\n",
    "print(max(tupla))"
   ]
  },
  {
   "cell_type": "code",
   "execution_count": 53,
   "metadata": {},
   "outputs": [
    {
     "name": "stdout",
     "output_type": "stream",
     "text": [
      "0\n",
      "1\n"
     ]
    }
   ],
   "source": [
    "print(min(lista))\n",
    "print(min(tupla))"
   ]
  },
  {
   "cell_type": "markdown",
   "metadata": {},
   "source": [
    "**sorted**: función que devuelve una lista(independiente de si se aplica sobre una nueva lista o una tupla)  que contiene los elementos de la colección original ordenados."
   ]
  },
  {
   "cell_type": "code",
   "execution_count": 54,
   "metadata": {},
   "outputs": [
    {
     "name": "stdout",
     "output_type": "stream",
     "text": [
      "[0, 1, 2, 3, 4, 5]\n",
      "[1, 2, 3, 4, 5]\n"
     ]
    }
   ],
   "source": [
    "print(sorted(lista))\n",
    "print(sorted(tupla))"
   ]
  },
  {
   "cell_type": "markdown",
   "metadata": {},
   "source": [
    "**sum**: función que devuelve un valor numerico con la suma de todos los elementos de una lista."
   ]
  },
  {
   "cell_type": "code",
   "execution_count": 55,
   "metadata": {},
   "outputs": [
    {
     "name": "stdout",
     "output_type": "stream",
     "text": [
      "15\n",
      "15\n"
     ]
    }
   ],
   "source": [
    "print(sum(lista))\n",
    "print(sum(tupla))"
   ]
  },
  {
   "cell_type": "code",
   "execution_count": null,
   "metadata": {
    "collapsed": true
   },
   "outputs": [],
   "source": [
    "# las listas o tuplas pueden guardar cualqueir tipo de objeto, pero resultara en error si se aplican funciones sobre \n",
    "# objetos no compatibles\n",
    "# print(sum([1,2,3,\"a\"]))"
   ]
  },
  {
   "cell_type": "markdown",
   "metadata": {},
   "source": [
    "## Ciclos for con  listas y tuplas\n",
    "\n",
    "Tal como mencionamos en la sección de ciclos, en Python los ciclos \"for\" tienen una relación directa con las colecciones(aveces llamadas iterables) y de manera natural podemos utilizar un ciclo \"for\" para iterar sobre los elementos de una lista o tupla y realizar cualquier acción elemento por elemento utilizando:\n",
    "\n",
    "for < iterador > in < coleccion >:\n",
    "\n",
    "\n",
    "       < bloque >\n",
    "   \n",
    "\n",
    "En cada iteración del ciclo for < iterador > almacenara un valor en la colección.\n",
    " "
   ]
  },
  {
   "cell_type": "code",
   "execution_count": 56,
   "metadata": {},
   "outputs": [
    {
     "name": "stdout",
     "output_type": "stream",
     "text": [
      "1\n",
      "2\n",
      "3\n",
      "4\n",
      "5\n",
      "6\n"
     ]
    }
   ],
   "source": [
    "lista = [0,1,2,3,4,5]\n",
    "\n",
    "for elemento in lista:\n",
    "    print(elemento + 1)"
   ]
  },
  {
   "cell_type": "code",
   "execution_count": 57,
   "metadata": {},
   "outputs": [
    {
     "name": "stdout",
     "output_type": "stream",
     "text": [
      "2\n",
      "4\n",
      "6\n",
      "8\n",
      "10\n"
     ]
    }
   ],
   "source": [
    "tupla = (1,2,3,4,5)\n",
    "\n",
    "for elemento in tupla:\n",
    "    print(elemento*2)"
   ]
  },
  {
   "cell_type": "markdown",
   "metadata": {},
   "source": [
    "El bloque del for puede tener muchas sentencias."
   ]
  },
  {
   "cell_type": "code",
   "execution_count": 58,
   "metadata": {},
   "outputs": [
    {
     "name": "stdout",
     "output_type": "stream",
     "text": [
      "Al elevar  2  al cuadrado obtenemos el numero par  4\n",
      "Al elevar  4  al cuadrado obtenemos el numero par  16\n",
      "Al elevar  6  al cuadrado obtenemos el numero par  36\n",
      "Al elevar  8  al cuadrado obtenemos el numero par  64\n",
      "Al elevar  10  al cuadrado obtenemos el numero par  100\n"
     ]
    }
   ],
   "source": [
    "tupla = (1,2,3,4,5,6,7,8,9,10,11)\n",
    "\n",
    "for elemento in tupla:\n",
    "    elemento_cuadrado = elemento**2\n",
    "    \n",
    "    if elemento_cuadrado%2 == 0:  #si el resultado de elevar elemento al cuadrado es par\n",
    "        print(\"Al elevar \",elemento,\" al cuadrado obtenemos el numero par \",elemento_cuadrado)"
   ]
  },
  {
   "cell_type": "markdown",
   "metadata": {},
   "source": [
    "## Ejemplo aplicado a data science\n",
    "Con el conocimiento que ahora poseemos respecto a listas, ciclo for y operaciones como \"sum\" sobre listas , podemos  ejecutar una simulación de monte carlo.\n",
    "\n",
    "Se ha determinado que el tiempo \"X\" que los usuarios pasan en una red social diariamente se distribuye de forma normal(gausianna) con una media de 5 horas y desviacion estandar de 1.\n",
    "\n",
    "Se ha estimado que el ingreso diario percibido \"Y\" por cada usuario depende del tiempo que este pasa en la red social  de manera proporcional siguiendo un modelo lineal de la forma:\n",
    "\n",
    "$$y=0.1x+0.3±error$$\n",
    "\n",
    "Donde :\n",
    "* x: es el tiempo que un usuario pasa al día en la red social.\n",
    "* error: es el posible error en la estimación del modelo que sigue una distribución normal centrada en 0 y std 0.1\n",
    "* y: ingreso diario estimado\n",
    "\n",
    "**nota** Este modelo posee un problema: puede llegar a generar ingresos negativos,por el momento no nos preocupemos por esto.\n",
    "\n",
    "Se solicita el equipo de data science determinar cual sera el ingreso esperado(o promedio) diario para un usuario aleatorio y una estimación del valor máximo  que puede ser percibido."
   ]
  },
  {
   "cell_type": "markdown",
   "metadata": {},
   "source": [
    "**ejercicio** experimenta con diferentes numeros de iteraciones de la simulación y analiza el comportamiento del sistema en relación a esto, anota tu conclusión en el notebook en una nueva celda Markdown abajo de la celda de la simulación."
   ]
  },
  {
   "cell_type": "code",
   "execution_count": 63,
   "metadata": {},
   "outputs": [
    {
     "name": "stdout",
     "output_type": "stream",
     "text": [
      "El valor esperado o esperanza de la variable Y es E(Y) = 0.7995575479603173\n",
      "El valor minimo de y es  0.2151249206275166\n",
      "El valor maximo de y es  1.3707039186801282\n"
     ]
    }
   ],
   "source": [
    "import random\n",
    "\n",
    "SIMULACIONES = 10000\n",
    "resultados_simulacion = []\n",
    "\n",
    "for iteracion in range(1,SIMULACIONES +1,1):\n",
    "    x_simulado = random.gauss(5,1) # sampleo/muestreo de la variable x que se distribuye de forma normal con media 5 y desviacion 2\n",
    "    error = random.gauss(0,0.1) \n",
    "    \n",
    "    # aplicar el modelo para obtener un valor simulado de y\n",
    "    y = 0.1*x_simulado + 0.3  + error #aplicar el modelo a la variable \"simulada\"\n",
    "   \n",
    "    resultados_simulacion.append(y) #guardar los resultados en una lista para analisis posterior\n",
    "    \n",
    "EY = sum(resultados_simulacion)/SIMULACIONES # E(Y) ,esperanza o valor esperado de una variable aleatoria\n",
    "ingreso_maximo = max(resultados_simulacion)\n",
    "ingreso_minimo = min(resultados_simulacion)\n",
    "\n",
    "print(\"El valor esperado o esperanza de la variable Y es E(Y) =\" ,EY)\n",
    "print(\"El valor minimo de y es \",ingreso_minimo)\n",
    "print(\"El valor maximo de y es \",ingreso_maximo)"
   ]
  },
  {
   "cell_type": "markdown",
   "metadata": {},
   "source": [
    "## Diccionarios\n",
    "\n",
    "Antes de hablar de diccionarios veamos algunos de los nombres con los que son conocidos en otros lenguajes:\n",
    "\n",
    "* tabla hash\n",
    "* mapas\n",
    "* hash-maps\n",
    "\n",
    "Un diccionario es una  coleccion(al contrario de las listas y tupas) NO ORDENADA de objetos, ya que es una coleccion no ordenada , no podemos acceder a sus elementos segun su posicion , en lugar de esto lo hacemos usando una \"llave\" que identifica a cada elemento. Esta llave puede ser cualquier objeto INMUTABLE pero el caso mas comun es que sean strings.\n",
    "\n",
    "Por lo tanto un diccionario \"mapea\" una llave a un valor, esto es conocido en programacion como estructuras \"key-value\".\n",
    "\n",
    "Aun que la llave esta limitada a objetos inmutables (como strings o tuplas), el valor almacenado puede ser cualquier objeto, por lo tanto es posible almacenar estructuras complejas,por ejemplo diccionarios de listas:\n",
    "\n",
    "<img src=\"https://upload.wikimedia.org/wikipedia/commons/5/5b/KeyValue.PNG\">\n",
    "\n",
    "<img src=\"https://i.stack.imgur.com/nzc2C.png\">\n",
    "\n",
    "Esta es una de las estructuras de datos mas populares debido a su flexibilidad y gran eficiencia tanto en Python como en otros lenguajes.\n",
    "\n",
    "Asi como creamos listas con [] y tuplas con () , creamos los diccionarios con {}(o con la funcion dict) usando la sintaxis\n",
    "\n",
    "{llave1:valor1,llave2:valor2,...,llaven:valorn}\n",
    "\n",
    "Para obtener un objeto dada su llave ,podemos usar:\n",
    "\n",
    "diccionario[llave]\n",
    "\n",
    "o \n",
    "\n",
    "diccionario.get(llave)"
   ]
  },
  {
   "cell_type": "code",
   "execution_count": 7,
   "metadata": {},
   "outputs": [
    {
     "name": "stdout",
     "output_type": "stream",
     "text": [
      "{}\n",
      "<class 'dict'>\n"
     ]
    }
   ],
   "source": [
    "diccionario_vacio = {}\n",
    "\n",
    "print(diccionario_vacio)\n",
    "print(type(diccionario_vacio))"
   ]
  },
  {
   "cell_type": "code",
   "execution_count": 8,
   "metadata": {},
   "outputs": [
    {
     "name": "stdout",
     "output_type": "stream",
     "text": [
      "2\n",
      "3\n"
     ]
    }
   ],
   "source": [
    "digitos = {\"uno\":1,\"dos\":2,\"tres\":3,\"lista\":[1,2,3,4]}\n",
    "\n",
    "print(digitos[\"dos\"])\n",
    "print(digitos.get(\"tres\"))\n",
    "digitos.get(\"test\")"
   ]
  },
  {
   "cell_type": "markdown",
   "metadata": {},
   "source": [
    "Podemos agregar nuevos elementos a un diccionario creado de manera similar a como lo hacemos con listas:"
   ]
  },
  {
   "cell_type": "code",
   "execution_count": 70,
   "metadata": {},
   "outputs": [
    {
     "name": "stdout",
     "output_type": "stream",
     "text": [
      "4\n"
     ]
    }
   ],
   "source": [
    "digitos[\"cuatro\"] = 4\n",
    "\n",
    "print(digitos[\"cuatro\"])"
   ]
  },
  {
   "cell_type": "markdown",
   "metadata": {},
   "source": [
    "Una de las diferencias entre usar get o corchetes para obtener el valor de un diccionario, es que \"get\" no resulta en error si la llave no existe:"
   ]
  },
  {
   "cell_type": "code",
   "execution_count": 9,
   "metadata": {},
   "outputs": [],
   "source": [
    "digitos.get(\"cinco\")"
   ]
  },
  {
   "cell_type": "code",
   "execution_count": 10,
   "metadata": {},
   "outputs": [
    {
     "ename": "KeyError",
     "evalue": "'cinco'",
     "output_type": "error",
     "traceback": [
      "\u001b[1;31m---------------------------------------------------------------------------\u001b[0m",
      "\u001b[1;31mKeyError\u001b[0m                                  Traceback (most recent call last)",
      "\u001b[1;32m<ipython-input-10-3d2f10947244>\u001b[0m in \u001b[0;36m<module>\u001b[1;34m\u001b[0m\n\u001b[1;32m----> 1\u001b[1;33m \u001b[0mdigitos\u001b[0m\u001b[1;33m[\u001b[0m\u001b[1;34m\"cinco\"\u001b[0m\u001b[1;33m]\u001b[0m\u001b[1;33m\u001b[0m\u001b[1;33m\u001b[0m\u001b[0m\n\u001b[0m",
      "\u001b[1;31mKeyError\u001b[0m: 'cinco'"
     ]
    }
   ],
   "source": [
    "digitos[\"cinco\"]"
   ]
  },
  {
   "cell_type": "markdown",
   "metadata": {},
   "source": [
    "Los diccionarios son extramadamente versatiles y utilizados en cualquier tipo de programa, en el ambito de data science tenemos los siguientes ejemplos:\n",
    "\n",
    "**En inteligencia artificial del tipo \"Natural Language Processing**\n",
    "Los algoritmos de machine learning pueden trabajar unicamente sobre datos numericos , al usar ML para NLP necesitamos una manera de representar numericamente las palabras de cierto lenguaje, entonces necesitamos convertir la palabra a numeros y luego ser capaces de hacer la operacion inversa: de numero a palabra\n",
    "\n",
    "Esto es comunmente hecho con diccionarios(o varaciones de estos).\n",
    "\n",
    "Pensemos en un problema con un lenguaje reducido que consta unicamente de:\n",
    "\n",
    "\"Python es un lenguaje muy utilizado en inteligencia artificial\"\n",
    "\n",
    "**tip** en proyectos de NLP es comun agregar un \"token\" especial para denotar palabra desconocidas, por ejemplo < \"UNK \">"
   ]
  },
  {
   "cell_type": "code",
   "execution_count": 77,
   "metadata": {},
   "outputs": [
    {
     "name": "stdout",
     "output_type": "stream",
     "text": [
      "0 Python\n",
      "1 es\n",
      "2 un\n",
      "3 lenguaje\n",
      "4 muy\n",
      "5 utilizado\n",
      "6 en\n",
      "7 inteligencia\n",
      "8 artificial\n"
     ]
    }
   ],
   "source": [
    "corpus = \"Python es un lenguaje muy utilizado en inteligencia artificial\"\n",
    "\n",
    "palabras = corpus.split()\n",
    "token_desconocido = \"<unk>\"\n",
    "\n",
    "palabras_a_numeros = dict()\n",
    "numeros_a_palabras = {}\n",
    "\n",
    "for numero,palabra in enumerate(palabras):\n",
    "    print(numero,palabra)\n",
    "    palabras_a_numeros[palabra] = numero\n",
    "    numeros_a_palabras[numero] = palabra\n",
    "    \n",
    "palabras_a_numeros[token_desconocido]  = -1\n",
    "numeros_a_palabras[-1] = token_desconocido"
   ]
  },
  {
   "cell_type": "code",
   "execution_count": 75,
   "metadata": {},
   "outputs": [
    {
     "data": {
      "text/plain": [
       "7"
      ]
     },
     "execution_count": 75,
     "metadata": {},
     "output_type": "execute_result"
    }
   ],
   "source": [
    "palabras_a_numeros[\"inteligencia\"]"
   ]
  },
  {
   "cell_type": "code",
   "execution_count": 76,
   "metadata": {},
   "outputs": [
    {
     "data": {
      "text/plain": [
       "'inteligencia'"
      ]
     },
     "execution_count": 76,
     "metadata": {},
     "output_type": "execute_result"
    }
   ],
   "source": [
    "numeros_a_palabras[7]"
   ]
  },
  {
   "cell_type": "markdown",
   "metadata": {},
   "source": [
    "**Obtener todas las llaves de un diccionario:**\n",
    "\n",
    "Podemos obtener una lista con todas las llaves existentes en un diccionario llamando a la funcion keys() sobre cierto diccionario."
   ]
  },
  {
   "cell_type": "code",
   "execution_count": 78,
   "metadata": {},
   "outputs": [
    {
     "data": {
      "text/plain": [
       "dict_keys(['Python', 'es', 'un', 'lenguaje', 'muy', 'utilizado', 'en', 'inteligencia', 'artificial', '<unk>'])"
      ]
     },
     "execution_count": 78,
     "metadata": {},
     "output_type": "execute_result"
    }
   ],
   "source": [
    "palabras_a_numeros.keys()"
   ]
  },
  {
   "cell_type": "code",
   "execution_count": 79,
   "metadata": {},
   "outputs": [
    {
     "name": "stdout",
     "output_type": "stream",
     "text": [
      "-1 : <unk>\n",
      "0 : Python\n",
      "1 : es\n",
      "2 : un\n",
      "3 : lenguaje\n",
      "4 : muy\n",
      "5 : utilizado\n",
      "6 : en\n",
      "7 : inteligencia\n",
      "8 : artificial\n"
     ]
    }
   ],
   "source": [
    "for llave in sorted(numeros_a_palabras.keys()):\n",
    "    print(llave,\":\", numeros_a_palabras[llave])"
   ]
  },
  {
   "cell_type": "markdown",
   "metadata": {},
   "source": [
    "O similar podemos usar items() y obtener tuplas de la forma llave,objeto"
   ]
  },
  {
   "cell_type": "code",
   "execution_count": 81,
   "metadata": {},
   "outputs": [
    {
     "name": "stdout",
     "output_type": "stream",
     "text": [
      "0 Python\n",
      "1 es\n",
      "2 un\n",
      "3 lenguaje\n",
      "4 muy\n",
      "5 utilizado\n",
      "6 en\n",
      "7 inteligencia\n",
      "8 artificial\n",
      "-1 <unk>\n"
     ]
    }
   ],
   "source": [
    "for llave,valor in numeros_a_palabras.items():\n",
    "    print(llave,valor)"
   ]
  },
  {
   "cell_type": "markdown",
   "metadata": {},
   "source": [
    "len() nos dice cuantos pares llave-valor tiene el diccionario"
   ]
  },
  {
   "cell_type": "code",
   "execution_count": 82,
   "metadata": {},
   "outputs": [
    {
     "data": {
      "text/plain": [
       "10"
      ]
     },
     "execution_count": 82,
     "metadata": {},
     "output_type": "execute_result"
    }
   ],
   "source": [
    "len(numeros_a_palabras)"
   ]
  },
  {
   "cell_type": "markdown",
   "metadata": {},
   "source": [
    "Podemos usar in y not in para determinar si un diccionario contiene a cierta llave buscada(NO EL VALOR):"
   ]
  },
  {
   "cell_type": "code",
   "execution_count": 83,
   "metadata": {},
   "outputs": [
    {
     "name": "stdout",
     "output_type": "stream",
     "text": [
      "True\n",
      "False\n",
      "False\n"
     ]
    }
   ],
   "source": [
    "estudiantes = {111:\"Luis\",123:\"Maria\",1234:\"Juan\"}\n",
    "\n",
    "print(111 in estudiantes)\n",
    "print(\"Luis\" in estudiantes)\n",
    "print(123 not in estudiantes)"
   ]
  },
  {
   "cell_type": "markdown",
   "metadata": {},
   "source": [
    "#### Otros tipos de diccionarios\n",
    "\n",
    "Python cuenta en su paquete \"collections\" con variantes del diccionario basico:\n",
    "\n",
    "* Counter\n",
    "* OrderedDict\n",
    "* defaultdict"
   ]
  },
  {
   "cell_type": "code",
   "execution_count": 85,
   "metadata": {},
   "outputs": [
    {
     "name": "stdout",
     "output_type": "stream",
     "text": [
      "Counter({'a': 2, 'b': 1, 'c': 1, 'd': 1, 'e': 1})\n"
     ]
    }
   ],
   "source": [
    "from collections import Counter\n",
    "\n",
    "letras = [\"a\",\"b\",\"c\",\"d\",\"e\",\"a\"]\n",
    "counter = Counter(letras)\n",
    "\n",
    "print(counter)"
   ]
  },
  {
   "cell_type": "code",
   "execution_count": 88,
   "metadata": {},
   "outputs": [
    {
     "name": "stdout",
     "output_type": "stream",
     "text": [
      "1\n"
     ]
    }
   ],
   "source": [
    "from collections import defaultdict\n",
    "\n",
    "default_estudiantes = defaultdict(int)\n",
    "\n",
    "default_estudiantes[\"Javier\"] = 1\n",
    "\n",
    "print(default_estudiantes[\"Javier\"])"
   ]
  },
  {
   "cell_type": "markdown",
   "metadata": {},
   "source": [
    "## Conjuntos\n",
    "\n",
    "Otra estructura de datos util es la estructura llamada \"set\" la cual esta basada completamente en el concepto matematico de conjuntos , por lo tanto cumple con las caracteristicas:\n",
    "\n",
    "* No tiene un orden\n",
    "* No tiene elementos duplicados\n",
    "\n",
    "Y podemos realizar sobre conjuntos operaciones matematicas como:\n",
    "\n",
    "* union\n",
    "* interseccion\n",
    "* diferencia\n",
    "\n",
    "Los definimos con llaves similar a un diccionario pero especificando elementos individuales y no pares llave-valor."
   ]
  },
  {
   "cell_type": "code",
   "execution_count": 89,
   "metadata": {},
   "outputs": [
    {
     "name": "stdout",
     "output_type": "stream",
     "text": [
      "{1, 2, 3}\n"
     ]
    }
   ],
   "source": [
    "A = {1, 2, 3}\n",
    "\n",
    "\n",
    "print(A)"
   ]
  },
  {
   "cell_type": "code",
   "execution_count": 90,
   "metadata": {},
   "outputs": [
    {
     "name": "stdout",
     "output_type": "stream",
     "text": [
      "{'e', 'p', 'y', 's', 'h', 'o', 'a', ' ', 'n', 't', 'd', 'l', 'u', 'm'}\n"
     ]
    }
   ],
   "source": [
    "A = set('hola mundo desde python')\n",
    "print(A)\n"
   ]
  },
  {
   "cell_type": "code",
   "execution_count": 91,
   "metadata": {},
   "outputs": [
    {
     "name": "stdout",
     "output_type": "stream",
     "text": [
      "23\n",
      "14\n"
     ]
    }
   ],
   "source": [
    "print(len('hola mundo desde python'))\n",
    "print(len(A))"
   ]
  },
  {
   "cell_type": "code",
   "execution_count": 92,
   "metadata": {},
   "outputs": [
    {
     "name": "stdout",
     "output_type": "stream",
     "text": [
      "True\n"
     ]
    }
   ],
   "source": [
    "A = {1, 2, 3}\n",
    "B = {3, 2, 3, 1}\n",
    "print(A == B)"
   ]
  },
  {
   "cell_type": "code",
   "execution_count": 94,
   "metadata": {},
   "outputs": [
    {
     "ename": "TypeError",
     "evalue": "'set' object does not support indexing",
     "output_type": "error",
     "traceback": [
      "\u001b[0;31m---------------------------------------------------------------------------\u001b[0m",
      "\u001b[0;31mTypeError\u001b[0m                                 Traceback (most recent call last)",
      "\u001b[0;32m<ipython-input-94-72ea7112faa4>\u001b[0m in \u001b[0;36m<module>\u001b[0;34m\u001b[0m\n\u001b[0;32m----> 1\u001b[0;31m \u001b[0mA\u001b[0m\u001b[0;34m[\u001b[0m\u001b[0;36m1\u001b[0m\u001b[0;34m]\u001b[0m\u001b[0;34m\u001b[0m\u001b[0;34m\u001b[0m\u001b[0m\n\u001b[0m",
      "\u001b[0;31mTypeError\u001b[0m: 'set' object does not support indexing"
     ]
    }
   ],
   "source": [
    "#A[1]"
   ]
  },
  {
   "cell_type": "code",
   "execution_count": 95,
   "metadata": {},
   "outputs": [
    {
     "name": "stdout",
     "output_type": "stream",
     "text": [
      "2\n",
      "3\n",
      "5\n",
      "7\n",
      "11\n"
     ]
    }
   ],
   "source": [
    "primos = {2, 3, 5, 7, 11}\n",
    "for num in primos:\n",
    "    print(num)"
   ]
  },
  {
   "cell_type": "code",
   "execution_count": 96,
   "metadata": {},
   "outputs": [
    {
     "name": "stdout",
     "output_type": "stream",
     "text": [
      "{1, 2, 3, 4}\n"
     ]
    }
   ],
   "source": [
    "A.add(4)\n",
    "print(A)"
   ]
  },
  {
   "cell_type": "code",
   "execution_count": 97,
   "metadata": {},
   "outputs": [
    {
     "name": "stdout",
     "output_type": "stream",
     "text": [
      "True False\n"
     ]
    }
   ],
   "source": [
    "print(4 in A,5 in A)"
   ]
  },
  {
   "cell_type": "code",
   "execution_count": 98,
   "metadata": {},
   "outputs": [
    {
     "name": "stdout",
     "output_type": "stream",
     "text": [
      "{0, 1, 2, 3, 4, 5, 9}\n",
      "{0, 1, 2, 3, 4, 5, 9}\n"
     ]
    }
   ],
   "source": [
    "C = {3,5,9,0}\n",
    "\n",
    "print(A.union(C))\n",
    "print(A | C)"
   ]
  },
  {
   "cell_type": "code",
   "execution_count": 99,
   "metadata": {},
   "outputs": [
    {
     "name": "stdout",
     "output_type": "stream",
     "text": [
      "{3}\n",
      "{3}\n"
     ]
    }
   ],
   "source": [
    "print(A.intersection(C))\n",
    "print(A & C)"
   ]
  },
  {
   "cell_type": "code",
   "execution_count": 100,
   "metadata": {},
   "outputs": [
    {
     "name": "stdout",
     "output_type": "stream",
     "text": [
      "{1, 2, 4}\n",
      "{1, 2, 4}\n"
     ]
    }
   ],
   "source": [
    "print(A.difference(C))\n",
    "print(A - C)"
   ]
  },
  {
   "cell_type": "markdown",
   "metadata": {},
   "source": [
    "Existen otras operciones sobre conjuntos,  referencia util: https://snakify.org/en/lessons/sets/"
   ]
  },
  {
   "cell_type": "markdown",
   "metadata": {},
   "source": [
    "**Caso de uso comun** Un caso de uso comun en data science es similar un \"distinct\" de una lista a traves de crear un conjunto a partir de la lista"
   ]
  },
  {
   "cell_type": "code",
   "execution_count": 101,
   "metadata": {},
   "outputs": [
    {
     "name": "stdout",
     "output_type": "stream",
     "text": [
      "{1, 2, 3, 4, 5}\n"
     ]
    }
   ],
   "source": [
    "numeros = [1,2,3,2,4,5,1,2,1,5]\n",
    "\n",
    "distinct_numeros = set(numeros)\n",
    "print(distinct_numeros)"
   ]
  },
  {
   "cell_type": "markdown",
   "metadata": {},
   "source": [
    "## Tarea\n",
    "\n",
    "Con esto terminamos Python basico y sintaxis general faltando unicamente un punto que sera clave para resolver la tarea practica:\n",
    "\n",
    "**Funciones**: \n",
    "Tambien llamadas sub-rutinas, procedimientos o metodos en otros lenguajes, esta tarea consiste en investigar:\n",
    "* funciones en Python \n",
    "* parametros posisionales \n",
    "* parametros nombrados \n",
    "* retorno de multiples valores\n",
    "* funciones como objetos y como parametros de otras funciones\n",
    "* funciones anonimas o lambda\n",
    "\n",
    "Entrega: Documento explicando bajo tus conclusiones(no copy-paste) cada uno de estos puntos ejemplificando un caso de uso, este debe ser subio al GES. Limite de entrega :**Miercoles  13**"
   ]
  },
  {
   "cell_type": "markdown",
   "metadata": {
    "collapsed": true
   },
   "source": [
    "### Funciones en Python ###\n",
    "\n",
    "En python una función se distingue de los métodos en cuanto a que los métodos son utilizados en programación orientada a objetos. Una función como tal en python describe una función tradicional que está definida en el contexto de una clase o instancia de una clase.\n",
    "\n",
    "En python para definir una función utilizamos la palabra reservada **def**. Al utilizar esta \"signature\" se le asigna un identificador a la función que se está desarrollando. Como python es un lenguaje en el que los tipos son dinámicos no es necesario establecer el tipo de los parámetros o salidas de la función. El resto de la función se conoce como el \"cuerpo\" de la función. En el momento en el que se llama a una función en python, se crea un record de activación el cual guarda toda la información relevant al llamado de esa instancia.  El record de activación guarda un record llamado \"namespace\" el cual guarda los identificadores correspondientes y que tienen \"local scope\" dentro de la función.\n",
    "\n",
    "Una función en python acepta parámetros dependiendo de cómo nosotros definamos la función. Los parámetros son básicamente las variables que van a formar parte del \"namespace\" correspondiente a la función\n",
    "\n",
    "Dentro de una función se utiliza la palabra reservada **return** para definir el output o salida de la función. Esta declaración puede ser utilizada múltiples veces dentro de una función, dependiendo de las estructuras de control que se están utilizando.\n",
    "\n",
    "A continuación se presenta el ejemplo de una función en python:\n"
   ]
  },
  {
   "cell_type": "code",
   "execution_count": 2,
   "metadata": {},
   "outputs": [
    {
     "data": {
      "text/plain": [
       "'hello world'"
      ]
     },
     "execution_count": 2,
     "metadata": {},
     "output_type": "execute_result"
    }
   ],
   "source": [
    "# Las funciones en python se inician con la palabra reservada def a continuacion del nombre de la función y ([parámetros])\n",
    "def helloworld():\n",
    "    #La jerarquía establecida por el cuerpo de una función depende de la indentación del código\n",
    "    stringtoprint = \"hello world\"\n",
    "    return stringtoprint\n",
    "\n",
    "# Una función en python se llama de esta manera\n",
    "helloworld()\n"
   ]
  },
  {
   "cell_type": "code",
   "execution_count": 22,
   "metadata": {},
   "outputs": [],
   "source": [
    "#Otro ejemplo de una función\n",
    "\n",
    "n = [1,2,3,4,5]\n",
    "\n",
    "ntuple = (1,2,3,4,5)\n",
    "\n",
    "def printnum(numlist):\n",
    "    if type(numlist) == list:\n",
    "        for i in numlist:\n",
    "            print (i * 2)\n",
    "    else:\n",
    "        return \"Función definida únicamente para listas\""
   ]
  },
  {
   "cell_type": "code",
   "execution_count": 23,
   "metadata": {},
   "outputs": [
    {
     "name": "stdout",
     "output_type": "stream",
     "text": [
      "2\n",
      "4\n",
      "6\n",
      "8\n",
      "10\n"
     ]
    }
   ],
   "source": [
    "# Se hace print para cada valor de la lista \n",
    "printnum(n)"
   ]
  },
  {
   "cell_type": "code",
   "execution_count": 24,
   "metadata": {},
   "outputs": [
    {
     "data": {
      "text/plain": [
       "'Función definida únicamente para listas'"
      ]
     },
     "execution_count": 24,
     "metadata": {},
     "output_type": "execute_result"
    }
   ],
   "source": [
    "#Función no definida para tuplas\n",
    "printnum(ntuple)"
   ]
  },
  {
   "cell_type": "markdown",
   "metadata": {},
   "source": [
    "### Parametros posicionales\n",
    "\n",
    "Tal como se observó en los ejemplos anteriores, python acepta parámetros como los objetos de entrada dentro de una función. \n",
    "\n",
    "```\n",
    "def function(parametro1, parametro2 = 0, parametro3 = True)\n",
    "```\n",
    "\n",
    "En esta función, como se puede observar, hay varios parámetros que se están definiendo dentro de la función, pero, al primer parámetro a diferencia de los otros dos, no se le está asignando un valor por defecto.\n",
    "\n",
    "Al llamar una función podemos tomar en cuenta el orden en el que se encuentran posicionados los parámetros en su definición.\n",
    "En la función ficticia de arriba, el parámetro1 corresponde al primer parámetro definido, parametro2 al segundo, parametro3 al tercero. \n",
    "\n",
    "Esto es importante ya que si llamamos la función de arriba de la siguiente manera:\n",
    "\n",
    "```\n",
    "function(1,2,False)\n",
    "```\n",
    "La función definida está siendo llamada con parámetro1 con el valor de 1, parámetro2 con el valor de 2, y parámetro3 con el valor de False. El orden en el que los argumentos fueron definidos en un inicio en la función nos permite llamar a la función sin tener que definir con exactitud a que objeto corresponde cada uno de los parámetros definidos en la función.\n",
    "\n",
    "\n",
    "### Parametros nombrados\n",
    "De igual forma se puede superar este orden inherente que provee python para llamar funciones al nombrar cada uno de los parámetros sin importar su orden:\n",
    "\n",
    "```\n",
    "function(parametro2 = 2, parametro3 = False, parametro1 = 1)\n",
    "```\n",
    "Esto equivale a la función llamada en el ejemplo anterior.\n"
   ]
  },
  {
   "cell_type": "code",
   "execution_count": 20,
   "metadata": {},
   "outputs": [
    {
     "data": {
      "text/plain": [
       "1.2"
      ]
     },
     "execution_count": 20,
     "metadata": {},
     "output_type": "execute_result"
    }
   ],
   "source": [
    "#Este es un ejemplo de una función en la que se utilizan parámetros posicionales.\n",
    "\n",
    "def function(x = 1, y = 2, z = 5):\n",
    "    resultado =  x * y / z \n",
    "    return resultado\n",
    "\n",
    "function(2,3,5)\n"
   ]
  },
  {
   "cell_type": "code",
   "execution_count": 21,
   "metadata": {},
   "outputs": [
    {
     "data": {
      "text/plain": [
       "1.2"
      ]
     },
     "execution_count": 21,
     "metadata": {},
     "output_type": "execute_result"
    }
   ],
   "source": [
    "#De igual forma se puede llamar la función nombrando cada uno de los parámetros\n",
    "\n",
    "function(z = 5, x = 2, y = 3)"
   ]
  },
  {
   "cell_type": "markdown",
   "metadata": {},
   "source": [
    "### Retorno de múltiples valores\n",
    "\n",
    "En python hay múltiples maneras en las que se pueden obtener múltiples valores como salida de una función. Una de las maneras más simples para hacerlo es el utilizar una tupla para definir el objeto en **return**.\n"
   ]
  },
  {
   "cell_type": "code",
   "execution_count": 25,
   "metadata": {},
   "outputs": [],
   "source": [
    "#Ejemplo de múltiples valores de salida a través de una tupla.\n",
    "\n",
    "def function(x,y,z):\n",
    "    x += 1\n",
    "    y += 2\n",
    "    z += 3\n",
    "    return (x, y, z)"
   ]
  },
  {
   "cell_type": "code",
   "execution_count": 28,
   "metadata": {},
   "outputs": [
    {
     "data": {
      "text/plain": [
       "(2, 3, 4)"
      ]
     },
     "execution_count": 28,
     "metadata": {},
     "output_type": "execute_result"
    }
   ],
   "source": [
    "#Salida es un objeto del tipo tupla\n",
    "function(1,1,1)"
   ]
  },
  {
   "cell_type": "markdown",
   "metadata": {},
   "source": [
    "Otra forma de obtener salidas de múltiples valores en una función en python es crear una lista vacía a la cual se le agregan valores a través de la función utilizada."
   ]
  },
  {
   "cell_type": "code",
   "execution_count": 33,
   "metadata": {},
   "outputs": [],
   "source": [
    "#Ejemplo de la misma función utilizando lista como medio para retornar salidas de múltiples valores\n",
    "\n",
    "def functionlist(x,y,z):\n",
    "    returnlist = []\n",
    "    \n",
    "    x += 1\n",
    "    returnlist.append(x)\n",
    "    \n",
    "    y += 2\n",
    "    returnlist.append(y)\n",
    "    \n",
    "    z += 3\n",
    "    returnlist.append(z)\n",
    "    \n",
    "    return returnlist\n",
    "    "
   ]
  },
  {
   "cell_type": "code",
   "execution_count": 34,
   "metadata": {},
   "outputs": [
    {
     "data": {
      "text/plain": [
       "[2, 3, 4]"
      ]
     },
     "execution_count": 34,
     "metadata": {},
     "output_type": "execute_result"
    }
   ],
   "source": [
    "#Salida es un objeto del tipo lista\n",
    "functionlist(1,1,1)"
   ]
  },
  {
   "cell_type": "markdown",
   "metadata": {},
   "source": [
    "El diccionario es un objeto util en el que se le asigna un identificador inmutable a cada objeto guardado dentro del diccionario."
   ]
  },
  {
   "cell_type": "code",
   "execution_count": 42,
   "metadata": {},
   "outputs": [],
   "source": [
    "#\n",
    "def functiondict(x,y,z):\n",
    "    returndict = {}\n",
    "    \n",
    "    x += 1\n",
    "    returndict[\"x\"] = x\n",
    "    \n",
    "    y += 2\n",
    "    returndict[\"y\"] = y \n",
    "    \n",
    "    z += 3\n",
    "    returndict[\"z\"] = z\n",
    "    \n",
    "    return returndict"
   ]
  },
  {
   "cell_type": "code",
   "execution_count": 43,
   "metadata": {},
   "outputs": [
    {
     "data": {
      "text/plain": [
       "{'x': 2, 'y': 3, 'z': 4}"
      ]
     },
     "execution_count": 43,
     "metadata": {},
     "output_type": "execute_result"
    }
   ],
   "source": [
    "#Salida es un objeto del tipo diccionario\n",
    "functiondict(1,1,1)"
   ]
  },
  {
   "cell_type": "markdown",
   "metadata": {},
   "source": [
    "En Python, por ser un lenguaje con un paradigma orientado a objetos, las funciones también se consideran objetos de la clase **function**"
   ]
  },
  {
   "cell_type": "code",
   "execution_count": 46,
   "metadata": {},
   "outputs": [
    {
     "data": {
      "text/plain": [
       "function"
      ]
     },
     "execution_count": 46,
     "metadata": {},
     "output_type": "execute_result"
    }
   ],
   "source": [
    "type(function)"
   ]
  },
  {
   "cell_type": "code",
   "execution_count": 48,
   "metadata": {},
   "outputs": [
    {
     "data": {
      "text/plain": [
       "function"
      ]
     },
     "execution_count": 48,
     "metadata": {},
     "output_type": "execute_result"
    }
   ],
   "source": [
    "type(functiondict)"
   ]
  },
  {
   "cell_type": "markdown",
   "metadata": {},
   "source": [
    "Por esta misma razón las funciones tienen las siguientes características en python:\n",
    "* Tienen un tipo como demostrado\n",
    "* Pueden ser utilizadas como parámetros para una funcion\n",
    "* Pueden ser utilizadas en expresiones\n",
    "* Pueden formar parte de los elementos en un contenedor (como un diccionario)"
   ]
  },
  {
   "cell_type": "code",
   "execution_count": 58,
   "metadata": {},
   "outputs": [
    {
     "name": "stdout",
     "output_type": "stream",
     "text": [
      "10\n",
      "1\n"
     ]
    }
   ],
   "source": [
    "#Comportamiento de objeto de una función\n",
    "maxie = max\n",
    "minnie = min\n",
    "\n",
    "n = [1,3,5,5,2,10]\n",
    "\n",
    "maxie(n)\n",
    "\n",
    "functions = [maxie, minnie]\n",
    "\n",
    "for i in functions:\n",
    "    print(i(n))"
   ]
  },
  {
   "cell_type": "code",
   "execution_count": 59,
   "metadata": {},
   "outputs": [],
   "source": [
    "#Funciones como parametros para otras funciones\n",
    "\n",
    "list1 = [1,2,4,324,223,1]\n",
    "list2 = [232,23,1,455,2]\n",
    "list3 = [223,180,293,1,4,2]\n",
    "\n",
    "listoflists = [list1,list2,list3]\n",
    "\n",
    "def foo(n, function):\n",
    "    for i in n:\n",
    "        print(function(i))\n",
    "        "
   ]
  },
  {
   "cell_type": "code",
   "execution_count": 60,
   "metadata": {},
   "outputs": [
    {
     "name": "stdout",
     "output_type": "stream",
     "text": [
      "324\n",
      "455\n",
      "293\n"
     ]
    }
   ],
   "source": [
    "#Utilizando max como el parámetro de la función foo\n",
    "foo(listoflists, max)"
   ]
  },
  {
   "cell_type": "markdown",
   "metadata": {},
   "source": [
    "### Funciones lambda o funciones anónimas\n",
    "\n",
    "Una función lambda es una función anónima en python. Esto significa que al definir la función no se le asigna un nombre específico. Estas son las características de una función lambda:\n",
    "\n",
    "* Una función lambda puede tomar varios argumentos pero puede retornar únicamente una expresión. \n",
    "* Pueden ser utilizadas como funciones anónimas dentro de otras funciones.\n",
    "* Las funciones lambda no necesitan un **return** para retornar un valor, implícitamente siempre retornan un valor.\n",
    "\n",
    "La sintáxis de una función lambda se compone de la siguiente manera:\n",
    "\n",
    "```\n",
    "lambda arguments: expression\n",
    "```\n",
    "\n",
    "La función lambda tiene la característica de tener un tiempo de ejecución comparativamente menor que una función normal creada utilizando **define**. Además pueden proveer la misma utilidad que una función regular.\n",
    "\n",
    "A continuación hay varios ejemplos utilizando funciones lambda\n"
   ]
  },
  {
   "cell_type": "code",
   "execution_count": 66,
   "metadata": {},
   "outputs": [
    {
     "data": {
      "text/plain": [
       "24"
      ]
     },
     "execution_count": 66,
     "metadata": {},
     "output_type": "execute_result"
    }
   ],
   "source": [
    "multiply = lambda a,b,c : a * b *c\n",
    "\n",
    "multiply(2,3,4)"
   ]
  },
  {
   "cell_type": "code",
   "execution_count": 64,
   "metadata": {},
   "outputs": [
    {
     "data": {
      "text/plain": [
       "400"
      ]
     },
     "execution_count": 64,
     "metadata": {},
     "output_type": "execute_result"
    }
   ],
   "source": [
    "def addfunction(n):\n",
    "    return lambda a: a + n\n",
    "\n",
    "result = addfunction(100)\n",
    "\n",
    "result(300)"
   ]
  }
 ],
 "metadata": {
  "kernelspec": {
   "display_name": "Python 3",
   "language": "python",
   "name": "python3"
  },
  "language_info": {
   "codemirror_mode": {
    "name": "ipython",
    "version": 3
   },
   "file_extension": ".py",
   "mimetype": "text/x-python",
   "name": "python",
   "nbconvert_exporter": "python",
   "pygments_lexer": "ipython3",
   "version": "3.7.3"
  }
 },
 "nbformat": 4,
 "nbformat_minor": 2
}
